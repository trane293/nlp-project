{
 "cells": [
  {
   "cell_type": "markdown",
   "metadata": {},
   "source": [
    "# <span style='color:orange'> Applying Machine Learning Classifiers to problem of Chunk Prediction <span>"
   ]
  },
  {
   "cell_type": "markdown",
   "metadata": {},
   "source": [
    "# Read the Chunking Training Dataset"
   ]
  },
  {
   "cell_type": "code",
   "execution_count": 1,
   "metadata": {},
   "outputs": [],
   "source": [
    "import pandas as pd\n",
    "from pandas.io.parsers import read_table"
   ]
  },
  {
   "cell_type": "code",
   "execution_count": 4,
   "metadata": {},
   "outputs": [],
   "source": [
    "train_text_table = read_table('./data/train.txt', header=None, delimiter=' ')"
   ]
  },
  {
   "cell_type": "code",
   "execution_count": 5,
   "metadata": {},
   "outputs": [
    {
     "data": {
      "text/html": [
       "<div>\n",
       "<style>\n",
       "    .dataframe thead tr:only-child th {\n",
       "        text-align: right;\n",
       "    }\n",
       "\n",
       "    .dataframe thead th {\n",
       "        text-align: left;\n",
       "    }\n",
       "\n",
       "    .dataframe tbody tr th {\n",
       "        vertical-align: top;\n",
       "    }\n",
       "</style>\n",
       "<table border=\"1\" class=\"dataframe\">\n",
       "  <thead>\n",
       "    <tr style=\"text-align: right;\">\n",
       "      <th></th>\n",
       "      <th>0</th>\n",
       "      <th>1</th>\n",
       "      <th>2</th>\n",
       "    </tr>\n",
       "  </thead>\n",
       "  <tbody>\n",
       "    <tr>\n",
       "      <th>0</th>\n",
       "      <td>Confidence</td>\n",
       "      <td>NN</td>\n",
       "      <td>B-NP</td>\n",
       "    </tr>\n",
       "    <tr>\n",
       "      <th>1</th>\n",
       "      <td>in</td>\n",
       "      <td>IN</td>\n",
       "      <td>B-PP</td>\n",
       "    </tr>\n",
       "    <tr>\n",
       "      <th>2</th>\n",
       "      <td>the</td>\n",
       "      <td>DT</td>\n",
       "      <td>B-NP</td>\n",
       "    </tr>\n",
       "    <tr>\n",
       "      <th>3</th>\n",
       "      <td>pound</td>\n",
       "      <td>NN</td>\n",
       "      <td>I-NP</td>\n",
       "    </tr>\n",
       "    <tr>\n",
       "      <th>4</th>\n",
       "      <td>is</td>\n",
       "      <td>VBZ</td>\n",
       "      <td>B-VP</td>\n",
       "    </tr>\n",
       "  </tbody>\n",
       "</table>\n",
       "</div>"
      ],
      "text/plain": [
       "            0    1     2\n",
       "0  Confidence   NN  B-NP\n",
       "1          in   IN  B-PP\n",
       "2         the   DT  B-NP\n",
       "3       pound   NN  I-NP\n",
       "4          is  VBZ  B-VP"
      ]
     },
     "execution_count": 5,
     "metadata": {},
     "output_type": "execute_result"
    }
   ],
   "source": [
    "train_text_table.head()"
   ]
  },
  {
   "cell_type": "markdown",
   "metadata": {},
   "source": [
    "# Generate the list which contains (word POS_tag) as strings"
   ]
  },
  {
   "cell_type": "code",
   "execution_count": 6,
   "metadata": {},
   "outputs": [],
   "source": [
    "train_word_list = []\n",
    "for i in range(len(train_text_table)):\n",
    "    train_word_list.append(train_text_table[0][i] + ' ' + train_text_table[1][i])"
   ]
  },
  {
   "cell_type": "code",
   "execution_count": 14,
   "metadata": {},
   "outputs": [
    {
     "data": {
      "text/plain": [
       "'in IN'"
      ]
     },
     "execution_count": 14,
     "metadata": {},
     "output_type": "execute_result"
    }
   ],
   "source": [
    "train_word_list[1]"
   ]
  },
  {
   "cell_type": "code",
   "execution_count": 8,
   "metadata": {},
   "outputs": [],
   "source": [
    "train_classes = train_text_table[2].tolist()"
   ]
  },
  {
   "cell_type": "code",
   "execution_count": 9,
   "metadata": {},
   "outputs": [
    {
     "data": {
      "text/plain": [
       "'B-NP'"
      ]
     },
     "execution_count": 9,
     "metadata": {},
     "output_type": "execute_result"
    }
   ],
   "source": [
    "train_classes[0]"
   ]
  },
  {
   "cell_type": "markdown",
   "metadata": {},
   "source": [
    "# Transform string = 'word POS_tag' into feature vector using token counts"
   ]
  },
  {
   "cell_type": "code",
   "execution_count": 10,
   "metadata": {},
   "outputs": [
    {
     "data": {
      "text/plain": [
       "(211727, 14867)"
      ]
     },
     "execution_count": 10,
     "metadata": {},
     "output_type": "execute_result"
    }
   ],
   "source": [
    "from sklearn.feature_extraction.text import CountVectorizer\n",
    "count_vect = CountVectorizer()\n",
    "X_train_counts = count_vect.fit_transform(train_word_list)\n",
    "X_train_counts.shape"
   ]
  },
  {
   "cell_type": "code",
   "execution_count": 15,
   "metadata": {},
   "outputs": [
    {
     "data": {
      "text/plain": [
       "6949"
      ]
     },
     "execution_count": 15,
     "metadata": {},
     "output_type": "execute_result"
    }
   ],
   "source": [
    "count_vect.vocabulary_.get(u'in')"
   ]
  },
  {
   "cell_type": "code",
   "execution_count": 16,
   "metadata": {},
   "outputs": [],
   "source": [
    "X_train_tfidf = X_train_counts"
   ]
  },
  {
   "cell_type": "markdown",
   "metadata": {},
   "source": [
    "# Convert Occurences to Frequencies\n",
    "Divide the number of occurrences of each word in a document by the total number of words in the document: these new features are called tf for Term Frequencies."
   ]
  },
  {
   "cell_type": "code",
   "execution_count": 42,
   "metadata": {},
   "outputs": [],
   "source": [
    "from sklearn.feature_extraction.text import TfidfTransformer"
   ]
  },
  {
   "cell_type": "code",
   "execution_count": null,
   "metadata": {},
   "outputs": [],
   "source": [
    "tfidf_transformer = TfidfTransformer()\n",
    "X_train_tfidf = tfidf_transformer.fit_transform(X_train_counts)\n",
    "X_train_tfidf.shape"
   ]
  },
  {
   "cell_type": "code",
   "execution_count": 23,
   "metadata": {},
   "outputs": [],
   "source": [
    "import numpy as np"
   ]
  },
  {
   "cell_type": "markdown",
   "metadata": {},
   "source": [
    "# Encode categorical labels (B-NP...) to integer values "
   ]
  },
  {
   "cell_type": "code",
   "execution_count": 17,
   "metadata": {},
   "outputs": [],
   "source": [
    "from sklearn.preprocessing import LabelEncoder"
   ]
  },
  {
   "cell_type": "code",
   "execution_count": 18,
   "metadata": {},
   "outputs": [],
   "source": [
    "le = LabelEncoder()"
   ]
  },
  {
   "cell_type": "code",
   "execution_count": 19,
   "metadata": {},
   "outputs": [],
   "source": [
    "int_train_targets = le.fit_transform(train_classes)"
   ]
  },
  {
   "cell_type": "code",
   "execution_count": 20,
   "metadata": {},
   "outputs": [
    {
     "data": {
      "text/plain": [
       "array([ 5,  6,  5, ..., 15,  1, 21])"
      ]
     },
     "execution_count": 20,
     "metadata": {},
     "output_type": "execute_result"
    }
   ],
   "source": [
    "int_train_targets"
   ]
  },
  {
   "cell_type": "code",
   "execution_count": 21,
   "metadata": {},
   "outputs": [
    {
     "data": {
      "text/plain": [
       "(211727,)"
      ]
     },
     "execution_count": 21,
     "metadata": {},
     "output_type": "execute_result"
    }
   ],
   "source": [
    "int_train_targets.shape"
   ]
  },
  {
   "cell_type": "code",
   "execution_count": 24,
   "metadata": {},
   "outputs": [
    {
     "name": "stdout",
     "output_type": "stream",
     "text": [
      "Training Data Ready...\n",
      "Shape of Testing Data: (211727, 14867)\n",
      "Shape of Testing Labels: (211727,)\n"
     ]
    }
   ],
   "source": [
    "print('Training Data Ready...')\n",
    "print('Shape of Testing Data: {}'.format(np.shape(X_train_tfidf)))\n",
    "print('Shape of Testing Labels: {}'.format(np.shape(int_train_targets)))"
   ]
  },
  {
   "cell_type": "markdown",
   "metadata": {},
   "source": [
    "# Load the Testing Data and prepare it for testing"
   ]
  },
  {
   "cell_type": "code",
   "execution_count": 27,
   "metadata": {},
   "outputs": [],
   "source": [
    "test_text_table = read_table('./data/reference250.txt', header=None, delimiter=' ')"
   ]
  },
  {
   "cell_type": "code",
   "execution_count": 28,
   "metadata": {},
   "outputs": [],
   "source": [
    "test_text_table = test_text_table.dropna()"
   ]
  },
  {
   "cell_type": "code",
   "execution_count": 29,
   "metadata": {},
   "outputs": [],
   "source": [
    "test_word_list = []\n",
    "for i in range(len(test_text_table)):\n",
    "    test_word_list.append(test_text_table[0][i] + ' ' + test_text_table[1][i])"
   ]
  },
  {
   "cell_type": "code",
   "execution_count": 30,
   "metadata": {},
   "outputs": [
    {
     "data": {
      "text/plain": [
       "'Rockwell NNP'"
      ]
     },
     "execution_count": 30,
     "metadata": {},
     "output_type": "execute_result"
    }
   ],
   "source": [
    "test_word_list[0]"
   ]
  },
  {
   "cell_type": "code",
   "execution_count": 31,
   "metadata": {},
   "outputs": [
    {
     "data": {
      "text/plain": [
       "(6002, 14867)"
      ]
     },
     "execution_count": 31,
     "metadata": {},
     "output_type": "execute_result"
    }
   ],
   "source": [
    "X_test_counts = count_vect.transform(test_word_list)\n",
    "X_test_counts.shape"
   ]
  },
  {
   "cell_type": "code",
   "execution_count": 33,
   "metadata": {},
   "outputs": [],
   "source": [
    "X_test_tfidf = X_test_counts"
   ]
  },
  {
   "cell_type": "code",
   "execution_count": null,
   "metadata": {},
   "outputs": [],
   "source": [
    "X_test_tfidf = tfidf_transformer.transform(X_test_counts)\n",
    "X_test_tfidf.shape"
   ]
  },
  {
   "cell_type": "code",
   "execution_count": 34,
   "metadata": {},
   "outputs": [],
   "source": [
    "test_classes = test_text_table[2].tolist()"
   ]
  },
  {
   "cell_type": "code",
   "execution_count": 35,
   "metadata": {},
   "outputs": [],
   "source": [
    "int_test_targets = le.transform(test_classes)"
   ]
  },
  {
   "cell_type": "code",
   "execution_count": 36,
   "metadata": {},
   "outputs": [
    {
     "name": "stdout",
     "output_type": "stream",
     "text": [
      "Testing Data Ready...\n",
      "Shape of Testing Data: (6002, 14867)\n",
      "Shape of Testing Labels: (6002,)\n"
     ]
    }
   ],
   "source": [
    "print('Testing Data Ready...')\n",
    "print('Shape of Testing Data: {}'.format(np.shape(X_test_tfidf)))\n",
    "print('Shape of Testing Labels: {}'.format(np.shape(int_test_targets)))"
   ]
  },
  {
   "cell_type": "markdown",
   "metadata": {},
   "source": [
    "# <span style='color:Green'> Training Classifiers </span>"
   ]
  },
  {
   "cell_type": "markdown",
   "metadata": {},
   "source": [
    "## <span style='color:red'> Naive Bayes </span>"
   ]
  },
  {
   "cell_type": "code",
   "execution_count": 37,
   "metadata": {},
   "outputs": [],
   "source": [
    "from sklearn.naive_bayes import MultinomialNB\n",
    "clf = MultinomialNB().fit(X_train_tfidf, int_train_targets)"
   ]
  },
  {
   "cell_type": "code",
   "execution_count": 38,
   "metadata": {},
   "outputs": [],
   "source": [
    "predicted = clf.predict(X_test_tfidf)\n"
   ]
  },
  {
   "cell_type": "code",
   "execution_count": 39,
   "metadata": {},
   "outputs": [
    {
     "name": "stdout",
     "output_type": "stream",
     "text": [
      "             precision    recall  f1-score   support\n",
      "\n",
      "     B-ADJP       0.80      0.08      0.14        53\n",
      "     B-ADVP       0.47      0.83      0.60        96\n",
      "    B-CONJP       0.00      0.00      0.00         2\n",
      "     B-INTJ       0.89      0.69      0.78      1583\n",
      "      B-LST       0.84      0.99      0.91       626\n",
      "       B-NP       1.00      0.10      0.18        10\n",
      "       B-PP       0.83      0.68      0.75        50\n",
      "      B-PRT       0.89      0.83      0.86       577\n",
      "     B-SBAR       0.00      0.00      0.00        27\n",
      "      B-UCP       0.00      0.00      0.00        12\n",
      "       B-VP       0.00      0.00      0.00         1\n",
      "     I-ADJP       0.58      0.89      0.70      1877\n",
      "     I-ADVP       0.00      0.00      0.00         5\n",
      "    I-CONJP       0.00      0.00      0.00         2\n",
      "     I-INTJ       0.73      0.67      0.69       273\n",
      "       I-NP       0.62      0.13      0.22       808\n",
      "\n",
      "avg / total       0.73      0.71      0.68      6002\n",
      "\n",
      "Accuracy: 71.0763078974%\n"
     ]
    },
    {
     "name": "stderr",
     "output_type": "stream",
     "text": [
      "/grad/3/asa224/.virtualenvs/nlp/local/lib/python2.7/site-packages/sklearn/metrics/classification.py:1428: UserWarning: labels size, 16, does not match size of target_names, 22\n",
      "  .format(len(labels), len(target_names))\n",
      "/grad/3/asa224/.virtualenvs/nlp/local/lib/python2.7/site-packages/sklearn/metrics/classification.py:1135: UndefinedMetricWarning: Precision and F-score are ill-defined and being set to 0.0 in labels with no predicted samples.\n",
      "  'precision', 'predicted', average, warn_for)\n"
     ]
    }
   ],
   "source": [
    "from sklearn import metrics\n",
    "print(metrics.classification_report(int_test_targets, predicted,\n",
    "    target_names=le.classes_))\n",
    "print('Accuracy: {}%'.format(metrics.accuracy_score(int_test_targets, predicted)*100))"
   ]
  },
  {
   "cell_type": "markdown",
   "metadata": {},
   "source": [
    "## <span style='color:red'> Support Vector Machine </span>"
   ]
  },
  {
   "cell_type": "code",
   "execution_count": 43,
   "metadata": {},
   "outputs": [
    {
     "name": "stdout",
     "output_type": "stream",
     "text": [
      "             precision    recall  f1-score   support\n",
      "\n",
      "     B-ADJP       0.25      0.04      0.07        53\n",
      "     B-ADVP       0.63      0.67      0.65        96\n",
      "    B-CONJP       0.00      0.00      0.00         2\n",
      "     B-INTJ       0.92      0.64      0.75      1583\n",
      "      B-LST       0.85      0.98      0.91       626\n",
      "       B-NP       0.45      0.50      0.48        10\n",
      "       B-PP       0.79      0.68      0.73        50\n",
      "      B-PRT       0.91      0.84      0.87       577\n",
      "     B-SBAR       0.00      0.00      0.00        27\n",
      "      B-UCP       0.50      0.17      0.25        12\n",
      "       B-VP       0.00      0.00      0.00         1\n",
      "     I-ADJP       0.75      0.89      0.81      1877\n",
      "     I-ADVP       0.00      0.00      0.00         5\n",
      "    I-CONJP       0.00      0.00      0.00         2\n",
      "     I-INTJ       0.70      0.72      0.71       273\n",
      "       I-NP       0.82      0.97      0.89       808\n",
      "\n",
      "avg / total       0.82      0.81      0.80      6002\n",
      "\n",
      "Accuracy: 81.1729423525%\n"
     ]
    }
   ],
   "source": [
    "import numpy as np\n",
    "from sklearn.pipeline import Pipeline\n",
    "from sklearn.linear_model import SGDClassifier\n",
    "text_clf = Pipeline([('vect', CountVectorizer()),\n",
    "                     ('tfidf', TfidfTransformer()),\n",
    "                     ('clf', SGDClassifier(loss='hinge', penalty='l2',\n",
    "                                           alpha=1e-4, random_state=25,\n",
    "                                           max_iter=4, tol=None, n_jobs=8)),\n",
    "])\n",
    "text_clf.fit(train_word_list, int_train_targets)  \n",
    "\n",
    "predicted = text_clf.predict(test_word_list)\n",
    "np.mean(predicted == int_test_targets)            \n",
    "print(metrics.classification_report(int_test_targets, predicted,\n",
    "    target_names=le.classes_))\n",
    "metrics.confusion_matrix(int_test_targets, predicted)\n",
    "\n",
    "print('Accuracy: {}%'.format(metrics.accuracy_score(int_test_targets, predicted)*100))"
   ]
  },
  {
   "cell_type": "code",
   "execution_count": null,
   "metadata": {},
   "outputs": [
    {
     "name": "stderr",
     "output_type": "stream",
     "text": [
      "/grad/3/asa224/.virtualenvs/nlp/local/lib/python2.7/site-packages/sklearn/model_selection/_split.py:597: Warning: The least populated class in y has only 2 members, which is too few. The minimum number of members in any class cannot be less than n_splits=3.\n",
      "  % (min_groups, self.n_splits)), Warning)\n"
     ]
    }
   ],
   "source": [
    "from sklearn.svm import SVC\n",
    "from sklearn.model_selection import GridSearchCV\n",
    "C_range = np.logspace(-2, 10, 13)\n",
    "gamma_range = np.logspace(-9, 3, 13)\n",
    "param_grid = dict(gamma=gamma_range, C=C_range)\n",
    "\n",
    "grid = GridSearchCV(SVC(), param_grid=param_grid)\n",
    "grid.fit(X_train_tfidf, int_train_targets)"
   ]
  },
  {
   "cell_type": "code",
   "execution_count": null,
   "metadata": {},
   "outputs": [],
   "source": [
    "from sklearn import svm, datasets\n",
    "from sklearn.model_selection import GridSearchCV\n",
    "parameters = {'kernel':('linear', 'rbf'), 'C':[1, 10, 20]}\n",
    "svc = svm.SVC()\n",
    "clf = GridSearchCV(svc, parameters)\n",
    "clf.fit(X_train_tfidf, int_train_targets)\n",
    "sorted(clf.cv_results_.keys())"
   ]
  },
  {
   "cell_type": "code",
   "execution_count": 45,
   "metadata": {},
   "outputs": [
    {
     "name": "stdout",
     "output_type": "stream",
     "text": [
      "[  5.35817177e-06   2.57644814e-04   5.46220577e-06 ...,   6.06758083e-07\n",
      "   3.90054266e-06   8.98451057e-06]\n",
      "             precision    recall  f1-score   support\n",
      "\n",
      "     B-ADJP       0.45      0.38      0.41        53\n",
      "     B-ADVP       0.59      0.72      0.65        96\n",
      "    B-CONJP       0.00      0.00      0.00         2\n",
      "     B-INTJ       0.00      0.00      0.00         0\n",
      "      B-LST       0.82      0.74      0.78      1583\n",
      "       B-NP       0.85      0.98      0.91       626\n",
      "       B-PP       0.45      0.50      0.48        10\n",
      "      B-PRT       0.79      0.68      0.73        50\n",
      "     B-SBAR       0.93      0.82      0.87       577\n",
      "      B-UCP       0.00      0.00      0.00        27\n",
      "       B-VP       0.33      0.08      0.13        12\n",
      "     I-ADJP       0.00      0.00      0.00         1\n",
      "     I-ADVP       0.79      0.81      0.80      1877\n",
      "    I-CONJP       0.00      0.00      0.00         5\n",
      "     I-INTJ       0.00      0.00      0.00         2\n",
      "       I-NP       0.73      0.62      0.67       273\n",
      "       I-PP       0.83      0.97      0.90       808\n",
      "\n",
      "avg / total       0.81      0.81      0.80      6002\n",
      "\n",
      "Accuracy: 80.98967011%\n"
     ]
    }
   ],
   "source": [
    "from sklearn.ensemble import RandomForestClassifier\n",
    "\n",
    "clf = RandomForestClassifier(n_estimators=100, random_state=0, n_jobs=10)\n",
    "clf.fit(X_train_tfidf, int_train_targets)\n",
    "\n",
    "print(clf.feature_importances_)\n",
    "predicted = clf.predict(X_test_tfidf)\n",
    "print(metrics.classification_report(int_test_targets, predicted,\n",
    "    target_names=le.classes_))\n",
    "metrics.confusion_matrix(int_test_targets, predicted)\n",
    "\n",
    "print('Accuracy: {}%'.format(metrics.accuracy_score(int_test_targets, predicted)*100))"
   ]
  },
  {
   "cell_type": "markdown",
   "metadata": {},
   "source": [
    "## Perform sliding window operation on data for trigrams"
   ]
  },
  {
   "cell_type": "code",
   "execution_count": null,
   "metadata": {},
   "outputs": [],
   "source": [
    "train_word_list.insert(0, '* TP')\n",
    "train_word_list.append('* TP')\n",
    "\n",
    "test_word_list.insert(0, '* TP')\n",
    "test_word_list.append('* TP')"
   ]
  },
  {
   "cell_type": "code",
   "execution_count": null,
   "metadata": {},
   "outputs": [],
   "source": [
    "train_classes.insert(0, 'O')\n",
    "train_classes.append('O')\n",
    "\n",
    "test_classes.insert(0, 'O')\n",
    "test_classes.append('O')"
   ]
  },
  {
   "cell_type": "code",
   "execution_count": null,
   "metadata": {},
   "outputs": [],
   "source": [
    "def nGramSequenceGenerator(labelledlist, labels, n):\n",
    "    \"\"\"\n",
    "    Takes as input the label list of tuples generated by the code above. \n",
    "    The function generates sequence of size \"n\" from the given list. \n",
    "    \"\"\"\n",
    "    count = len(labelledlist)/n\n",
    "    ngrammedlist = []\n",
    "    ngrammedlabels = []\n",
    "    for i in range(count):\n",
    "        ngrammedlist.append( ' '.join(labelledlist[i : i + n]))\n",
    "        ngrammedlabels.append(labels[ int(np.floor((2.0*i + n)/2.0))])\n",
    "    return ngrammedlist, ngrammedlabels"
   ]
  },
  {
   "cell_type": "code",
   "execution_count": null,
   "metadata": {},
   "outputs": [],
   "source": [
    "train_ng_list, train_ng_labels = nGramSequenceGenerator(train_word_list,train_classes, 3)\n",
    "test_ng_list, test_ng_labels = nGramSequenceGenerator(test_word_list,test_classes, 3)"
   ]
  },
  {
   "cell_type": "code",
   "execution_count": null,
   "metadata": {},
   "outputs": [],
   "source": [
    "train_ng_list[0]"
   ]
  },
  {
   "cell_type": "code",
   "execution_count": null,
   "metadata": {},
   "outputs": [],
   "source": [
    "le = LabelEncoder()\n",
    "int_train_ng_labels = le.fit_transform(train_ng_labels)\n",
    "int_test_ng_labels = le.transform(test_ng_labels)"
   ]
  },
  {
   "cell_type": "code",
   "execution_count": null,
   "metadata": {},
   "outputs": [],
   "source": [
    "test_ng_list[0]"
   ]
  },
  {
   "cell_type": "markdown",
   "metadata": {},
   "source": [
    "### This is the original"
   ]
  },
  {
   "cell_type": "code",
   "execution_count": null,
   "metadata": {},
   "outputs": [],
   "source": [
    "for i in range(0,20):\n",
    "    print(train_word_list[i], train_classes[i])"
   ]
  },
  {
   "cell_type": "markdown",
   "metadata": {},
   "source": [
    "### This after ngramming"
   ]
  },
  {
   "cell_type": "code",
   "execution_count": null,
   "metadata": {
    "scrolled": true
   },
   "outputs": [],
   "source": [
    "for i in range(0,20):\n",
    "    print(ng_list[i], ng_labels[i])"
   ]
  },
  {
   "cell_type": "code",
   "execution_count": null,
   "metadata": {},
   "outputs": [],
   "source": [
    "text_clf.fit(train_ng_list, int_train_ng_labels) "
   ]
  },
  {
   "cell_type": "code",
   "execution_count": null,
   "metadata": {},
   "outputs": [],
   "source": [
    "predicted = text_clf.predict(test_ng_list)\n",
    "np.mean(predicted == int_test_ng_labels)            \n",
    "print(metrics.classification_report(int_test_ng_labels, predicted,\n",
    "    target_names=le.classes_))\n",
    "metrics.confusion_matrix(int_test_ng_labels, predicted)\n",
    "\n",
    "print('Accuracy: {}%'.format(metrics.accuracy_score(int_test_ng_labels, predicted)*100))"
   ]
  },
  {
   "cell_type": "code",
   "execution_count": null,
   "metadata": {},
   "outputs": [],
   "source": [
    "text_clf.named_steps['vect']"
   ]
  },
  {
   "cell_type": "code",
   "execution_count": null,
   "metadata": {},
   "outputs": [],
   "source": [
    "for i in range(0,20):\n",
    "    print(predicted[i])"
   ]
  },
  {
   "cell_type": "code",
   "execution_count": null,
   "metadata": {},
   "outputs": [],
   "source": []
  }
 ],
 "metadata": {
  "kernelspec": {
   "display_name": "Python 2",
   "language": "python",
   "name": "python2"
  },
  "language_info": {
   "codemirror_mode": {
    "name": "ipython",
    "version": 2
   },
   "file_extension": ".py",
   "mimetype": "text/x-python",
   "name": "python",
   "nbconvert_exporter": "python",
   "pygments_lexer": "ipython2",
   "version": "2.7.12"
  }
 },
 "nbformat": 4,
 "nbformat_minor": 2
}
