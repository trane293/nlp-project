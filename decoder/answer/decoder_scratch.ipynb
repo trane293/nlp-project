{
 "cells": [
  {
   "cell_type": "code",
   "execution_count": 241,
   "metadata": {
    "scrolled": true
   },
   "outputs": [
    {
     "name": "stderr",
     "output_type": "stream",
     "text": [
      "Reading translation model from ../data/tm...\n",
      "Reading language model from ../data/lm...\n"
     ]
    }
   ],
   "source": [
    "import models\n",
    "import itertools\n",
    "from copy import deepcopy\n",
    "# 4 seems to be the general idea. Could be different. Need to find out\n",
    "d = distortion_limit = 4\n",
    "\n",
    "# Start working on a single sentence generalize later\n",
    "sentence_orig = \"honorables sénateurs , que se est - il passé ici , mardi dernier ?\"\n",
    "sentence = sentence_orig.split(' ')\n",
    "\n",
    "# Get a translation for each set of words using tm\n",
    "tm = models.TM(\"../data/tm\", 1)\n",
    "lm = models.LM(\"../data/lm\")\n",
    "\n",
    "sc_P = []\n",
    "\n",
    "for i in range(0, len(sentence)):\n",
    "    for j in range(i, len(sentence)):\n",
    "        if i == j:\n",
    "            subset = (sentence[i],)\n",
    "        else:\n",
    "            subset = tuple(sentence[i:j+1])\n",
    "        try:\n",
    "            tm_output = tm[subset]\n",
    "            sc_P.append((i, j, tm_output[0]))\n",
    "        except KeyError:\n",
    "            continue\n",
    "            "
   ]
  },
  {
   "cell_type": "code",
   "execution_count": 242,
   "metadata": {},
   "outputs": [
    {
     "data": {
      "text/plain": [
       "[(0, 0, phrase(english='honourable', logprob=0.0)),\n",
       " (1, 1, phrase(english='senators', logprob=-0.124938733876)),\n",
       " (1, 2, phrase(english='senators ,', logprob=-0.176091253757)),\n",
       " (2, 2, phrase(english=',', logprob=-0.0358480773866)),\n",
       " (2, 3, phrase(english=', that', logprob=-0.195274576545)),\n",
       " (2, 4, phrase(english=', that if', logprob=0.0)),\n",
       " (2, 7, phrase(english=', what', logprob=0.0)),\n",
       " (2, 8, phrase(english=', what happened', logprob=0.0)),\n",
       " (3, 3, phrase(english='that', logprob=-0.154812589288)),\n",
       " (3, 4, phrase(english='that if', logprob=-0.412180453539)),\n",
       " (3, 5, phrase(english='what has', logprob=-0.301030009985)),\n",
       " (3, 7, phrase(english='what', logprob=0.0)),\n",
       " (3, 8, phrase(english='what happened', logprob=-0.176091253757)),\n",
       " (4, 4, phrase(english='is', logprob=-0.628903687)),\n",
       " (4, 5, phrase(english='has', logprob=-0.39545121789)),\n",
       " (4, 6, phrase(english='did', logprob=0.0)),\n",
       " (4, 7, phrase(english='come he did', logprob=-0.301030009985)),\n",
       " (4, 8, phrase(english='has happened', logprob=0.0)),\n",
       " (5, 5, phrase(english='is', logprob=-0.0662267655134)),\n",
       " (5, 6, phrase(english='is', logprob=-0.307978868484)),\n",
       " (5, 7, phrase(english='is it', logprob=-0.219359949231)),\n",
       " (6, 6, phrase(english='-', logprob=-0.0898769646883)),\n",
       " (6, 7, phrase(english='is it', logprob=-0.328353136778)),\n",
       " (7, 7, phrase(english='it', logprob=-0.396981835365)),\n",
       " (8, 8, phrase(english='past', logprob=-0.236418694258)),\n",
       " (9, 9, phrase(english='here', logprob=-0.179900884628)),\n",
       " (9, 10, phrase(english='here ,', logprob=-0.163856804371)),\n",
       " (10, 10, phrase(english=',', logprob=-0.0358480773866)),\n",
       " (10, 12, phrase(english=', last Tuesday', logprob=0.0)),\n",
       " (11, 11, phrase(english='Tuesday', logprob=-0.00599036365747)),\n",
       " (11, 12, phrase(english='last Tuesday', logprob=-0.176091253757)),\n",
       " (12, 12, phrase(english='last', logprob=-0.129672244191)),\n",
       " (13, 13, phrase(english='?', logprob=-0.000198262714548))]"
      ]
     },
     "execution_count": 242,
     "metadata": {},
     "output_type": "execute_result"
    }
   ],
   "source": [
    "sc_P"
   ]
  },
  {
   "cell_type": "markdown",
   "metadata": {},
   "source": [
    "# Let's start building helper functions"
   ]
  },
  {
   "cell_type": "code",
   "execution_count": 243,
   "metadata": {},
   "outputs": [],
   "source": [
    "from collections import namedtuple"
   ]
  },
  {
   "cell_type": "code",
   "execution_count": 244,
   "metadata": {},
   "outputs": [],
   "source": [
    "# define bitstring as a list of zeros\n",
    "bitstring = [0]*len(sentence)\n",
    "\n",
    "# define a numedtuple which will be the state vector q\n",
    "State = namedtuple('State',\"e1 e2 bitstring r alpha\")\n",
    "\n",
    "# this is a container that will hold all states\n",
    "state_holder = {}\n",
    "\n",
    "# initial state\n",
    "q0 = State('<s>', '<s>', bitstring, 0, 0)\n",
    "\n",
    "# append initial state to state_holder\n",
    "state_holder[0] = [q0]\n",
    "\n",
    "def ph(q, d=4):\n",
    "    ph_states = []\n",
    "    for state in sc_P:\n",
    "        flag = True # we assume it as a valid state\n",
    "        s = state[0]\n",
    "        t = state[1]\n",
    "\n",
    "        orig_bitstring = q.bitstring\n",
    "        \n",
    "        '''\n",
    "        Step 1: Ensure bit string is not overlapped\n",
    "        '''\n",
    "        if s == t:\n",
    "            # invalid state\n",
    "            if orig_bitstring[s] != 0:\n",
    "                flag = False\n",
    "        else:\n",
    "            # individial bits s and t are 0, but we also have to check in between them\n",
    "            if orig_bitstring[s] == 0 and orig_bitstring[t] == 0:\n",
    "                for _num in range(s, t+1):\n",
    "                    if orig_bitstring[_num] != 0:\n",
    "                        flag = False\n",
    "            else:\n",
    "                flag = False\n",
    "        \n",
    "        '''\n",
    "        Step 2: Ensure distortion limit is still obeyed\n",
    "        '''\n",
    "        \n",
    "        r = q.r\n",
    "        \n",
    "        if not (abs(r + 1 - s) <= d):\n",
    "            flag = False\n",
    "    \n",
    "        if flag == True:\n",
    "            ph_states.append(state)\n",
    "            \n",
    "    return ph_states"
   ]
  },
  {
   "cell_type": "code",
   "execution_count": 245,
   "metadata": {},
   "outputs": [
    {
     "data": {
      "text/plain": [
       "[(0, 0, phrase(english='honourable', logprob=0.0)),\n",
       " (1, 1, phrase(english='senators', logprob=-0.124938733876)),\n",
       " (1, 2, phrase(english='senators ,', logprob=-0.176091253757)),\n",
       " (2, 2, phrase(english=',', logprob=-0.0358480773866)),\n",
       " (2, 3, phrase(english=', that', logprob=-0.195274576545)),\n",
       " (2, 4, phrase(english=', that if', logprob=0.0)),\n",
       " (2, 7, phrase(english=', what', logprob=0.0)),\n",
       " (2, 8, phrase(english=', what happened', logprob=0.0)),\n",
       " (3, 3, phrase(english='that', logprob=-0.154812589288)),\n",
       " (3, 4, phrase(english='that if', logprob=-0.412180453539)),\n",
       " (3, 5, phrase(english='what has', logprob=-0.301030009985)),\n",
       " (3, 7, phrase(english='what', logprob=0.0)),\n",
       " (3, 8, phrase(english='what happened', logprob=-0.176091253757)),\n",
       " (4, 4, phrase(english='is', logprob=-0.628903687)),\n",
       " (4, 5, phrase(english='has', logprob=-0.39545121789)),\n",
       " (4, 6, phrase(english='did', logprob=0.0)),\n",
       " (4, 7, phrase(english='come he did', logprob=-0.301030009985)),\n",
       " (4, 8, phrase(english='has happened', logprob=0.0)),\n",
       " (5, 5, phrase(english='is', logprob=-0.0662267655134)),\n",
       " (5, 6, phrase(english='is', logprob=-0.307978868484)),\n",
       " (5, 7, phrase(english='is it', logprob=-0.219359949231))]"
      ]
     },
     "execution_count": 245,
     "metadata": {},
     "output_type": "execute_result"
    }
   ],
   "source": [
    "ph(q0)"
   ]
  },
  {
   "cell_type": "markdown",
   "metadata": {},
   "source": [
    "# The $next()$ function"
   ]
  },
  {
   "cell_type": "code",
   "execution_count": 246,
   "metadata": {},
   "outputs": [],
   "source": [
    "def next(q, p, eta=-1):\n",
    "    s = p[0]\n",
    "    t = p[1]\n",
    "\n",
    "    num_translated_words = len(p[2].english.split(' '))\n",
    "\n",
    "    if num_translated_words >= 2:\n",
    "        last_word = p[2].english.split(' ')[-1]\n",
    "        second_last = p[2].english.split(' ')[-2]\n",
    "    elif num_translated_words == 1:\n",
    "        last_word = p[2].english.split(' ')[-1]\n",
    "        second_last = q.e2\n",
    "\n",
    "    # Calculate new_bitstring\n",
    "\n",
    "    new_bitstring = deepcopy(q.bitstring)\n",
    "\n",
    "    for i in range(s, t+1):\n",
    "        # just a safeguard..check whether earlier these values were zeros or not\n",
    "\n",
    "        if q.bitstring[i] == 1:\n",
    "            print('MAJOR ERROR!')\n",
    "            print('The Ph(q) function has issues if you can read this...')\n",
    "        new_bitstring[i] = 1\n",
    "\n",
    "    '''\n",
    "    Calculate new logprob (alpha value)\n",
    "    '''\n",
    "\n",
    "    # CALCULATE LANGUAGE MODEL PROBABILITY\n",
    "\n",
    "    e1 = q.e1\n",
    "    e2 = q.e2\n",
    "    prob = 0\n",
    "    if len(p[2].english.split(' ')) == 1: # just a single word\n",
    "#         print('Single english word')\n",
    "        # first try bigram probability\n",
    "        word = p[2].english.split(' ')[0]\n",
    "#         print('\\n\\tFinding probability of {}, {}, {}'.format(e1, e2, word))\n",
    "        try:\n",
    "    #         print('Finding probability of {}, {}, {}'.format(e1, e2, word))\n",
    "            # the index 1 contains the logprob, 0 index contains the repeated state\n",
    "            prob += lm.score((e1, e2), word)[1]\n",
    "        except KeyError:\n",
    "#             print(\"\\t\\tCouldn't find trigram prob..backing off to bigram\")\n",
    "            try:\n",
    "#                 print('\\t\\t\\tFinding probability of {}, {}'.format(e2, word))\n",
    "                prob += lm.score((e2, ), word)[1]\n",
    "            except KeyError:\n",
    "                prob = -5.0\n",
    "                print(\"\\t\\t\\t\\tCould not find either trigram or bigram probability..\")\n",
    "    else: # there are multiple words\n",
    "#         print('Multiple english words')\n",
    "        for _num in range(0, len(p[2].english.split(' '))):\n",
    "            word = p[2].english.split(' ')[_num]\n",
    "#             print('\\n\\tFinding probability of {}, {}, {}'.format(e1, e2, word))\n",
    "            try:\n",
    "                prob += lm.score((e1, e2), word)[1]\n",
    "            except KeyError:\n",
    "#                 print(\"\\t\\tCouldn't find trigram prob..backing off to bigram\")\n",
    "                try:\n",
    "#                     print('\\t\\t\\tFinding probability of {}, {}'.format(e2, word))\n",
    "                    prob += lm.score((e2, ), word)[1]\n",
    "                except KeyError:\n",
    "                    prob = -5.0\n",
    "                    print(\"\\t\\t\\t\\tCould not find either trigram or bigram probability..\")\n",
    "\n",
    "            e1 = deepcopy(e2)\n",
    "            e2 = deepcopy(word)\n",
    "\n",
    "    # CALCULATE G(x) LOGPROB\n",
    "\n",
    "    g_x = p[2].logprob\n",
    "\n",
    "    # CALCULATE DISTORTION VALUE\n",
    "    dist_val = eta * abs(q.r + 1 - s)\n",
    "\n",
    "    # UPDATE ALPHA VALUE\n",
    "\n",
    "    new_alpha = q.alpha + prob + dist_val\n",
    "\n",
    "    new_state = State(e1=second_last, e2=last_word, bitstring=new_bitstring, r=p[1], alpha=new_alpha)\n",
    "    return new_state"
   ]
  },
  {
   "cell_type": "markdown",
   "metadata": {},
   "source": [
    "# The $eq(q1, q2)$ function"
   ]
  },
  {
   "cell_type": "code",
   "execution_count": 247,
   "metadata": {},
   "outputs": [],
   "source": [
    "def eq(q1, q2):\n",
    "    if q1.e1 != q2.e1:\n",
    "        return False\n",
    "    elif q1.e2 != q2.e2:\n",
    "        return False\n",
    "    elif q1.bitstring != q2.bitstring:\n",
    "        return False\n",
    "    elif q1.r != q2.r:\n",
    "        return False\n",
    "    else:\n",
    "        return True"
   ]
  },
  {
   "cell_type": "code",
   "execution_count": 248,
   "metadata": {},
   "outputs": [],
   "source": [
    "import numpy as np"
   ]
  },
  {
   "cell_type": "code",
   "execution_count": 250,
   "metadata": {},
   "outputs": [],
   "source": [
    "def add(Q_main, index, q_new, q, valid_phrase, back_pointer):\n",
    "    for q_dd in Q_main[index]: # q double dash\n",
    "        if eq(q_new, q_dd) == True:\n",
    "            if q_new.alpha > q_dd.alpha: # score of new thing is greater than older\n",
    "                Q_main[index].remove(q_dd)\n",
    "                Q_main[index].append(q_new)\n",
    "                back_pointer[q_new.r] = (q.r, valid_phrase)\n",
    "                return\n",
    "            else:\n",
    "                return\n",
    "    Q_main[index].append(q_new)\n",
    "    back_pointer[q_new.r] = (q.r, valid_phrase)\n",
    "    return"
   ]
  },
  {
   "cell_type": "code",
   "execution_count": 251,
   "metadata": {},
   "outputs": [],
   "source": [
    "def beam(Q_main, index, beam_width=5):\n",
    "    running_max = 0\n",
    "    \n",
    "    # find the highest scoring state in the set\n",
    "    for q in Q_main[index]:\n",
    "        if q.alpha > running_max:\n",
    "            running_max = q.alpha\n",
    "            curr_max_state = q\n",
    "    \n",
    "    final_beam = running_max - beam_width\n",
    "    \n",
    "    for q in Q_main[index]:\n",
    "        if q.alpha < final_beam:\n",
    "            Q_main[index].remove(q)\n",
    "            \n",
    "    return Q_main[index]"
   ]
  },
  {
   "cell_type": "code",
   "execution_count": 252,
   "metadata": {},
   "outputs": [
    {
     "data": {
      "text/plain": [
       "['honorables',\n",
       " 's\\xc3\\xa9nateurs',\n",
       " ',',\n",
       " 'que',\n",
       " 'se',\n",
       " 'est',\n",
       " '-',\n",
       " 'il',\n",
       " 'pass\\xc3\\xa9',\n",
       " 'ici',\n",
       " ',',\n",
       " 'mardi',\n",
       " 'dernier',\n",
       " '?']"
      ]
     },
     "execution_count": 252,
     "metadata": {},
     "output_type": "execute_result"
    }
   ],
   "source": [
    "sentence"
   ]
  },
  {
   "cell_type": "code",
   "execution_count": 253,
   "metadata": {},
   "outputs": [],
   "source": [
    "q0 = State('<s>', '<s>', bitstring, 0, 0)"
   ]
  },
  {
   "cell_type": "code",
   "execution_count": 254,
   "metadata": {},
   "outputs": [
    {
     "data": {
      "text/plain": [
       "[(0, 0, phrase(english='honourable', logprob=0.0)),\n",
       " (1, 1, phrase(english='senators', logprob=-0.124938733876)),\n",
       " (1, 2, phrase(english='senators ,', logprob=-0.176091253757)),\n",
       " (2, 2, phrase(english=',', logprob=-0.0358480773866)),\n",
       " (2, 3, phrase(english=', that', logprob=-0.195274576545)),\n",
       " (2, 4, phrase(english=', that if', logprob=0.0)),\n",
       " (2, 7, phrase(english=', what', logprob=0.0)),\n",
       " (2, 8, phrase(english=', what happened', logprob=0.0)),\n",
       " (3, 3, phrase(english='that', logprob=-0.154812589288)),\n",
       " (3, 4, phrase(english='that if', logprob=-0.412180453539)),\n",
       " (3, 5, phrase(english='what has', logprob=-0.301030009985)),\n",
       " (3, 7, phrase(english='what', logprob=0.0)),\n",
       " (3, 8, phrase(english='what happened', logprob=-0.176091253757)),\n",
       " (4, 4, phrase(english='is', logprob=-0.628903687)),\n",
       " (4, 5, phrase(english='has', logprob=-0.39545121789)),\n",
       " (4, 6, phrase(english='did', logprob=0.0)),\n",
       " (4, 7, phrase(english='come he did', logprob=-0.301030009985)),\n",
       " (4, 8, phrase(english='has happened', logprob=0.0)),\n",
       " (5, 5, phrase(english='is', logprob=-0.0662267655134)),\n",
       " (5, 6, phrase(english='is', logprob=-0.307978868484)),\n",
       " (5, 7, phrase(english='is it', logprob=-0.219359949231)),\n",
       " (6, 6, phrase(english='-', logprob=-0.0898769646883)),\n",
       " (6, 7, phrase(english='is it', logprob=-0.328353136778)),\n",
       " (7, 7, phrase(english='it', logprob=-0.396981835365)),\n",
       " (8, 8, phrase(english='past', logprob=-0.236418694258)),\n",
       " (9, 9, phrase(english='here', logprob=-0.179900884628)),\n",
       " (9, 10, phrase(english='here ,', logprob=-0.163856804371)),\n",
       " (10, 10, phrase(english=',', logprob=-0.0358480773866)),\n",
       " (10, 12, phrase(english=', last Tuesday', logprob=0.0)),\n",
       " (11, 11, phrase(english='Tuesday', logprob=-0.00599036365747)),\n",
       " (11, 12, phrase(english='last Tuesday', logprob=-0.176091253757)),\n",
       " (12, 12, phrase(english='last', logprob=-0.129672244191)),\n",
       " (13, 13, phrase(english='?', logprob=-0.000198262714548))]"
      ]
     },
     "execution_count": 254,
     "metadata": {},
     "output_type": "execute_result"
    }
   ],
   "source": [
    "sc_P"
   ]
  },
  {
   "cell_type": "code",
   "execution_count": 255,
   "metadata": {},
   "outputs": [
    {
     "data": {
      "text/plain": [
       "[(0, 0, phrase(english='honourable', logprob=0.0)),\n",
       " (1, 1, phrase(english='senators', logprob=-0.124938733876)),\n",
       " (1, 2, phrase(english='senators ,', logprob=-0.176091253757)),\n",
       " (2, 2, phrase(english=',', logprob=-0.0358480773866)),\n",
       " (2, 3, phrase(english=', that', logprob=-0.195274576545)),\n",
       " (2, 4, phrase(english=', that if', logprob=0.0)),\n",
       " (2, 7, phrase(english=', what', logprob=0.0)),\n",
       " (2, 8, phrase(english=', what happened', logprob=0.0)),\n",
       " (3, 3, phrase(english='that', logprob=-0.154812589288)),\n",
       " (3, 4, phrase(english='that if', logprob=-0.412180453539)),\n",
       " (3, 5, phrase(english='what has', logprob=-0.301030009985)),\n",
       " (3, 7, phrase(english='what', logprob=0.0)),\n",
       " (3, 8, phrase(english='what happened', logprob=-0.176091253757)),\n",
       " (4, 4, phrase(english='is', logprob=-0.628903687)),\n",
       " (4, 5, phrase(english='has', logprob=-0.39545121789)),\n",
       " (4, 6, phrase(english='did', logprob=0.0)),\n",
       " (4, 7, phrase(english='come he did', logprob=-0.301030009985)),\n",
       " (4, 8, phrase(english='has happened', logprob=0.0)),\n",
       " (5, 5, phrase(english='is', logprob=-0.0662267655134)),\n",
       " (5, 6, phrase(english='is', logprob=-0.307978868484)),\n",
       " (5, 7, phrase(english='is it', logprob=-0.219359949231))]"
      ]
     },
     "execution_count": 255,
     "metadata": {},
     "output_type": "execute_result"
    }
   ],
   "source": [
    "ph(q0)"
   ]
  },
  {
   "cell_type": "code",
   "execution_count": 265,
   "metadata": {},
   "outputs": [],
   "source": [
    "q0 = State('<s>', '<s>', bitstring, 0, 0)\n",
    "Q_main = {k: [] for k in range(len(sentence)+1)}\n",
    "Q_main[0] = [q0]\n",
    "back_pointer = {}\n",
    "\n",
    "for i in range(0, len(sentence) - 1):\n",
    "    for q in beam(Q_main, i, beam_width=10):\n",
    "        for valid_phrase in ph(q):\n",
    "#             print('\\ncurrent q: {}'.format(q))\n",
    "#             print('current valid_phrase: {}\\n'.format(valid_phrase))\n",
    "            q_new = next(q, valid_phrase)\n",
    "            index = len(np.nonzero(q_new.bitstring)[0])\n",
    "            add(Q_main, index, q_new, q, valid_phrase, back_pointer)"
   ]
  },
  {
   "cell_type": "code",
   "execution_count": 266,
   "metadata": {},
   "outputs": [
    {
     "data": {
      "text/plain": [
       "[State(e1='last', e2='Tuesday', bitstring=[1, 1, 1, 1, 1, 1, 1, 1, 1, 1, 1, 1, 1, 1], r=12, alpha=-38.721474436),\n",
       " State(e1='is', e2='it', bitstring=[1, 1, 1, 1, 1, 1, 1, 1, 1, 1, 1, 1, 1, 1], r=7, alpha=-63.797439268),\n",
       " State(e1='past', e2='is', bitstring=[1, 1, 1, 1, 1, 1, 1, 1, 1, 1, 1, 1, 1, 1], r=6, alpha=-60.065237032000006),\n",
       " State(e1='it', e2='is', bitstring=[1, 1, 1, 1, 1, 1, 1, 1, 1, 1, 1, 1, 1, 1], r=6, alpha=-63.831813340000004),\n",
       " State(e1='that', e2='if', bitstring=[1, 1, 1, 1, 1, 1, 1, 1, 1, 1, 1, 1, 1, 1], r=4, alpha=-70.72856733)]"
      ]
     },
     "execution_count": 266,
     "metadata": {},
     "output_type": "execute_result"
    }
   ],
   "source": [
    "Q_main[14]"
   ]
  },
  {
   "cell_type": "code",
   "execution_count": 267,
   "metadata": {},
   "outputs": [
    {
     "data": {
      "text/plain": [
       "'honorables s\\xc3\\xa9nateurs , que se est - il pass\\xc3\\xa9 ici , mardi dernier ?'"
      ]
     },
     "execution_count": 267,
     "metadata": {},
     "output_type": "execute_result"
    }
   ],
   "source": [
    "sentence_orig"
   ]
  },
  {
   "cell_type": "code",
   "execution_count": 269,
   "metadata": {},
   "outputs": [
    {
     "data": {
      "text/plain": [
       "{0: (1, (0, 0, phrase(english='honourable', logprob=0.0))),\n",
       " 1: (3, (1, 1, phrase(english='senators', logprob=-0.124938733876))),\n",
       " 2: (0, (2, 2, phrase(english=',', logprob=-0.0358480773866))),\n",
       " 3: (0, (3, 3, phrase(english='that', logprob=-0.154812589288))),\n",
       " 4: (1, (4, 4, phrase(english='is', logprob=-0.628903687))),\n",
       " 5: (0, (5, 5, phrase(english='is', logprob=-0.0662267655134))),\n",
       " 6: (1, (6, 6, phrase(english='-', logprob=-0.0898769646883))),\n",
       " 7: (2, (7, 7, phrase(english='it', logprob=-0.396981835365))),\n",
       " 8: (3, (8, 8, phrase(english='past', logprob=-0.236418694258))),\n",
       " 9: (4, (9, 9, phrase(english='here', logprob=-0.179900884628))),\n",
       " 10: (5, (10, 10, phrase(english=',', logprob=-0.0358480773866))),\n",
       " 11: (6, (11, 11, phrase(english='Tuesday', logprob=-0.00599036365747))),\n",
       " 12: (10, (12, 12, phrase(english='last', logprob=-0.129672244191))),\n",
       " 13: (9, (13, 13, phrase(english='?', logprob=-0.000198262714548)))}"
      ]
     },
     "execution_count": 269,
     "metadata": {},
     "output_type": "execute_result"
    }
   ],
   "source": [
    "back_pointer"
   ]
  },
  {
   "cell_type": "code",
   "execution_count": 204,
   "metadata": {},
   "outputs": [
    {
     "data": {
      "text/plain": [
       "[]"
      ]
     },
     "execution_count": 204,
     "metadata": {},
     "output_type": "execute_result"
    }
   ],
   "source": []
  },
  {
   "cell_type": "code",
   "execution_count": null,
   "metadata": {},
   "outputs": [],
   "source": []
  },
  {
   "cell_type": "code",
   "execution_count": null,
   "metadata": {},
   "outputs": [],
   "source": []
  },
  {
   "cell_type": "code",
   "execution_count": null,
   "metadata": {},
   "outputs": [],
   "source": []
  },
  {
   "cell_type": "code",
   "execution_count": null,
   "metadata": {},
   "outputs": [],
   "source": []
  },
  {
   "cell_type": "code",
   "execution_count": null,
   "metadata": {},
   "outputs": [],
   "source": []
  },
  {
   "cell_type": "code",
   "execution_count": null,
   "metadata": {},
   "outputs": [],
   "source": []
  },
  {
   "cell_type": "code",
   "execution_count": null,
   "metadata": {},
   "outputs": [],
   "source": []
  },
  {
   "cell_type": "markdown",
   "metadata": {},
   "source": [
    "# Tester"
   ]
  },
  {
   "cell_type": "code",
   "execution_count": 54,
   "metadata": {},
   "outputs": [
    {
     "data": {
      "text/plain": [
       "14"
      ]
     },
     "execution_count": 54,
     "metadata": {},
     "output_type": "execute_result"
    }
   ],
   "source": [
    "len(sentence)"
   ]
  },
  {
   "cell_type": "code",
   "execution_count": 57,
   "metadata": {},
   "outputs": [
    {
     "name": "stdout",
     "output_type": "stream",
     "text": [
      "[(3, 3, phrase(english='that', logprob=-0.154812589288)), (3, 4, phrase(english='that if', logprob=-0.412180453539)), (3, 5, phrase(english='what has', logprob=-0.301030009985)), (3, 7, phrase(english='what', logprob=0.0)), (4, 4, phrase(english='is', logprob=-0.628903687)), (4, 5, phrase(english='has', logprob=-0.39545121789)), (4, 6, phrase(english='did', logprob=0.0)), (4, 7, phrase(english='come he did', logprob=-0.301030009985)), (5, 5, phrase(english='is', logprob=-0.0662267655134)), (5, 6, phrase(english='is', logprob=-0.307978868484)), (5, 7, phrase(english='is it', logprob=-0.219359949231))]\n"
     ]
    }
   ],
   "source": [
    "q = State('<s>', '<s>', [1,1,1,0,0,0,0,0,0,0,0,0,0,0], 0, 0)\n",
    "ph_states = []\n",
    "for state in sc_P:\n",
    "    flag = True # we assume it as a valid state\n",
    "    s = state[0]\n",
    "    t = state[1]\n",
    "\n",
    "    orig_bitstring = q.bitstring\n",
    "\n",
    "    '''\n",
    "    Step 1: Ensure bit string is not overlapped\n",
    "    '''\n",
    "    if s == t:\n",
    "        # invalid state\n",
    "        if orig_bitstring[s] != 0:\n",
    "            flag = False\n",
    "    else:\n",
    "        # individial bits s and t are 0, but we also have to check in between them\n",
    "        if orig_bitstring[s] == 0 and orig_bitstring[t] == 0:\n",
    "            for _num in range(s, t+1):\n",
    "                if orig_bitstring[_num] != 0:\n",
    "                    flag = False\n",
    "        else:\n",
    "            flag = False\n",
    "\n",
    "    '''\n",
    "    Step 2: Ensure distortion limit is still obeyed\n",
    "    '''\n",
    "\n",
    "    r = q.r\n",
    "\n",
    "    if not (abs(r + 1 - s) <= d):\n",
    "        flag = False\n",
    "\n",
    "    if flag == True:\n",
    "        ph_states.append(state)\n",
    "        \n",
    "print(ph_states)"
   ]
  },
  {
   "cell_type": "code",
   "execution_count": 148,
   "metadata": {},
   "outputs": [],
   "source": [
    "q = q0\n",
    "p = ph_states[7]"
   ]
  },
  {
   "cell_type": "code",
   "execution_count": 149,
   "metadata": {},
   "outputs": [
    {
     "data": {
      "text/plain": [
       "State(e1='<s>', e2='<s>', bitstring=[0, 0, 0, 0, 0, 0, 0, 0, 0, 0, 0, 0, 0, 0], r=0, alpha=0)"
      ]
     },
     "execution_count": 149,
     "metadata": {},
     "output_type": "execute_result"
    }
   ],
   "source": [
    "q"
   ]
  },
  {
   "cell_type": "code",
   "execution_count": 150,
   "metadata": {},
   "outputs": [
    {
     "data": {
      "text/plain": [
       "(4, 7, phrase(english='come he did', logprob=-0.301030009985))"
      ]
     },
     "execution_count": 150,
     "metadata": {},
     "output_type": "execute_result"
    }
   ],
   "source": [
    "p"
   ]
  },
  {
   "cell_type": "code",
   "execution_count": null,
   "metadata": {},
   "outputs": [],
   "source": [
    "def next(q, p, eta=-1):\n",
    "    s = p[0]\n",
    "    t = p[1]\n",
    "\n",
    "    num_translated_words = len(p[2].english.split(' '))\n",
    "\n",
    "    if num_translated_words >= 2:\n",
    "        last_word = p[2].english.split(' ')[-1]\n",
    "        second_last = p[2].english.split(' ')[-2]\n",
    "    elif num_translated_words == 1:\n",
    "        last_word = p[2].english.split(' ')[-1]\n",
    "        second_last = q.e2\n",
    "\n",
    "    # Calculate new_bitstring\n",
    "\n",
    "    new_bitstring = deepcopy(q.bitstring)\n",
    "\n",
    "    for i in range(s, t+1):\n",
    "        # just a safeguard..check whether earlier these values were zeros or not\n",
    "\n",
    "        if q.bitstring[i] == 1:\n",
    "            print('MAJOR ERROR!')\n",
    "            print('The Ph(q) function has issues if you can read this...')\n",
    "        new_bitstring[i] = 1\n",
    "\n",
    "    '''\n",
    "    Calculate new logprob (alpha value)\n",
    "    '''\n",
    "\n",
    "    # CALCULATE LANGUAGE MODEL PROBABILITY\n",
    "\n",
    "    e1 = q.e1\n",
    "    e2 = q.e2\n",
    "    prob = 0\n",
    "    if len(p[2].english.split(' ')) == 1: # just a single word\n",
    "        # first try bigram probability\n",
    "        word = p[2].english.split(' ')[0]\n",
    "        try:\n",
    "    #         print('Finding probability of {}, {}, {}'.format(e1, e2, word))\n",
    "            # the index 1 contains the logprob, 0 index contains the repeated state\n",
    "            prob += lm.score((e1, e2), word)[1]\n",
    "        except KeyError:\n",
    "            print(\"Couldn't find trigram prob..backing off to bigram\")\n",
    "            try:\n",
    "    #             print('Finding probability of {}, {}'.format(e2, word))\n",
    "                prob += lm.score((e2, ), word)[1]\n",
    "            except KeyError:\n",
    "                prob = -5.0\n",
    "                print(\"Could not find either trigram or bigram probability..\")\n",
    "    else: # there are multiple words\n",
    "        print('Multiple english words')\n",
    "        for _num in range(0, len(p[2].english.split(' '))):\n",
    "            word = p[2].english.split(' ')[_num]\n",
    "            print('\\nFinding probability of {}, {}, {}'.format(e1, e2, word))\n",
    "            try:\n",
    "                prob += lm.score((e1, e2), word)[1]\n",
    "            except KeyError:\n",
    "                print(\"Couldn't find trigram prob..backing off to bigram\")\n",
    "                try:\n",
    "                    print('Finding probability of {}, {}'.format(e2, word))\n",
    "                    prob += lm.score((e2, ), word)[1]\n",
    "                except KeyError:\n",
    "                    prob = -5.0\n",
    "                    print(\"Could not find either trigram or bigram probability..\")\n",
    "\n",
    "            e1 = deepcopy(e2)\n",
    "            e2 = deepcopy(word)\n",
    "\n",
    "    # CALCULATE G(x) LOGPROB\n",
    "\n",
    "    g_x = p[2].logprob\n",
    "\n",
    "    # CALCULATE DISTORTION VALUE\n",
    "    dist_val = eta * abs(q.r + 1 - s)\n",
    "\n",
    "    # UPDATE ALPHA VALUE\n",
    "\n",
    "    new_alpha = q.alpha + prob + dist_val\n",
    "\n",
    "    new_state = State(e1=second_last, e2=last_word, bitstring=new_bitstring, r=p[1], alpha=new_alpha)\n",
    "    return new_state"
   ]
  },
  {
   "cell_type": "code",
   "execution_count": null,
   "metadata": {},
   "outputs": [],
   "source": []
  },
  {
   "cell_type": "code",
   "execution_count": 156,
   "metadata": {},
   "outputs": [
    {
     "data": {
      "text/plain": [
       "State(e1='<s>', e2='<s>', bitstring=[0, 0, 0, 0, 0, 0, 0, 0, 0, 0, 0, 0, 0, 0], r=0, alpha=0)"
      ]
     },
     "execution_count": 156,
     "metadata": {},
     "output_type": "execute_result"
    }
   ],
   "source": [
    "q"
   ]
  },
  {
   "cell_type": "code",
   "execution_count": 157,
   "metadata": {},
   "outputs": [
    {
     "data": {
      "text/plain": [
       "(4, 7, phrase(english='come he did', logprob=-0.301030009985))"
      ]
     },
     "execution_count": 157,
     "metadata": {},
     "output_type": "execute_result"
    }
   ],
   "source": [
    "p"
   ]
  },
  {
   "cell_type": "code",
   "execution_count": 158,
   "metadata": {
    "scrolled": true
   },
   "outputs": [
    {
     "data": {
      "text/plain": [
       "State(e1='he', e2='did', bitstring=[0, 0, 0, 0, 1, 1, 1, 1, 0, 0, 0, 0, 0, 0], r=7, alpha=-11.327959700000001)"
      ]
     },
     "execution_count": 158,
     "metadata": {},
     "output_type": "execute_result"
    }
   ],
   "source": [
    "new_state"
   ]
  },
  {
   "cell_type": "code",
   "execution_count": 172,
   "metadata": {},
   "outputs": [],
   "source": [
    "q1 = State('<s>', '<s>', bitstring, 0, 0)\n",
    "q2 = State('<s>', '<s>', bitstring, 0, 0)"
   ]
  },
  {
   "cell_type": "code",
   "execution_count": 173,
   "metadata": {},
   "outputs": [],
   "source": [
    "def eq(q1, q2):\n",
    "    if q1.e1 != q2.e1:\n",
    "        return False\n",
    "    elif q1.e2 != q2.e2:\n",
    "        return False\n",
    "    elif q1.bitstring != q2.bitstring:\n",
    "        return False\n",
    "    elif q1.r != q2.r:\n",
    "        return False\n",
    "    else:\n",
    "        return True"
   ]
  },
  {
   "cell_type": "code",
   "execution_count": 174,
   "metadata": {},
   "outputs": [
    {
     "data": {
      "text/plain": [
       "True"
      ]
     },
     "execution_count": 174,
     "metadata": {},
     "output_type": "execute_result"
    }
   ],
   "source": [
    "eq(q1, q2)"
   ]
  }
 ],
 "metadata": {
  "kernelspec": {
   "display_name": "Python 2",
   "language": "python",
   "name": "python2"
  },
  "language_info": {
   "codemirror_mode": {
    "name": "ipython",
    "version": 2
   },
   "file_extension": ".py",
   "mimetype": "text/x-python",
   "name": "python",
   "nbconvert_exporter": "python",
   "pygments_lexer": "ipython2",
   "version": "2.7.12"
  }
 },
 "nbformat": 4,
 "nbformat_minor": 2
}
