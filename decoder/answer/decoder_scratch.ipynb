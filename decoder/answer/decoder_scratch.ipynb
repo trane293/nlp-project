{
 "cells": [
  {
   "cell_type": "code",
   "execution_count": 105,
   "metadata": {
    "scrolled": true
   },
   "outputs": [
    {
     "name": "stdout",
     "output_type": "stream",
     "text": [
      "[phrase(english='honourable', logprob=0.0)]\n",
      "(u'honorables',)\n",
      "[phrase(english=',', logprob=-0.0358480773866)]\n",
      "(u',',)\n",
      "[phrase(english='that', logprob=-0.154812589288)]\n",
      "(u'que',)\n",
      "[phrase(english='is', logprob=-0.628903687)]\n",
      "(u'se',)\n",
      "[phrase(english='is', logprob=-0.0662267655134)]\n",
      "(u'est',)\n",
      "[phrase(english='-', logprob=-0.0898769646883)]\n",
      "(u'-',)\n",
      "[phrase(english='it', logprob=-0.396981835365)]\n",
      "(u'il',)\n",
      "[phrase(english='here', logprob=-0.179900884628)]\n",
      "(u'ici',)\n",
      "[phrase(english=',', logprob=-0.0358480773866)]\n",
      "(u',',)\n",
      "[phrase(english='Tuesday', logprob=-0.00599036365747)]\n",
      "(u'mardi',)\n",
      "[phrase(english='last', logprob=-0.129672244191)]\n",
      "(u'dernier',)\n",
      "[phrase(english='?', logprob=-0.000198262714548)]\n",
      "(u'?',)\n",
      "[phrase(english=', that', logprob=-0.195274576545)]\n",
      "(u',', u'que')\n",
      "[phrase(english='that if', logprob=-0.412180453539)]\n",
      "(u'que', u'se')\n",
      "[phrase(english='has', logprob=-0.39545121789)]\n",
      "(u'se', u'est')\n",
      "[phrase(english='is', logprob=-0.307978868484)]\n",
      "(u'est', u'-')\n",
      "[phrase(english='is it', logprob=-0.328353136778)]\n",
      "(u'-', u'il')\n",
      "[phrase(english='here ,', logprob=-0.163856804371)]\n",
      "(u'ici', u',')\n",
      "[phrase(english='last Tuesday', logprob=-0.176091253757)]\n",
      "(u'mardi', u'dernier')\n",
      "[phrase(english=', that if', logprob=0.0)]\n",
      "(u',', u'que', u'se')\n",
      "[phrase(english=', last Tuesday', logprob=0.0)]\n",
      "(u',', u'mardi', u'dernier')\n",
      "[phrase(english='what has', logprob=-0.301030009985)]\n",
      "(u'que', u'se', u'est')\n",
      "[phrase(english='did', logprob=0.0)]\n",
      "(u'se', u'est', u'-')\n",
      "[phrase(english='is it', logprob=-0.219359949231)]\n",
      "(u'est', u'-', u'il')\n",
      "[phrase(english=', last Tuesday', logprob=0.0)]\n",
      "(u',', u'mardi', u'dernier')\n",
      "[phrase(english='come he did', logprob=-0.301030009985)]\n",
      "(u'se', u'est', u'-', u'il')\n",
      "[phrase(english='what', logprob=0.0)]\n",
      "(u'que', u'se', u'est', u'-', u'il')\n",
      "[phrase(english=', what', logprob=0.0)]\n",
      "(u',', u'que', u'se', u'est', u'-', u'il')\n"
     ]
    },
    {
     "name": "stderr",
     "output_type": "stream",
     "text": [
      "Reading translation model from ../data/tm...\n"
     ]
    }
   ],
   "source": [
    "# -*- coding: utf-8 -*-\n",
    "import models\n",
    "import itertools\n",
    "\n",
    "# 4 seems to be the general idea. Could be different. Need to find out\n",
    "d = distortion_limit = 4\n",
    "\n",
    "# Start working on a single sentence generalize later\n",
    "sentence_orig = u\"honorables sénateurs , que se est - il passé ici , mardi dernier ?\"\n",
    "sentence = sentence_orig.split(' ')\n",
    "\n",
    "# Get a translation for each set of words using tm\n",
    "tm = models.TM(\"../data/tm\", 1)\n",
    "\n",
    "# We need to find all combinations of the input sentence, and then check if a combination exists in the\n",
    "# translation model. Earlier implementation had a search scheme going on, which i) did not check for all\n",
    "# combinations, ii) was highly inefficient since it was searching through the dictionary, which is an O(n)\n",
    "# operation. Indexing a dictionary is O(1).\n",
    "\n",
    "# define script P, set of all possible phrases in a sentence\n",
    "sc_P1 = []\n",
    "\n",
    "for L in range(1, len(sentence)+1):\n",
    "    for subset in itertools.combinations(sentence, L):\n",
    "        # to ensure we preserve the order of combination, we check if the combination \n",
    "        # actually appears in the sentence\n",
    "        if u' '.join(subset) in sentence_orig:\n",
    "            try:\n",
    "                print(tm[subset])\n",
    "                print(subset)\n",
    "                sc_P1.append((subset, tm[subset]))\n",
    "            except KeyError:\n",
    "                continue"
   ]
  },
  {
   "cell_type": "code",
   "execution_count": 5,
   "metadata": {},
   "outputs": [
    {
     "data": {
      "text/plain": [
       "u'honorables s\\xe9nateurs , que se est - il pass\\xe9 ici , mardi dernier ?'"
      ]
     },
     "execution_count": 5,
     "metadata": {},
     "output_type": "execute_result"
    }
   ],
   "source": [
    "sentence_orig"
   ]
  },
  {
   "cell_type": "code",
   "execution_count": 7,
   "metadata": {},
   "outputs": [
    {
     "data": {
      "text/plain": [
       "[(0, u'honorables'),\n",
       " (1, u's\\xe9nateurs'),\n",
       " (2, u','),\n",
       " (3, u'que'),\n",
       " (4, u'se'),\n",
       " (5, u'est'),\n",
       " (6, u'-'),\n",
       " (7, u'il'),\n",
       " (8, u'pass\\xe9'),\n",
       " (9, u'ici'),\n",
       " (10, u','),\n",
       " (11, u'mardi'),\n",
       " (12, u'dernier'),\n",
       " (13, u'?')]"
      ]
     },
     "execution_count": 7,
     "metadata": {},
     "output_type": "execute_result"
    }
   ],
   "source": [
    "list(enumerate(sentence_orig.split(' ')))"
   ]
  },
  {
   "cell_type": "code",
   "execution_count": 95,
   "metadata": {},
   "outputs": [
    {
     "name": "stdout",
     "output_type": "stream",
     "text": [
      "0\n",
      "1\n",
      "2\n",
      "3\n"
     ]
    }
   ],
   "source": [
    "for t in range(len(indices)-1):\n",
    "    print(t)"
   ]
  },
  {
   "cell_type": "code",
   "execution_count": 94,
   "metadata": {},
   "outputs": [
    {
     "data": {
      "text/plain": [
       "[9, 10, 11, 12, 13]"
      ]
     },
     "execution_count": 94,
     "metadata": {},
     "output_type": "execute_result"
    }
   ],
   "source": [
    "indices"
   ]
  },
  {
   "cell_type": "code",
   "execution_count": 93,
   "metadata": {},
   "outputs": [
    {
     "data": {
      "text/plain": [
       "5"
      ]
     },
     "execution_count": 93,
     "metadata": {},
     "output_type": "execute_result"
    }
   ],
   "source": [
    "len(indices)"
   ]
  },
  {
   "cell_type": "code",
   "execution_count": 101,
   "metadata": {},
   "outputs": [
    {
     "name": "stdout",
     "output_type": "stream",
     "text": [
      "[0, 1, 2]\n",
      "((0, u'honorables'), (1, u's\\xe9nateurs'), (2, u','))\n",
      "\n",
      "\n",
      "[1, 2, 3]\n",
      "((1, u's\\xe9nateurs'), (2, u','), (3, u'que'))\n",
      "\n",
      "\n",
      "[2, 3, 4]\n",
      "((2, u','), (3, u'que'), (4, u'se'))\n",
      "\n",
      "\n",
      "[3, 4, 5]\n",
      "((3, u'que'), (4, u'se'), (5, u'est'))\n",
      "\n",
      "\n",
      "[4, 5, 6]\n",
      "((4, u'se'), (5, u'est'), (6, u'-'))\n",
      "\n",
      "\n",
      "[5, 6, 7]\n",
      "((5, u'est'), (6, u'-'), (7, u'il'))\n",
      "\n",
      "\n",
      "[6, 7, 8]\n",
      "((6, u'-'), (7, u'il'), (8, u'pass\\xe9'))\n",
      "\n",
      "\n",
      "[7, 8, 9]\n",
      "((7, u'il'), (8, u'pass\\xe9'), (9, u'ici'))\n",
      "\n",
      "\n",
      "[8, 9, 10]\n",
      "((8, u'pass\\xe9'), (9, u'ici'), (10, u','))\n",
      "\n",
      "\n",
      "[9, 10, 11]\n",
      "((9, u'ici'), (10, u','), (11, u'mardi'))\n",
      "\n",
      "\n",
      "[10, 11, 12]\n",
      "((10, u','), (11, u'mardi'), (12, u'dernier'))\n",
      "\n",
      "\n",
      "[11, 12, 13]\n",
      "((11, u'mardi'), (12, u'dernier'), (13, u'?'))\n",
      "\n",
      "\n"
     ]
    }
   ],
   "source": [
    "for subset in itertools.combinations(list(enumerate(sentence_orig.split(' '))), 3):\n",
    "    indices = [x[0] for x in subset]\n",
    "    flag = 0\n",
    "    for t in range(len(indices)-1):\n",
    "        if indices[t+1] - indices[t] > 1:\n",
    "            flag = 1\n",
    "    if flag == 0:\n",
    "        print(indices)\n",
    "        print(subset)\n",
    "        print('\\n')"
   ]
  },
  {
   "cell_type": "markdown",
   "metadata": {},
   "source": [
    "## Using a simple implementation"
   ]
  },
  {
   "cell_type": "code",
   "execution_count": 133,
   "metadata": {},
   "outputs": [
    {
     "data": {
      "text/plain": [
       "[u'honorables',\n",
       " u's\\xe9nateurs',\n",
       " u',',\n",
       " u'que',\n",
       " u'se',\n",
       " u'est',\n",
       " u'-',\n",
       " u'il',\n",
       " u'pass\\xe9',\n",
       " u'ici',\n",
       " u',',\n",
       " u'mardi',\n",
       " u'dernier',\n",
       " u'?']"
      ]
     },
     "execution_count": 133,
     "metadata": {},
     "output_type": "execute_result"
    }
   ],
   "source": [
    "sentence"
   ]
  },
  {
   "cell_type": "code",
   "execution_count": 137,
   "metadata": {},
   "outputs": [
    {
     "data": {
      "text/plain": [
       "[]"
      ]
     },
     "execution_count": 137,
     "metadata": {},
     "output_type": "execute_result"
    }
   ],
   "source": [
    "sentence[2:2]"
   ]
  },
  {
   "cell_type": "code",
   "execution_count": null,
   "metadata": {},
   "outputs": [],
   "source": [
    "2, 4"
   ]
  },
  {
   "cell_type": "code",
   "execution_count": 135,
   "metadata": {},
   "outputs": [
    {
     "data": {
      "text/plain": [
       "(u'honorables', [u's\\xe9nateurs'])"
      ]
     },
     "execution_count": 135,
     "metadata": {},
     "output_type": "execute_result"
    }
   ],
   "source": [
    "sentence[0], sentence[1:2+1]"
   ]
  },
  {
   "cell_type": "code",
   "execution_count": 138,
   "metadata": {
    "scrolled": true
   },
   "outputs": [
    {
     "name": "stdout",
     "output_type": "stream",
     "text": [
      "(0, 0)\n",
      "(u'honorables',)\n",
      "(0, 1)\n",
      "(u'honorables', u's\\xe9nateurs')\n",
      "(0, 2)\n",
      "(u'honorables', u's\\xe9nateurs', u',')\n",
      "(0, 3)\n",
      "(u'honorables', u's\\xe9nateurs', u',', u'que')\n",
      "(0, 4)\n",
      "(u'honorables', u's\\xe9nateurs', u',', u'que', u'se')\n",
      "(0, 5)\n",
      "(u'honorables', u's\\xe9nateurs', u',', u'que', u'se', u'est')\n",
      "(0, 6)\n",
      "(u'honorables', u's\\xe9nateurs', u',', u'que', u'se', u'est', u'-')\n",
      "(0, 7)\n",
      "(u'honorables', u's\\xe9nateurs', u',', u'que', u'se', u'est', u'-', u'il')\n",
      "(0, 8)\n",
      "(u'honorables', u's\\xe9nateurs', u',', u'que', u'se', u'est', u'-', u'il', u'pass\\xe9')\n",
      "(0, 9)\n",
      "(u'honorables', u's\\xe9nateurs', u',', u'que', u'se', u'est', u'-', u'il', u'pass\\xe9', u'ici')\n",
      "(0, 10)\n",
      "(u'honorables', u's\\xe9nateurs', u',', u'que', u'se', u'est', u'-', u'il', u'pass\\xe9', u'ici', u',')\n",
      "(0, 11)\n",
      "(u'honorables', u's\\xe9nateurs', u',', u'que', u'se', u'est', u'-', u'il', u'pass\\xe9', u'ici', u',', u'mardi')\n",
      "(0, 12)\n",
      "(u'honorables', u's\\xe9nateurs', u',', u'que', u'se', u'est', u'-', u'il', u'pass\\xe9', u'ici', u',', u'mardi', u'dernier')\n",
      "(0, 13)\n",
      "(u'honorables', u's\\xe9nateurs', u',', u'que', u'se', u'est', u'-', u'il', u'pass\\xe9', u'ici', u',', u'mardi', u'dernier', u'?')\n",
      "(1, 1)\n",
      "(u's\\xe9nateurs',)\n",
      "(1, 2)\n",
      "(u's\\xe9nateurs', u',')\n",
      "(1, 3)\n",
      "(u's\\xe9nateurs', u',', u'que')\n",
      "(1, 4)\n",
      "(u's\\xe9nateurs', u',', u'que', u'se')\n",
      "(1, 5)\n",
      "(u's\\xe9nateurs', u',', u'que', u'se', u'est')\n",
      "(1, 6)\n",
      "(u's\\xe9nateurs', u',', u'que', u'se', u'est', u'-')\n",
      "(1, 7)\n",
      "(u's\\xe9nateurs', u',', u'que', u'se', u'est', u'-', u'il')\n",
      "(1, 8)\n",
      "(u's\\xe9nateurs', u',', u'que', u'se', u'est', u'-', u'il', u'pass\\xe9')\n",
      "(1, 9)\n",
      "(u's\\xe9nateurs', u',', u'que', u'se', u'est', u'-', u'il', u'pass\\xe9', u'ici')\n",
      "(1, 10)\n",
      "(u's\\xe9nateurs', u',', u'que', u'se', u'est', u'-', u'il', u'pass\\xe9', u'ici', u',')\n",
      "(1, 11)\n",
      "(u's\\xe9nateurs', u',', u'que', u'se', u'est', u'-', u'il', u'pass\\xe9', u'ici', u',', u'mardi')\n",
      "(1, 12)\n",
      "(u's\\xe9nateurs', u',', u'que', u'se', u'est', u'-', u'il', u'pass\\xe9', u'ici', u',', u'mardi', u'dernier')\n",
      "(1, 13)\n",
      "(u's\\xe9nateurs', u',', u'que', u'se', u'est', u'-', u'il', u'pass\\xe9', u'ici', u',', u'mardi', u'dernier', u'?')\n",
      "(2, 2)\n",
      "(u',',)\n",
      "(2, 3)\n",
      "(u',', u'que')\n",
      "(2, 4)\n",
      "(u',', u'que', u'se')\n",
      "(2, 5)\n",
      "(u',', u'que', u'se', u'est')\n",
      "(2, 6)\n",
      "(u',', u'que', u'se', u'est', u'-')\n",
      "(2, 7)\n",
      "(u',', u'que', u'se', u'est', u'-', u'il')\n",
      "(2, 8)\n",
      "(u',', u'que', u'se', u'est', u'-', u'il', u'pass\\xe9')\n",
      "(2, 9)\n",
      "(u',', u'que', u'se', u'est', u'-', u'il', u'pass\\xe9', u'ici')\n",
      "(2, 10)\n",
      "(u',', u'que', u'se', u'est', u'-', u'il', u'pass\\xe9', u'ici', u',')\n",
      "(2, 11)\n",
      "(u',', u'que', u'se', u'est', u'-', u'il', u'pass\\xe9', u'ici', u',', u'mardi')\n",
      "(2, 12)\n",
      "(u',', u'que', u'se', u'est', u'-', u'il', u'pass\\xe9', u'ici', u',', u'mardi', u'dernier')\n",
      "(2, 13)\n",
      "(u',', u'que', u'se', u'est', u'-', u'il', u'pass\\xe9', u'ici', u',', u'mardi', u'dernier', u'?')\n",
      "(3, 3)\n",
      "(u'que',)\n",
      "(3, 4)\n",
      "(u'que', u'se')\n",
      "(3, 5)\n",
      "(u'que', u'se', u'est')\n",
      "(3, 6)\n",
      "(u'que', u'se', u'est', u'-')\n",
      "(3, 7)\n",
      "(u'que', u'se', u'est', u'-', u'il')\n",
      "(3, 8)\n",
      "(u'que', u'se', u'est', u'-', u'il', u'pass\\xe9')\n",
      "(3, 9)\n",
      "(u'que', u'se', u'est', u'-', u'il', u'pass\\xe9', u'ici')\n",
      "(3, 10)\n",
      "(u'que', u'se', u'est', u'-', u'il', u'pass\\xe9', u'ici', u',')\n",
      "(3, 11)\n",
      "(u'que', u'se', u'est', u'-', u'il', u'pass\\xe9', u'ici', u',', u'mardi')\n",
      "(3, 12)\n",
      "(u'que', u'se', u'est', u'-', u'il', u'pass\\xe9', u'ici', u',', u'mardi', u'dernier')\n",
      "(3, 13)\n",
      "(u'que', u'se', u'est', u'-', u'il', u'pass\\xe9', u'ici', u',', u'mardi', u'dernier', u'?')\n",
      "(4, 4)\n",
      "(u'se',)\n",
      "(4, 5)\n",
      "(u'se', u'est')\n",
      "(4, 6)\n",
      "(u'se', u'est', u'-')\n",
      "(4, 7)\n",
      "(u'se', u'est', u'-', u'il')\n",
      "(4, 8)\n",
      "(u'se', u'est', u'-', u'il', u'pass\\xe9')\n",
      "(4, 9)\n",
      "(u'se', u'est', u'-', u'il', u'pass\\xe9', u'ici')\n",
      "(4, 10)\n",
      "(u'se', u'est', u'-', u'il', u'pass\\xe9', u'ici', u',')\n",
      "(4, 11)\n",
      "(u'se', u'est', u'-', u'il', u'pass\\xe9', u'ici', u',', u'mardi')\n",
      "(4, 12)\n",
      "(u'se', u'est', u'-', u'il', u'pass\\xe9', u'ici', u',', u'mardi', u'dernier')\n",
      "(4, 13)\n",
      "(u'se', u'est', u'-', u'il', u'pass\\xe9', u'ici', u',', u'mardi', u'dernier', u'?')\n",
      "(5, 5)\n",
      "(u'est',)\n",
      "(5, 6)\n",
      "(u'est', u'-')\n",
      "(5, 7)\n",
      "(u'est', u'-', u'il')\n",
      "(5, 8)\n",
      "(u'est', u'-', u'il', u'pass\\xe9')\n",
      "(5, 9)\n",
      "(u'est', u'-', u'il', u'pass\\xe9', u'ici')\n",
      "(5, 10)\n",
      "(u'est', u'-', u'il', u'pass\\xe9', u'ici', u',')\n",
      "(5, 11)\n",
      "(u'est', u'-', u'il', u'pass\\xe9', u'ici', u',', u'mardi')\n",
      "(5, 12)\n",
      "(u'est', u'-', u'il', u'pass\\xe9', u'ici', u',', u'mardi', u'dernier')\n",
      "(5, 13)\n",
      "(u'est', u'-', u'il', u'pass\\xe9', u'ici', u',', u'mardi', u'dernier', u'?')\n",
      "(6, 6)\n",
      "(u'-',)\n",
      "(6, 7)\n",
      "(u'-', u'il')\n",
      "(6, 8)\n",
      "(u'-', u'il', u'pass\\xe9')\n",
      "(6, 9)\n",
      "(u'-', u'il', u'pass\\xe9', u'ici')\n",
      "(6, 10)\n",
      "(u'-', u'il', u'pass\\xe9', u'ici', u',')\n",
      "(6, 11)\n",
      "(u'-', u'il', u'pass\\xe9', u'ici', u',', u'mardi')\n",
      "(6, 12)\n",
      "(u'-', u'il', u'pass\\xe9', u'ici', u',', u'mardi', u'dernier')\n",
      "(6, 13)\n",
      "(u'-', u'il', u'pass\\xe9', u'ici', u',', u'mardi', u'dernier', u'?')\n",
      "(7, 7)\n",
      "(u'il',)\n",
      "(7, 8)\n",
      "(u'il', u'pass\\xe9')\n",
      "(7, 9)\n",
      "(u'il', u'pass\\xe9', u'ici')\n",
      "(7, 10)\n",
      "(u'il', u'pass\\xe9', u'ici', u',')\n",
      "(7, 11)\n",
      "(u'il', u'pass\\xe9', u'ici', u',', u'mardi')\n",
      "(7, 12)\n",
      "(u'il', u'pass\\xe9', u'ici', u',', u'mardi', u'dernier')\n",
      "(7, 13)\n",
      "(u'il', u'pass\\xe9', u'ici', u',', u'mardi', u'dernier', u'?')\n",
      "(8, 8)\n",
      "(u'pass\\xe9',)\n",
      "(8, 9)\n",
      "(u'pass\\xe9', u'ici')\n",
      "(8, 10)\n",
      "(u'pass\\xe9', u'ici', u',')\n",
      "(8, 11)\n",
      "(u'pass\\xe9', u'ici', u',', u'mardi')\n",
      "(8, 12)\n",
      "(u'pass\\xe9', u'ici', u',', u'mardi', u'dernier')\n",
      "(8, 13)\n",
      "(u'pass\\xe9', u'ici', u',', u'mardi', u'dernier', u'?')\n",
      "(9, 9)\n",
      "(u'ici',)\n",
      "(9, 10)\n",
      "(u'ici', u',')\n",
      "(9, 11)\n",
      "(u'ici', u',', u'mardi')\n",
      "(9, 12)\n",
      "(u'ici', u',', u'mardi', u'dernier')\n",
      "(9, 13)\n",
      "(u'ici', u',', u'mardi', u'dernier', u'?')\n",
      "(10, 10)\n",
      "(u',',)\n",
      "(10, 11)\n",
      "(u',', u'mardi')\n",
      "(10, 12)\n",
      "(u',', u'mardi', u'dernier')\n",
      "(10, 13)\n",
      "(u',', u'mardi', u'dernier', u'?')\n",
      "(11, 11)\n",
      "(u'mardi',)\n",
      "(11, 12)\n",
      "(u'mardi', u'dernier')\n",
      "(11, 13)\n",
      "(u'mardi', u'dernier', u'?')\n",
      "(12, 12)\n",
      "(u'dernier',)\n",
      "(12, 13)\n",
      "(u'dernier', u'?')\n",
      "(13, 13)\n",
      "(u'?',)\n"
     ]
    }
   ],
   "source": [
    "sc_P = []\n",
    "\n",
    "for i in range(0, len(sentence)):\n",
    "    for j in range(i, len(sentence)):\n",
    "        if i == j:\n",
    "            subset = (sentence[i],)\n",
    "        else:\n",
    "            subset = tuple(sentence[i:j+1])\n",
    "        print(i, j)\n",
    "        print(subset)\n",
    "        try:\n",
    "            tm_output = tm[subset]\n",
    "            sc_P.append((i, j, tm_output))\n",
    "        except KeyError:\n",
    "            continue\n",
    "        "
   ]
  },
  {
   "cell_type": "code",
   "execution_count": 141,
   "metadata": {},
   "outputs": [
    {
     "data": {
      "text/plain": [
       "27"
      ]
     },
     "execution_count": 141,
     "metadata": {},
     "output_type": "execute_result"
    }
   ],
   "source": [
    "len(sc_P)"
   ]
  },
  {
   "cell_type": "code",
   "execution_count": 139,
   "metadata": {},
   "outputs": [
    {
     "data": {
      "text/plain": [
       "[(0, 0, [phrase(english='honourable', logprob=0.0)]),\n",
       " (2, 2, [phrase(english=',', logprob=-0.0358480773866)]),\n",
       " (2, 3, [phrase(english=', that', logprob=-0.195274576545)]),\n",
       " (2, 4, [phrase(english=', that if', logprob=0.0)]),\n",
       " (2, 7, [phrase(english=', what', logprob=0.0)]),\n",
       " (3, 3, [phrase(english='that', logprob=-0.154812589288)]),\n",
       " (3, 4, [phrase(english='that if', logprob=-0.412180453539)]),\n",
       " (3, 5, [phrase(english='what has', logprob=-0.301030009985)]),\n",
       " (3, 7, [phrase(english='what', logprob=0.0)]),\n",
       " (4, 4, [phrase(english='is', logprob=-0.628903687)]),\n",
       " (4, 5, [phrase(english='has', logprob=-0.39545121789)]),\n",
       " (4, 6, [phrase(english='did', logprob=0.0)]),\n",
       " (4, 7, [phrase(english='come he did', logprob=-0.301030009985)]),\n",
       " (5, 5, [phrase(english='is', logprob=-0.0662267655134)]),\n",
       " (5, 6, [phrase(english='is', logprob=-0.307978868484)]),\n",
       " (5, 7, [phrase(english='is it', logprob=-0.219359949231)]),\n",
       " (6, 6, [phrase(english='-', logprob=-0.0898769646883)]),\n",
       " (6, 7, [phrase(english='is it', logprob=-0.328353136778)]),\n",
       " (7, 7, [phrase(english='it', logprob=-0.396981835365)]),\n",
       " (9, 9, [phrase(english='here', logprob=-0.179900884628)]),\n",
       " (9, 10, [phrase(english='here ,', logprob=-0.163856804371)]),\n",
       " (10, 10, [phrase(english=',', logprob=-0.0358480773866)]),\n",
       " (10, 12, [phrase(english=', last Tuesday', logprob=0.0)]),\n",
       " (11, 11, [phrase(english='Tuesday', logprob=-0.00599036365747)]),\n",
       " (11, 12, [phrase(english='last Tuesday', logprob=-0.176091253757)]),\n",
       " (12, 12, [phrase(english='last', logprob=-0.129672244191)]),\n",
       " (13, 13, [phrase(english='?', logprob=-0.000198262714548)])]"
      ]
     },
     "execution_count": 139,
     "metadata": {},
     "output_type": "execute_result"
    }
   ],
   "source": [
    "sc_P"
   ]
  },
  {
   "cell_type": "code",
   "execution_count": 140,
   "metadata": {},
   "outputs": [
    {
     "data": {
      "text/plain": [
       "[(0, 0, [phrase(english='honourable', logprob=0.0)]),\n",
       " (2, 2, [phrase(english=',', logprob=-0.0358480773866)]),\n",
       " (3, 3, [phrase(english='that', logprob=-0.154812589288)]),\n",
       " (4, 4, [phrase(english='is', logprob=-0.628903687)]),\n",
       " (5, 5, [phrase(english='is', logprob=-0.0662267655134)]),\n",
       " (6, 6, [phrase(english='-', logprob=-0.0898769646883)]),\n",
       " (7, 7, [phrase(english='it', logprob=-0.396981835365)]),\n",
       " (9, 9, [phrase(english='here', logprob=-0.179900884628)]),\n",
       " (10, 10, [phrase(english=',', logprob=-0.0358480773866)]),\n",
       " (11, 11, [phrase(english='Tuesday', logprob=-0.00599036365747)]),\n",
       " (12, 12, [phrase(english='last', logprob=-0.129672244191)]),\n",
       " (13, 13, [phrase(english='?', logprob=-0.000198262714548)]),\n",
       " (2, 3, [phrase(english=', that', logprob=-0.195274576545)]),\n",
       " (3, 4, [phrase(english='that if', logprob=-0.412180453539)]),\n",
       " (4, 5, [phrase(english='has', logprob=-0.39545121789)]),\n",
       " (5, 6, [phrase(english='is', logprob=-0.307978868484)]),\n",
       " (6, 7, [phrase(english='is it', logprob=-0.328353136778)]),\n",
       " (9, 10, [phrase(english='here ,', logprob=-0.163856804371)]),\n",
       " (11, 12, [phrase(english='last Tuesday', logprob=-0.176091253757)]),\n",
       " (2, 4, [phrase(english=', that if', logprob=0.0)]),\n",
       " (3, 5, [phrase(english='what has', logprob=-0.301030009985)]),\n",
       " (4, 6, [phrase(english='did', logprob=0.0)]),\n",
       " (5, 7, [phrase(english='is it', logprob=-0.219359949231)]),\n",
       " (10, 12, [phrase(english=', last Tuesday', logprob=0.0)]),\n",
       " (4, 7, [phrase(english='come he did', logprob=-0.301030009985)]),\n",
       " (3, 7, [phrase(english='what', logprob=0.0)]),\n",
       " (2, 7, [phrase(english=', what', logprob=0.0)])]"
      ]
     },
     "execution_count": 140,
     "metadata": {},
     "output_type": "execute_result"
    }
   ],
   "source": [
    "sc_P_indices"
   ]
  },
  {
   "cell_type": "code",
   "execution_count": 116,
   "metadata": {},
   "outputs": [],
   "source": [
    "# define script P, set of all possible phrases in a sentence\n",
    "sc_P = []\n",
    "\n",
    "for L in range(1, len(sentence)+1):\n",
    "    for subset in itertools.combinations(list(enumerate(sentence_orig.split(' '))), L):\n",
    "        # to ensure we preserve the order of combination, we check if the combination \n",
    "        # actually appears in the sentence\n",
    "            indices = [x[0] for x in subset]\n",
    "            flag = 0\n",
    "            # first, the subset should be in the sentence\n",
    "            if u' '.join(tuple([x[1] for x in subset])) in sentence_orig:\n",
    "                # then we ensure that the chosen subset is actually adjacent. \n",
    "                for t in range(len(indices)-1):\n",
    "                    if indices[t+1] - indices[t] > 1:\n",
    "                        flag = 1\n",
    "                if flag == 0:\n",
    "                    try:\n",
    "#                         print(tm[tuple([x[1] for x in subset])])\n",
    "#                         print(subset)\n",
    "                        sc_P.append((subset, tm[tuple([x[1] for x in subset])]))\n",
    "                    except KeyError:\n",
    "                        continue\n",
    "                        \n",
    "sc_P_indices = []\n",
    "ind = 0 # index is at zero place\n",
    "for inst in range(len(sc_P)):\n",
    "    indices = []\n",
    "    for source_phrase in sc_P[inst][0]: # source phrase is at pos 0\n",
    "        indices.append(source_phrase[ind])\n",
    "    start = min(indices)\n",
    "    end = max(indices)\n",
    "    sc_P_indices.append((start, end, sc_P[inst][1]))"
   ]
  },
  {
   "cell_type": "code",
   "execution_count": 117,
   "metadata": {},
   "outputs": [
    {
     "data": {
      "text/plain": [
       "[(0, 0, [phrase(english='honourable', logprob=0.0)]),\n",
       " (2, 2, [phrase(english=',', logprob=-0.0358480773866)]),\n",
       " (3, 3, [phrase(english='that', logprob=-0.154812589288)]),\n",
       " (4, 4, [phrase(english='is', logprob=-0.628903687)]),\n",
       " (5, 5, [phrase(english='is', logprob=-0.0662267655134)]),\n",
       " (6, 6, [phrase(english='-', logprob=-0.0898769646883)]),\n",
       " (7, 7, [phrase(english='it', logprob=-0.396981835365)]),\n",
       " (9, 9, [phrase(english='here', logprob=-0.179900884628)]),\n",
       " (10, 10, [phrase(english=',', logprob=-0.0358480773866)]),\n",
       " (11, 11, [phrase(english='Tuesday', logprob=-0.00599036365747)]),\n",
       " (12, 12, [phrase(english='last', logprob=-0.129672244191)]),\n",
       " (13, 13, [phrase(english='?', logprob=-0.000198262714548)]),\n",
       " (2, 3, [phrase(english=', that', logprob=-0.195274576545)]),\n",
       " (3, 4, [phrase(english='that if', logprob=-0.412180453539)]),\n",
       " (4, 5, [phrase(english='has', logprob=-0.39545121789)]),\n",
       " (5, 6, [phrase(english='is', logprob=-0.307978868484)]),\n",
       " (6, 7, [phrase(english='is it', logprob=-0.328353136778)]),\n",
       " (9, 10, [phrase(english='here ,', logprob=-0.163856804371)]),\n",
       " (11, 12, [phrase(english='last Tuesday', logprob=-0.176091253757)]),\n",
       " (2, 4, [phrase(english=', that if', logprob=0.0)]),\n",
       " (3, 5, [phrase(english='what has', logprob=-0.301030009985)]),\n",
       " (4, 6, [phrase(english='did', logprob=0.0)]),\n",
       " (5, 7, [phrase(english='is it', logprob=-0.219359949231)]),\n",
       " (10, 12, [phrase(english=', last Tuesday', logprob=0.0)]),\n",
       " (4, 7, [phrase(english='come he did', logprob=-0.301030009985)]),\n",
       " (3, 7, [phrase(english='what', logprob=0.0)]),\n",
       " (2, 7, [phrase(english=', what', logprob=0.0)])]"
      ]
     },
     "execution_count": 117,
     "metadata": {},
     "output_type": "execute_result"
    }
   ],
   "source": [
    "sc_P_indices"
   ]
  },
  {
   "cell_type": "code",
   "execution_count": 118,
   "metadata": {},
   "outputs": [
    {
     "data": {
      "text/plain": [
       "[(0, u'honorables'),\n",
       " (1, u's\\xe9nateurs'),\n",
       " (2, u','),\n",
       " (3, u'que'),\n",
       " (4, u'se'),\n",
       " (5, u'est'),\n",
       " (6, u'-'),\n",
       " (7, u'il'),\n",
       " (8, u'pass\\xe9'),\n",
       " (9, u'ici'),\n",
       " (10, u','),\n",
       " (11, u'mardi'),\n",
       " (12, u'dernier'),\n",
       " (13, u'?')]"
      ]
     },
     "execution_count": 118,
     "metadata": {},
     "output_type": "execute_result"
    }
   ],
   "source": [
    "list(enumerate(sentence_orig.split(' ')))"
   ]
  },
  {
   "cell_type": "code",
   "execution_count": 110,
   "metadata": {},
   "outputs": [
    {
     "name": "stdout",
     "output_type": "stream",
     "text": [
      "(((0, u'honorables'),), [phrase(english='honourable', logprob=0.0)])\n",
      "--------------------------------------------------\n",
      "((u'honorables',), [phrase(english='honourable', logprob=0.0)])\n",
      "\n",
      "\n",
      "(((2, u','),), [phrase(english=',', logprob=-0.0358480773866)])\n",
      "--------------------------------------------------\n",
      "((u',',), [phrase(english=',', logprob=-0.0358480773866)])\n",
      "\n",
      "\n",
      "(((3, u'que'),), [phrase(english='that', logprob=-0.154812589288)])\n",
      "--------------------------------------------------\n",
      "((u'que',), [phrase(english='that', logprob=-0.154812589288)])\n",
      "\n",
      "\n",
      "(((4, u'se'),), [phrase(english='is', logprob=-0.628903687)])\n",
      "--------------------------------------------------\n",
      "((u'se',), [phrase(english='is', logprob=-0.628903687)])\n",
      "\n",
      "\n",
      "(((5, u'est'),), [phrase(english='is', logprob=-0.0662267655134)])\n",
      "--------------------------------------------------\n",
      "((u'est',), [phrase(english='is', logprob=-0.0662267655134)])\n",
      "\n",
      "\n",
      "(((6, u'-'),), [phrase(english='-', logprob=-0.0898769646883)])\n",
      "--------------------------------------------------\n",
      "((u'-',), [phrase(english='-', logprob=-0.0898769646883)])\n",
      "\n",
      "\n",
      "(((7, u'il'),), [phrase(english='it', logprob=-0.396981835365)])\n",
      "--------------------------------------------------\n",
      "((u'il',), [phrase(english='it', logprob=-0.396981835365)])\n",
      "\n",
      "\n",
      "(((9, u'ici'),), [phrase(english='here', logprob=-0.179900884628)])\n",
      "--------------------------------------------------\n",
      "((u'ici',), [phrase(english='here', logprob=-0.179900884628)])\n",
      "\n",
      "\n",
      "(((10, u','),), [phrase(english=',', logprob=-0.0358480773866)])\n",
      "--------------------------------------------------\n",
      "((u',',), [phrase(english=',', logprob=-0.0358480773866)])\n",
      "\n",
      "\n",
      "(((11, u'mardi'),), [phrase(english='Tuesday', logprob=-0.00599036365747)])\n",
      "--------------------------------------------------\n",
      "((u'mardi',), [phrase(english='Tuesday', logprob=-0.00599036365747)])\n",
      "\n",
      "\n",
      "(((12, u'dernier'),), [phrase(english='last', logprob=-0.129672244191)])\n",
      "--------------------------------------------------\n",
      "((u'dernier',), [phrase(english='last', logprob=-0.129672244191)])\n",
      "\n",
      "\n",
      "(((13, u'?'),), [phrase(english='?', logprob=-0.000198262714548)])\n",
      "--------------------------------------------------\n",
      "((u'?',), [phrase(english='?', logprob=-0.000198262714548)])\n",
      "\n",
      "\n",
      "(((2, u','), (3, u'que')), [phrase(english=', that', logprob=-0.195274576545)])\n",
      "--------------------------------------------------\n",
      "((u',', u'que'), [phrase(english=', that', logprob=-0.195274576545)])\n",
      "\n",
      "\n",
      "(((3, u'que'), (4, u'se')), [phrase(english='that if', logprob=-0.412180453539)])\n",
      "--------------------------------------------------\n",
      "((u'que', u'se'), [phrase(english='that if', logprob=-0.412180453539)])\n",
      "\n",
      "\n",
      "(((4, u'se'), (5, u'est')), [phrase(english='has', logprob=-0.39545121789)])\n",
      "--------------------------------------------------\n",
      "((u'se', u'est'), [phrase(english='has', logprob=-0.39545121789)])\n",
      "\n",
      "\n",
      "(((5, u'est'), (6, u'-')), [phrase(english='is', logprob=-0.307978868484)])\n",
      "--------------------------------------------------\n",
      "((u'est', u'-'), [phrase(english='is', logprob=-0.307978868484)])\n",
      "\n",
      "\n",
      "(((6, u'-'), (7, u'il')), [phrase(english='is it', logprob=-0.328353136778)])\n",
      "--------------------------------------------------\n",
      "((u'-', u'il'), [phrase(english='is it', logprob=-0.328353136778)])\n",
      "\n",
      "\n",
      "(((9, u'ici'), (10, u',')), [phrase(english='here ,', logprob=-0.163856804371)])\n",
      "--------------------------------------------------\n",
      "((u'ici', u','), [phrase(english='here ,', logprob=-0.163856804371)])\n",
      "\n",
      "\n",
      "(((11, u'mardi'), (12, u'dernier')), [phrase(english='last Tuesday', logprob=-0.176091253757)])\n",
      "--------------------------------------------------\n",
      "((u'mardi', u'dernier'), [phrase(english='last Tuesday', logprob=-0.176091253757)])\n",
      "\n",
      "\n",
      "(((2, u','), (3, u'que'), (4, u'se')), [phrase(english=', that if', logprob=0.0)])\n",
      "--------------------------------------------------\n",
      "((u',', u'que', u'se'), [phrase(english=', that if', logprob=0.0)])\n",
      "\n",
      "\n",
      "(((3, u'que'), (4, u'se'), (5, u'est')), [phrase(english='what has', logprob=-0.301030009985)])\n",
      "--------------------------------------------------\n",
      "((u',', u'mardi', u'dernier'), [phrase(english=', last Tuesday', logprob=0.0)])\n",
      "\n",
      "\n",
      "(((4, u'se'), (5, u'est'), (6, u'-')), [phrase(english='did', logprob=0.0)])\n",
      "--------------------------------------------------\n",
      "((u'que', u'se', u'est'), [phrase(english='what has', logprob=-0.301030009985)])\n",
      "\n",
      "\n",
      "(((5, u'est'), (6, u'-'), (7, u'il')), [phrase(english='is it', logprob=-0.219359949231)])\n",
      "--------------------------------------------------\n",
      "((u'se', u'est', u'-'), [phrase(english='did', logprob=0.0)])\n",
      "\n",
      "\n",
      "(((10, u','), (11, u'mardi'), (12, u'dernier')), [phrase(english=', last Tuesday', logprob=0.0)])\n",
      "--------------------------------------------------\n",
      "((u'est', u'-', u'il'), [phrase(english='is it', logprob=-0.219359949231)])\n",
      "\n",
      "\n",
      "(((4, u'se'), (5, u'est'), (6, u'-'), (7, u'il')), [phrase(english='come he did', logprob=-0.301030009985)])\n",
      "--------------------------------------------------\n",
      "((u',', u'mardi', u'dernier'), [phrase(english=', last Tuesday', logprob=0.0)])\n",
      "\n",
      "\n",
      "(((3, u'que'), (4, u'se'), (5, u'est'), (6, u'-'), (7, u'il')), [phrase(english='what', logprob=0.0)])\n",
      "--------------------------------------------------\n",
      "((u'se', u'est', u'-', u'il'), [phrase(english='come he did', logprob=-0.301030009985)])\n",
      "\n",
      "\n",
      "(((2, u','), (3, u'que'), (4, u'se'), (5, u'est'), (6, u'-'), (7, u'il')), [phrase(english=', what', logprob=0.0)])\n",
      "--------------------------------------------------\n",
      "((u'que', u'se', u'est', u'-', u'il'), [phrase(english='what', logprob=0.0)])\n",
      "\n",
      "\n"
     ]
    }
   ],
   "source": [
    "for i in range(len(sc_P)):\n",
    "    print(sc_P[i])\n",
    "    print('-'*50)\n",
    "    print(sc_P1[i])\n",
    "    print('\\n')"
   ]
  },
  {
   "cell_type": "code",
   "execution_count": 55,
   "metadata": {},
   "outputs": [
    {
     "data": {
      "text/plain": [
       "2"
      ]
     },
     "execution_count": 55,
     "metadata": {},
     "output_type": "execute_result"
    }
   ],
   "source": [
    "len(sc_P[inst][source_phrase])"
   ]
  },
  {
   "cell_type": "code",
   "execution_count": 54,
   "metadata": {},
   "outputs": [
    {
     "name": "stdout",
     "output_type": "stream",
     "text": [
      "(((5, u'est'), (6, u'-')), [phrase(english='is', logprob=-0.307978868484)])\n",
      "((5, u'est'), (6, u'-'))\n",
      "(5, u'est')\n",
      "5\n"
     ]
    }
   ],
   "source": [
    "inst = 15\n",
    "source_phrase = 0\n",
    "curr_word_ind = 0\n",
    "curr_word = 0\n",
    "\n",
    "print(sc_P[inst])\n",
    "print(sc_P[inst][source_phrase])\n",
    "print(sc_P[inst][source_phrase][curr_word])\n",
    "print(sc_P[inst][source_phrase][curr_word][ind])"
   ]
  },
  {
   "cell_type": "code",
   "execution_count": 77,
   "metadata": {},
   "outputs": [
    {
     "name": "stdout",
     "output_type": "stream",
     "text": [
      "(5, u'est')\n",
      "(6, u'-')\n"
     ]
    }
   ],
   "source": [
    "for source_phrase in sc_P[15][0]:\n",
    "    print(source_phrase)"
   ]
  },
  {
   "cell_type": "code",
   "execution_count": 111,
   "metadata": {},
   "outputs": [],
   "source": [
    "sc_P_indices = []\n",
    "ind = 0 # index is at zero place\n",
    "for inst in range(len(sc_P)):\n",
    "    indices = []\n",
    "    for source_phrase in sc_P[inst][0]: # source phrase is at pos 0\n",
    "        indices.append(source_phrase[ind])\n",
    "    start = min(indices)\n",
    "    end = max(indices)\n",
    "    sc_P_indices.append((start, end, sc_P[inst][1]))"
   ]
  },
  {
   "cell_type": "code",
   "execution_count": 113,
   "metadata": {},
   "outputs": [
    {
     "name": "stdout",
     "output_type": "stream",
     "text": [
      "(((0, u'honorables'),), [phrase(english='honourable', logprob=0.0)])\n",
      "--------------------------------------------------\n",
      "(0, 0, [phrase(english='honourable', logprob=0.0)])\n",
      "\n",
      "\n",
      "(((2, u','),), [phrase(english=',', logprob=-0.0358480773866)])\n",
      "--------------------------------------------------\n",
      "(2, 2, [phrase(english=',', logprob=-0.0358480773866)])\n",
      "\n",
      "\n",
      "(((3, u'que'),), [phrase(english='that', logprob=-0.154812589288)])\n",
      "--------------------------------------------------\n",
      "(3, 3, [phrase(english='that', logprob=-0.154812589288)])\n",
      "\n",
      "\n",
      "(((4, u'se'),), [phrase(english='is', logprob=-0.628903687)])\n",
      "--------------------------------------------------\n",
      "(4, 4, [phrase(english='is', logprob=-0.628903687)])\n",
      "\n",
      "\n",
      "(((5, u'est'),), [phrase(english='is', logprob=-0.0662267655134)])\n",
      "--------------------------------------------------\n",
      "(5, 5, [phrase(english='is', logprob=-0.0662267655134)])\n",
      "\n",
      "\n",
      "(((6, u'-'),), [phrase(english='-', logprob=-0.0898769646883)])\n",
      "--------------------------------------------------\n",
      "(6, 6, [phrase(english='-', logprob=-0.0898769646883)])\n",
      "\n",
      "\n",
      "(((7, u'il'),), [phrase(english='it', logprob=-0.396981835365)])\n",
      "--------------------------------------------------\n",
      "(7, 7, [phrase(english='it', logprob=-0.396981835365)])\n",
      "\n",
      "\n",
      "(((9, u'ici'),), [phrase(english='here', logprob=-0.179900884628)])\n",
      "--------------------------------------------------\n",
      "(9, 9, [phrase(english='here', logprob=-0.179900884628)])\n",
      "\n",
      "\n",
      "(((10, u','),), [phrase(english=',', logprob=-0.0358480773866)])\n",
      "--------------------------------------------------\n",
      "(10, 10, [phrase(english=',', logprob=-0.0358480773866)])\n",
      "\n",
      "\n",
      "(((11, u'mardi'),), [phrase(english='Tuesday', logprob=-0.00599036365747)])\n",
      "--------------------------------------------------\n",
      "(11, 11, [phrase(english='Tuesday', logprob=-0.00599036365747)])\n",
      "\n",
      "\n",
      "(((12, u'dernier'),), [phrase(english='last', logprob=-0.129672244191)])\n",
      "--------------------------------------------------\n",
      "(12, 12, [phrase(english='last', logprob=-0.129672244191)])\n",
      "\n",
      "\n",
      "(((13, u'?'),), [phrase(english='?', logprob=-0.000198262714548)])\n",
      "--------------------------------------------------\n",
      "(13, 13, [phrase(english='?', logprob=-0.000198262714548)])\n",
      "\n",
      "\n",
      "(((2, u','), (3, u'que')), [phrase(english=', that', logprob=-0.195274576545)])\n",
      "--------------------------------------------------\n",
      "(2, 3, [phrase(english=', that', logprob=-0.195274576545)])\n",
      "\n",
      "\n",
      "(((3, u'que'), (4, u'se')), [phrase(english='that if', logprob=-0.412180453539)])\n",
      "--------------------------------------------------\n",
      "(3, 4, [phrase(english='that if', logprob=-0.412180453539)])\n",
      "\n",
      "\n",
      "(((4, u'se'), (5, u'est')), [phrase(english='has', logprob=-0.39545121789)])\n",
      "--------------------------------------------------\n",
      "(4, 5, [phrase(english='has', logprob=-0.39545121789)])\n",
      "\n",
      "\n",
      "(((5, u'est'), (6, u'-')), [phrase(english='is', logprob=-0.307978868484)])\n",
      "--------------------------------------------------\n",
      "(5, 6, [phrase(english='is', logprob=-0.307978868484)])\n",
      "\n",
      "\n",
      "(((6, u'-'), (7, u'il')), [phrase(english='is it', logprob=-0.328353136778)])\n",
      "--------------------------------------------------\n",
      "(6, 7, [phrase(english='is it', logprob=-0.328353136778)])\n",
      "\n",
      "\n",
      "(((9, u'ici'), (10, u',')), [phrase(english='here ,', logprob=-0.163856804371)])\n",
      "--------------------------------------------------\n",
      "(9, 10, [phrase(english='here ,', logprob=-0.163856804371)])\n",
      "\n",
      "\n",
      "(((11, u'mardi'), (12, u'dernier')), [phrase(english='last Tuesday', logprob=-0.176091253757)])\n",
      "--------------------------------------------------\n",
      "(11, 12, [phrase(english='last Tuesday', logprob=-0.176091253757)])\n",
      "\n",
      "\n",
      "(((2, u','), (3, u'que'), (4, u'se')), [phrase(english=', that if', logprob=0.0)])\n",
      "--------------------------------------------------\n",
      "(2, 4, [phrase(english=', that if', logprob=0.0)])\n",
      "\n",
      "\n",
      "(((3, u'que'), (4, u'se'), (5, u'est')), [phrase(english='what has', logprob=-0.301030009985)])\n",
      "--------------------------------------------------\n",
      "(3, 5, [phrase(english='what has', logprob=-0.301030009985)])\n",
      "\n",
      "\n",
      "(((4, u'se'), (5, u'est'), (6, u'-')), [phrase(english='did', logprob=0.0)])\n",
      "--------------------------------------------------\n",
      "(4, 6, [phrase(english='did', logprob=0.0)])\n",
      "\n",
      "\n",
      "(((5, u'est'), (6, u'-'), (7, u'il')), [phrase(english='is it', logprob=-0.219359949231)])\n",
      "--------------------------------------------------\n",
      "(5, 7, [phrase(english='is it', logprob=-0.219359949231)])\n",
      "\n",
      "\n",
      "(((10, u','), (11, u'mardi'), (12, u'dernier')), [phrase(english=', last Tuesday', logprob=0.0)])\n",
      "--------------------------------------------------\n",
      "(10, 12, [phrase(english=', last Tuesday', logprob=0.0)])\n",
      "\n",
      "\n",
      "(((4, u'se'), (5, u'est'), (6, u'-'), (7, u'il')), [phrase(english='come he did', logprob=-0.301030009985)])\n",
      "--------------------------------------------------\n",
      "(4, 7, [phrase(english='come he did', logprob=-0.301030009985)])\n",
      "\n",
      "\n",
      "(((3, u'que'), (4, u'se'), (5, u'est'), (6, u'-'), (7, u'il')), [phrase(english='what', logprob=0.0)])\n",
      "--------------------------------------------------\n",
      "(3, 7, [phrase(english='what', logprob=0.0)])\n",
      "\n",
      "\n",
      "(((2, u','), (3, u'que'), (4, u'se'), (5, u'est'), (6, u'-'), (7, u'il')), [phrase(english=', what', logprob=0.0)])\n",
      "--------------------------------------------------\n",
      "(2, 7, [phrase(english=', what', logprob=0.0)])\n",
      "\n",
      "\n"
     ]
    }
   ],
   "source": [
    "for i in range(len(sc_P)):\n",
    "    print(sc_P[i])\n",
    "    print('-'*50)\n",
    "    print(sc_P_indices[i])\n",
    "    print('\\n')"
   ]
  },
  {
   "cell_type": "code",
   "execution_count": 81,
   "metadata": {
    "scrolled": true
   },
   "outputs": [
    {
     "data": {
      "text/plain": [
       "[(0, u'honorables'),\n",
       " (1, u's\\xe9nateurs'),\n",
       " (2, u','),\n",
       " (3, u'que'),\n",
       " (4, u'se'),\n",
       " (5, u'est'),\n",
       " (6, u'-'),\n",
       " (7, u'il'),\n",
       " (8, u'pass\\xe9'),\n",
       " (9, u'ici'),\n",
       " (10, u','),\n",
       " (11, u'mardi'),\n",
       " (12, u'dernier'),\n",
       " (13, u'?')]"
      ]
     },
     "execution_count": 81,
     "metadata": {},
     "output_type": "execute_result"
    }
   ],
   "source": [
    "list(enumerate(sentence_orig.split(' ')))"
   ]
  },
  {
   "cell_type": "code",
   "execution_count": 83,
   "metadata": {},
   "outputs": [
    {
     "data": {
      "text/plain": [
       "(((12, u'dernier'),), [phrase(english='last', logprob=-0.129672244191)])"
      ]
     },
     "execution_count": 83,
     "metadata": {},
     "output_type": "execute_result"
    }
   ],
   "source": [
    "sc_P[10]"
   ]
  },
  {
   "cell_type": "code",
   "execution_count": 84,
   "metadata": {},
   "outputs": [
    {
     "data": {
      "text/plain": [
       "(12, 12, [phrase(english='last', logprob=-0.129672244191)])"
      ]
     },
     "execution_count": 84,
     "metadata": {},
     "output_type": "execute_result"
    }
   ],
   "source": [
    "sc_P_indices[10]"
   ]
  },
  {
   "cell_type": "code",
   "execution_count": 58,
   "metadata": {
    "scrolled": true
   },
   "outputs": [
    {
     "data": {
      "text/plain": [
       "[phrase(english=',', logprob=-0.0358480773866)]"
      ]
     },
     "execution_count": 58,
     "metadata": {},
     "output_type": "execute_result"
    }
   ],
   "source": [
    "sc_P[1][1]"
   ]
  },
  {
   "cell_type": "code",
   "execution_count": null,
   "metadata": {},
   "outputs": [],
   "source": []
  }
 ],
 "metadata": {
  "kernelspec": {
   "display_name": "Python 2",
   "language": "python",
   "name": "python2"
  },
  "language_info": {
   "codemirror_mode": {
    "name": "ipython",
    "version": 2
   },
   "file_extension": ".py",
   "mimetype": "text/x-python",
   "name": "python",
   "nbconvert_exporter": "python",
   "pygments_lexer": "ipython2",
   "version": "2.7.12"
  }
 },
 "nbformat": 4,
 "nbformat_minor": 2
}
