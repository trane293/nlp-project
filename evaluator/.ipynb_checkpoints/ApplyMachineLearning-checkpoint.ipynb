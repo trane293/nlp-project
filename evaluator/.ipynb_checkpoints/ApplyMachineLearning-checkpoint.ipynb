{
 "cells": [
  {
   "cell_type": "markdown",
   "metadata": {},
   "source": [
    "# <span style='color:orange'> Apply Machine Learning models to predict best hypothesis translation </span>"
   ]
  },
  {
   "cell_type": "markdown",
   "metadata": {},
   "source": [
    "#### For Final Project\n",
    "#### Course Name: CMPT 825 Natural Language Processing"
   ]
  },
  {
   "cell_type": "markdown",
   "metadata": {},
   "source": [
    "## Load the data"
   ]
  },
  {
   "cell_type": "code",
   "execution_count": 1,
   "metadata": {},
   "outputs": [],
   "source": [
    "from __future__ import print_function\n",
    "import numpy as np\n",
    "import cPickle as pickle\n",
    "import numpy as np\n",
    "from sklearn.model_selection import train_test_split"
   ]
  },
  {
   "cell_type": "code",
   "execution_count": 2,
   "metadata": {},
   "outputs": [
    {
     "data": {
      "text/plain": [
       "[[[0.6549846024623855,\n",
       "   0.7142857142857143,\n",
       "   0.71554252199413482,\n",
       "   0.6240409207161125,\n",
       "   0.7559322033898305,\n",
       "   0.7934426229508196]],\n",
       " [[0.6549846024623855,\n",
       "   0.7142857142857143,\n",
       "   0.71554252199413482,\n",
       "   0.6240409207161125,\n",
       "   0.7559322033898305,\n",
       "   0.7934426229508196]]]"
      ]
     },
     "execution_count": 2,
     "metadata": {},
     "output_type": "execute_result"
    }
   ],
   "source": [
    "whole_data = np.array(pickle.load(open('./result_vector_sleek.p')) ).reshape(-1,6)\n",
    "x = pickle.load(open('./result_vector.p')) \n",
    "x[0:2]"
   ]
  },
  {
   "cell_type": "code",
   "execution_count": 3,
   "metadata": {},
   "outputs": [],
   "source": [
    "y = []\n",
    "with open('./data/dev.answers', 'rb') as f:\n",
    "    for true_val in f.readlines():\n",
    "        y.append(int(true_val))"
   ]
  },
  {
   "cell_type": "code",
   "execution_count": 4,
   "metadata": {
    "scrolled": true
   },
   "outputs": [
    {
     "data": {
      "text/plain": [
       "[-1, -1]"
      ]
     },
     "execution_count": 4,
     "metadata": {},
     "output_type": "execute_result"
    }
   ],
   "source": [
    "y[0:2]"
   ]
  },
  {
   "cell_type": "markdown",
   "metadata": {},
   "source": [
    "# Convert to Numpy arrays and set up for training"
   ]
  },
  {
   "cell_type": "code",
   "execution_count": 5,
   "metadata": {},
   "outputs": [],
   "source": [
    "# since we have labels only for the first ~26000 sentences, get only that that data\n",
    "x = x[0:len(y)]"
   ]
  },
  {
   "cell_type": "code",
   "execution_count": 14,
   "metadata": {},
   "outputs": [],
   "source": [
    "x_train, x_test, y_train, y_test = train_test_split(np.array(x).reshape(-1, 6), np.array(y).reshape(-1,1), test_size=0.05)"
   ]
  },
  {
   "cell_type": "code",
   "execution_count": 15,
   "metadata": {},
   "outputs": [
    {
     "data": {
      "text/plain": [
       "(24289, 6)"
      ]
     },
     "execution_count": 15,
     "metadata": {},
     "output_type": "execute_result"
    }
   ],
   "source": [
    "x_train.shape"
   ]
  },
  {
   "cell_type": "code",
   "execution_count": 16,
   "metadata": {},
   "outputs": [
    {
     "data": {
      "text/plain": [
       "(24289, 1)"
      ]
     },
     "execution_count": 16,
     "metadata": {},
     "output_type": "execute_result"
    }
   ],
   "source": [
    "y_train.shape"
   ]
  },
  {
   "cell_type": "code",
   "execution_count": 17,
   "metadata": {},
   "outputs": [
    {
     "data": {
      "text/plain": [
       "(1279, 6)"
      ]
     },
     "execution_count": 17,
     "metadata": {},
     "output_type": "execute_result"
    }
   ],
   "source": [
    "x_test.shape"
   ]
  },
  {
   "cell_type": "code",
   "execution_count": 18,
   "metadata": {},
   "outputs": [
    {
     "data": {
      "text/plain": [
       "(1279, 1)"
      ]
     },
     "execution_count": 18,
     "metadata": {},
     "output_type": "execute_result"
    }
   ],
   "source": [
    "y_test.shape"
   ]
  },
  {
   "cell_type": "markdown",
   "metadata": {},
   "source": [
    "# Start applying machine learning"
   ]
  },
  {
   "cell_type": "markdown",
   "metadata": {},
   "source": [
    "## Logistic Regression"
   ]
  },
  {
   "cell_type": "code",
   "execution_count": 19,
   "metadata": {},
   "outputs": [],
   "source": [
    "from sklearn.linear_model import LogisticRegression, LogisticRegressionCV, RidgeClassifierCV\n",
    "from sklearn.metrics import accuracy_score, classification_report"
   ]
  },
  {
   "cell_type": "code",
   "execution_count": 20,
   "metadata": {},
   "outputs": [],
   "source": [
    "log = LogisticRegression(penalty='l2', \n",
    "                   dual=False, tol=0.0001, \n",
    "                   C=1.0, fit_intercept=True, \n",
    "                   intercept_scaling=1, class_weight=None, \n",
    "                   random_state=None, solver='saga', \n",
    "                   max_iter=1000, multi_class='multinomial', verbose=0, \n",
    "                   warm_start=False, n_jobs=1)"
   ]
  },
  {
   "cell_type": "code",
   "execution_count": 21,
   "metadata": {},
   "outputs": [
    {
     "name": "stdout",
     "output_type": "stream",
     "text": [
      "accuracy 0.518373729476\n"
     ]
    }
   ],
   "source": [
    "log.fit(x_train, y_train)\n",
    "pred = log.predict(x_test)\n",
    "acc = accuracy_score(y_test, pred, normalize=True, sample_weight=None)\n",
    "print('accuracy {}'.format(acc))"
   ]
  },
  {
   "cell_type": "code",
   "execution_count": 22,
   "metadata": {},
   "outputs": [
    {
     "data": {
      "text/plain": [
       "array([[-0.78731138,  0.89750619, -0.86239513,  0.60188483, -1.32490418,\n",
       "         1.42813185],\n",
       "       [-0.01292403, -0.10921463,  0.00866005,  0.61218419,  0.12969254,\n",
       "        -0.4295512 ],\n",
       "       [ 0.80023541, -0.78829156,  0.85373508, -1.21406901,  1.19521164,\n",
       "        -0.99858065]])"
      ]
     },
     "execution_count": 22,
     "metadata": {},
     "output_type": "execute_result"
    }
   ],
   "source": [
    "log.coef_"
   ]
  },
  {
   "cell_type": "code",
   "execution_count": 23,
   "metadata": {},
   "outputs": [
    {
     "data": {
      "text/plain": [
       "array([-1,  0,  1])"
      ]
     },
     "execution_count": 23,
     "metadata": {},
     "output_type": "execute_result"
    }
   ],
   "source": [
    "log.classes_"
   ]
  },
  {
   "cell_type": "code",
   "execution_count": 25,
   "metadata": {},
   "outputs": [],
   "source": [
    "pred_whole_data = log.predict(whole_data)\n",
    "\n",
    "with open('./output_ML_logistic', 'wb') as f:\n",
    "    for num in pred_whole_data:\n",
    "        print(num, file=f)"
   ]
  },
  {
   "cell_type": "markdown",
   "metadata": {},
   "source": [
    "## Support Vector Machines"
   ]
  },
  {
   "cell_type": "code",
   "execution_count": 26,
   "metadata": {},
   "outputs": [],
   "source": [
    "from sklearn.model_selection import GridSearchCV\n",
    "from sklearn.svm import SVC"
   ]
  },
  {
   "cell_type": "code",
   "execution_count": 27,
   "metadata": {},
   "outputs": [
    {
     "data": {
      "text/plain": [
       "(24289, 6)"
      ]
     },
     "execution_count": 27,
     "metadata": {},
     "output_type": "execute_result"
    }
   ],
   "source": [
    "x_train.shape"
   ]
  },
  {
   "cell_type": "code",
   "execution_count": 28,
   "metadata": {},
   "outputs": [
    {
     "data": {
      "text/plain": [
       "(24289, 1)"
      ]
     },
     "execution_count": 28,
     "metadata": {},
     "output_type": "execute_result"
    }
   ],
   "source": [
    "y_train.shape"
   ]
  },
  {
   "cell_type": "code",
   "execution_count": 29,
   "metadata": {},
   "outputs": [
    {
     "data": {
      "text/plain": [
       "(24289, 6)"
      ]
     },
     "execution_count": 29,
     "metadata": {},
     "output_type": "execute_result"
    }
   ],
   "source": [
    "x_train.shape"
   ]
  },
  {
   "cell_type": "code",
   "execution_count": 30,
   "metadata": {},
   "outputs": [
    {
     "data": {
      "text/plain": [
       "SVC(C=1.0, cache_size=200, class_weight=None, coef0=0.0,\n",
       "  decision_function_shape='ovr', degree=3, gamma='auto', kernel='rbf',\n",
       "  max_iter=-1, probability=False, random_state=None, shrinking=True,\n",
       "  tol=0.001, verbose=False)"
      ]
     },
     "execution_count": 30,
     "metadata": {},
     "output_type": "execute_result"
    }
   ],
   "source": [
    "clf = SVC()\n",
    "clf.fit(x_train, y_train)"
   ]
  },
  {
   "cell_type": "code",
   "execution_count": 31,
   "metadata": {},
   "outputs": [
    {
     "name": "stdout",
     "output_type": "stream",
     "text": [
      "accuracy 0.517591868647\n"
     ]
    }
   ],
   "source": [
    "pred = clf.predict(x_test)\n",
    "acc = accuracy_score(y_test, pred, normalize=True, sample_weight=None)\n",
    "print('accuracy {}'.format(acc))"
   ]
  },
  {
   "cell_type": "code",
   "execution_count": 32,
   "metadata": {},
   "outputs": [],
   "source": [
    "pred_whole_data = clf.predict(whole_data)"
   ]
  },
  {
   "cell_type": "code",
   "execution_count": 33,
   "metadata": {},
   "outputs": [],
   "source": [
    "with open('./output_ML_SVM_new', 'wb') as f:\n",
    "    for num in pred_whole_data:\n",
    "        print(num, file=f)"
   ]
  },
  {
   "cell_type": "markdown",
   "metadata": {},
   "source": [
    "## Neural Network"
   ]
  },
  {
   "cell_type": "code",
   "execution_count": 35,
   "metadata": {},
   "outputs": [
    {
     "name": "stderr",
     "output_type": "stream",
     "text": [
      "Using TensorFlow backend.\n"
     ]
    }
   ],
   "source": [
    "import keras\n",
    "from keras.layers import Dense, Input\n",
    "from keras.models import Model\n",
    "from keras.utils.np_utils import to_categorical"
   ]
  },
  {
   "cell_type": "code",
   "execution_count": 36,
   "metadata": {},
   "outputs": [],
   "source": [
    "inp = Input(shape=(6,))\n",
    "x = Dense(200, activation='relu')(inp)\n",
    "x = Dense(200, activation='relu')(x)\n",
    "x = Dense(200, activation='relu')(x)\n",
    "x = Dense(3, activation='softmax')(x)\n",
    "\n",
    "model = Model(inputs=inp, outputs=x)"
   ]
  },
  {
   "cell_type": "code",
   "execution_count": 37,
   "metadata": {},
   "outputs": [
    {
     "name": "stdout",
     "output_type": "stream",
     "text": [
      "_________________________________________________________________\n",
      "Layer (type)                 Output Shape              Param #   \n",
      "=================================================================\n",
      "input_1 (InputLayer)         (None, 6)                 0         \n",
      "_________________________________________________________________\n",
      "dense_1 (Dense)              (None, 200)               1400      \n",
      "_________________________________________________________________\n",
      "dense_2 (Dense)              (None, 200)               40200     \n",
      "_________________________________________________________________\n",
      "dense_3 (Dense)              (None, 200)               40200     \n",
      "_________________________________________________________________\n",
      "dense_4 (Dense)              (None, 3)                 603       \n",
      "=================================================================\n",
      "Total params: 82,403\n",
      "Trainable params: 82,403\n",
      "Non-trainable params: 0\n",
      "_________________________________________________________________\n"
     ]
    }
   ],
   "source": [
    "model.summary()"
   ]
  },
  {
   "cell_type": "code",
   "execution_count": 38,
   "metadata": {},
   "outputs": [],
   "source": [
    "model.compile(loss='categorical_crossentropy', optimizer='adadelta', metrics=['accuracy'])"
   ]
  },
  {
   "cell_type": "code",
   "execution_count": 39,
   "metadata": {},
   "outputs": [],
   "source": [
    "y_train_cat = to_categorical(y_train, num_classes=3)"
   ]
  },
  {
   "cell_type": "code",
   "execution_count": 40,
   "metadata": {},
   "outputs": [
    {
     "name": "stdout",
     "output_type": "stream",
     "text": [
      "Train on 24289 samples, validate on 1279 samples\n",
      "Epoch 1/20\n",
      "24289/24289 [==============================] - 2s - loss: 0.9838 - acc: 0.5157 - val_loss: 0.9878 - val_acc: 0.4902\n",
      "Epoch 2/20\n",
      "24289/24289 [==============================] - 2s - loss: 0.9721 - acc: 0.5289 - val_loss: 0.9932 - val_acc: 0.4855\n",
      "Epoch 3/20\n",
      "24289/24289 [==============================] - 2s - loss: 0.9704 - acc: 0.5314 - val_loss: 0.9872 - val_acc: 0.5160\n",
      "Epoch 4/20\n",
      "24289/24289 [==============================] - 2s - loss: 0.9703 - acc: 0.5297 - val_loss: 0.9879 - val_acc: 0.5145\n",
      "Epoch 5/20\n",
      "24289/24289 [==============================] - 2s - loss: 0.9697 - acc: 0.5306 - val_loss: 0.9852 - val_acc: 0.5137\n",
      "Epoch 6/20\n",
      "24289/24289 [==============================] - 2s - loss: 0.9691 - acc: 0.5311 - val_loss: 0.9916 - val_acc: 0.4934\n",
      "Epoch 7/20\n",
      "24289/24289 [==============================] - 2s - loss: 0.9686 - acc: 0.5321 - val_loss: 0.9809 - val_acc: 0.5137\n",
      "Epoch 8/20\n",
      "24289/24289 [==============================] - 2s - loss: 0.9684 - acc: 0.5323 - val_loss: 0.9922 - val_acc: 0.5051\n",
      "Epoch 9/20\n",
      "24289/24289 [==============================] - 2s - loss: 0.9681 - acc: 0.5313 - val_loss: 0.9846 - val_acc: 0.5066\n",
      "Epoch 10/20\n",
      "24289/24289 [==============================] - 2s - loss: 0.9673 - acc: 0.5319 - val_loss: 0.9842 - val_acc: 0.5160\n",
      "Epoch 11/20\n",
      "24289/24289 [==============================] - 2s - loss: 0.9674 - acc: 0.5342 - val_loss: 0.9838 - val_acc: 0.5113\n",
      "Epoch 12/20\n",
      "24289/24289 [==============================] - 2s - loss: 0.9673 - acc: 0.5313 - val_loss: 0.9877 - val_acc: 0.5074\n",
      "Epoch 13/20\n",
      "24289/24289 [==============================] - 2s - loss: 0.9669 - acc: 0.5315 - val_loss: 0.9987 - val_acc: 0.5043\n",
      "Epoch 14/20\n",
      "24289/24289 [==============================] - 2s - loss: 0.9666 - acc: 0.5330 - val_loss: 1.0012 - val_acc: 0.5012\n",
      "Epoch 15/20\n",
      "24289/24289 [==============================] - 2s - loss: 0.9662 - acc: 0.5322 - val_loss: 0.9832 - val_acc: 0.5152\n",
      "Epoch 16/20\n",
      "24289/24289 [==============================] - 2s - loss: 0.9661 - acc: 0.5321 - val_loss: 0.9874 - val_acc: 0.5098\n",
      "Epoch 17/20\n",
      "24289/24289 [==============================] - 2s - loss: 0.9661 - acc: 0.5326 - val_loss: 1.0137 - val_acc: 0.4816\n",
      "Epoch 18/20\n",
      "24289/24289 [==============================] - 2s - loss: 0.9655 - acc: 0.5331 - val_loss: 0.9846 - val_acc: 0.5215\n",
      "Epoch 19/20\n",
      "24289/24289 [==============================] - 2s - loss: 0.9655 - acc: 0.5295 - val_loss: 0.9888 - val_acc: 0.5137\n",
      "Epoch 20/20\n",
      "24289/24289 [==============================] - 2s - loss: 0.9654 - acc: 0.5322 - val_loss: 0.9858 - val_acc: 0.5082\n"
     ]
    },
    {
     "data": {
      "text/plain": [
       "<keras.callbacks.History at 0x7f4a9ad8f590>"
      ]
     },
     "execution_count": 40,
     "metadata": {},
     "output_type": "execute_result"
    }
   ],
   "source": [
    "model.fit(x_train, y_train_cat, epochs=20, validation_data=[x_test, to_categorical(y_test, num_classes=3)])"
   ]
  },
  {
   "cell_type": "code",
   "execution_count": 42,
   "metadata": {},
   "outputs": [],
   "source": [
    "cat_classes = np.argmax(model.predict(whole_data), axis=1)\n",
    "pred_classes = np.zeros((np.shape(whole_data)[0],1))\n",
    "\n",
    "for idx, cat in enumerate(cat_classes):\n",
    "    if cat == 0:\n",
    "        pred_classes[idx] = 0\n",
    "    if cat == 1:\n",
    "        pred_classes[idx] = 1\n",
    "    if cat == 2:\n",
    "        pred_classes[idx] = -1\n",
    "\n",
    "pred_whole_data = pred_classes\n",
    "with open('./output_ML_NN_new', 'wb') as f:\n",
    "    for num in pred_whole_data:\n",
    "        print(int(num), file=f)"
   ]
  }
 ],
 "metadata": {
  "kernelspec": {
   "display_name": "Python 2",
   "language": "python",
   "name": "python2"
  },
  "language_info": {
   "codemirror_mode": {
    "name": "ipython",
    "version": 2
   },
   "file_extension": ".py",
   "mimetype": "text/x-python",
   "name": "python",
   "nbconvert_exporter": "python",
   "pygments_lexer": "ipython2",
   "version": "2.7.12"
  }
 },
 "nbformat": 4,
 "nbformat_minor": 2
}
