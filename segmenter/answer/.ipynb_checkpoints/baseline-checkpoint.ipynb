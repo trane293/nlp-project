{
 "cells": [
  {
   "cell_type": "markdown",
   "metadata": {},
   "source": [
    "## chartEntry Datastructure"
   ]
  },
  {
   "cell_type": "code",
   "execution_count": 1,
   "metadata": {},
   "outputs": [],
   "source": [
    "from __future__ import print_function\n",
    "\n",
    "class chartEntry:\n",
    "    \"\"\"\n",
    "    This class implements the data structure \"Entry\" described in the baseline\n",
    "    algorithm. The pseduocode for the description is:\n",
    "    \n",
    "    Entry(word, start-position, end-position, log-probability, back-pointer)\n",
    "    \n",
    "    We define the __lt__ and __eq__ operators to allow comparisons betwen two entries when \n",
    "    trying to push them into the heap. This operator respects the sort_acc_to variable and \n",
    "    provides boolean value accordingly. \n",
    "\n",
    "    It supports operations based on two ideas - i) sorting by start_pos\n",
    "                                                ii) sorting by log_prob. \n",
    "        \n",
    "    EXAMPLE USAGE: \n",
    "        p = chartEntry('Anmol', 0, 4, 0.2, -1, sort_acc_to='start_pos')\n",
    "        print(p)\n",
    "        p.get_item('log_prob')\n",
    "        e1 = chartEntry('Anmol', 0, 4, 0.2, -1)\n",
    "        e2 = chartEntry(\"Shreeashish\", 5, 10, 0.5, 0)\n",
    "        e3 = chartEntry('Amir Ali', 11, 16, 0.4, 1)\n",
    "        \n",
    "    This work is a part of the Assignment 1 of CMPT 825 Natural Language Processing\n",
    "    taught by Prof. Anoop Sarkar. \n",
    "    \n",
    "    AUTHOR: Anmol Sharma, GroupNLP\n",
    "    INSTITUTION: Simon Fraser University\n",
    "    \"\"\"\n",
    "    \n",
    "    def __init__(self, word, start_pos, end_pos, log_prob, back_ptr, sort_acc_to='start_pos'):\n",
    "        self.instance = {}\n",
    "        self.instance['word'] = word\n",
    "        self.instance['start_pos'] = start_pos\n",
    "        self.instance['end_pos'] = end_pos\n",
    "        self.instance['log_prob'] = log_prob\n",
    "        self.instance['back_ptr'] = back_ptr\n",
    "        self.__sort_type = sort_acc_to\n",
    "        \n",
    "    def __repr__(self):\n",
    "        return \"chartEntry(%s, %d, %d, %f, %f)\" % (self.instance['word'], self.instance['start_pos'], \\\n",
    "                                              self.instance['end_pos'], self.instance['log_prob'],\\\n",
    "                                              self.instance['back_ptr'])\n",
    "    \n",
    "    def __lt__(self, other_obj):\n",
    "        if self.__sort_type == 'start_pos':\n",
    "            return (self.instance['start_pos'] < other_obj.instance['start_pos'])\n",
    "        else:\n",
    "            return (self.instance['log_prob'] < other_obj.instance['log_prob'])\n",
    "    \n",
    "    def __eq__(self,other_obj):\n",
    "        if self.__sort_type == 'start_pos':\n",
    "            return (self.instance['start_pos'] == other_obj.instance['start_pos'])\n",
    "        else:\n",
    "            return (self.instance['log_prob'] == other_obj.instance['log_prob'])\n",
    "    \n",
    "    def get_item(self, key):\n",
    "        return self.instance[key] if key in self.instance else \"Undefined Key\"\n",
    "    "
   ]
  },
  {
   "cell_type": "markdown",
   "metadata": {},
   "source": [
    "## Start building the heap"
   ]
  },
  {
   "cell_type": "code",
   "execution_count": 2,
   "metadata": {},
   "outputs": [],
   "source": [
    "import heapq as heapq\n",
    "class Heap:\n",
    "    \"\"\"\n",
    "    A class wrapper for heapq datastructure implementation of python. Python's default heapq \n",
    "    implementation requires a list as initialized heap, however it doesn't provide\n",
    "    any safeguards against the fact that the underlying list may be changed by some function. \n",
    "    \n",
    "    To provide safeguard mechanism, this class wraps the push and pop functions of heapq. \n",
    "    \n",
    "    EXAMPLE USAGE:\n",
    "        sort_acc_to='log_prob'\n",
    "        p = chartEntry('Anmol', 0, 4, 0.2, -1, sort_acc_to)\n",
    "        print(p)\n",
    "        p.get_item('log_prob')\n",
    "        e1 = chartEntry('Anmol', 0, 4, 0.6, -1, sort_acc_to)\n",
    "        e2 = chartEntry(\"Shreeashish\", 5, 10, 0.5, 0, sort_acc_to)\n",
    "        e3 = chartEntry('Amir Ali', 11, 16, 0.1, 1, sort_acc_to)\n",
    "        heap1 = Heap()\n",
    "        heap1.push(e1)\n",
    "        heap1.push(e2)\n",
    "        heap1.push(e3)\n",
    "        heap1.pop()\n",
    "        \n",
    "    This work is a part of the Assignment 1 of CMPT 825 Natural Language Processing\n",
    "    taught by Prof. Anoop Sarkar. \n",
    "    \n",
    "    AUTHOR: Anmol Sharma, GroupNLP\n",
    "    INSTITUTION: Simon Fraser University\n",
    "    \"\"\"\n",
    "    \n",
    "    def __init__(self, ls=None):\n",
    "        self.__heap = ls if ls else []\n",
    "        heapq.heapify(self.__heap)\n",
    "        \n",
    "    def push(self, item):\n",
    "        heapq.heappush(self.__heap, item)\n",
    "    \n",
    "    def pop(self):\n",
    "        return heapq.heappop(self.__heap)\n",
    "    \n",
    "    def __len__(self):\n",
    "        return len(self.__heap)\n",
    "    \n",
    "    def __repr__(self):\n",
    "        return \"{}\".format(self.__heap)"
   ]
  },
  {
   "cell_type": "markdown",
   "metadata": {},
   "source": [
    "### Testing"
   ]
  },
  {
   "cell_type": "code",
   "execution_count": 3,
   "metadata": {},
   "outputs": [
    {
     "name": "stdout",
     "output_type": "stream",
     "text": [
      "chartEntry(Anmol, 0, 4, 0.200000, -1.000000)\n"
     ]
    }
   ],
   "source": [
    "sort_acc_to='log_prob'\n",
    "p = chartEntry('Anmol', 0, 4, 0.2, -1, sort_acc_to)\n",
    "print(p)\n",
    "p.get_item('log_prob')\n",
    "e1 = chartEntry('Anmol', 0, 4, 0.6, -1, sort_acc_to)\n",
    "e2 = chartEntry(\"Shreeashish\", 5, 10, 0.5, 0, sort_acc_to)\n",
    "e3 = chartEntry('Amir Ali', 11, 16, 0.1, 1, sort_acc_to)"
   ]
  },
  {
   "cell_type": "code",
   "execution_count": 4,
   "metadata": {},
   "outputs": [
    {
     "name": "stdout",
     "output_type": "stream",
     "text": [
      "chartEntry(Anmol, 0, 4, 0.600000, -1.000000) chartEntry(Shreeashish, 5, 10, 0.500000, 0.000000) chartEntry(Amir Ali, 11, 16, 0.100000, 1.000000)\n"
     ]
    }
   ],
   "source": [
    "print(e1, e2, e3)"
   ]
  },
  {
   "cell_type": "code",
   "execution_count": 5,
   "metadata": {},
   "outputs": [],
   "source": [
    "heap1 = Heap()"
   ]
  },
  {
   "cell_type": "code",
   "execution_count": 6,
   "metadata": {},
   "outputs": [
    {
     "name": "stdout",
     "output_type": "stream",
     "text": [
      "[]\n"
     ]
    }
   ],
   "source": [
    "print(heap1)"
   ]
  },
  {
   "cell_type": "markdown",
   "metadata": {},
   "source": [
    "Testing the heap property, that the entry with lowest start-pos is the first to be popped, regardless of the order of pushing them into heap. "
   ]
  },
  {
   "cell_type": "code",
   "execution_count": 7,
   "metadata": {},
   "outputs": [],
   "source": [
    "heap1.push(e1)\n",
    "heap1.push(e2)\n",
    "heap1.push(e3)"
   ]
  },
  {
   "cell_type": "code",
   "execution_count": 8,
   "metadata": {},
   "outputs": [
    {
     "data": {
      "text/plain": [
       "chartEntry(Amir Ali, 11, 16, 0.100000, 1.000000)"
      ]
     },
     "execution_count": 8,
     "metadata": {},
     "output_type": "execute_result"
    }
   ],
   "source": [
    "heap1.pop()"
   ]
  },
  {
   "cell_type": "code",
   "execution_count": 9,
   "metadata": {},
   "outputs": [
    {
     "data": {
      "text/plain": [
       "chartEntry(Shreeashish, 5, 10, 0.500000, 0.000000)"
      ]
     },
     "execution_count": 9,
     "metadata": {},
     "output_type": "execute_result"
    }
   ],
   "source": [
    "heap1.pop()"
   ]
  },
  {
   "cell_type": "code",
   "execution_count": 10,
   "metadata": {},
   "outputs": [
    {
     "data": {
      "text/plain": [
       "chartEntry(Anmol, 0, 4, 0.600000, -1.000000)"
      ]
     },
     "execution_count": 10,
     "metadata": {},
     "output_type": "execute_result"
    }
   ],
   "source": [
    "heap1.pop()"
   ]
  },
  {
   "cell_type": "markdown",
   "metadata": {},
   "source": [
    "Testing the heap property, that the entry with lowest start-pos is the first to be popped, regardless of the order of pushing them into heap. "
   ]
  },
  {
   "cell_type": "code",
   "execution_count": 11,
   "metadata": {},
   "outputs": [],
   "source": [
    "heap2 = Heap()"
   ]
  },
  {
   "cell_type": "code",
   "execution_count": 12,
   "metadata": {},
   "outputs": [],
   "source": [
    "heap2.push(e3)\n",
    "heap2.push(e2)\n",
    "heap2.push(e1)"
   ]
  },
  {
   "cell_type": "code",
   "execution_count": 13,
   "metadata": {},
   "outputs": [
    {
     "data": {
      "text/plain": [
       "chartEntry(Amir Ali, 11, 16, 0.100000, 1.000000)"
      ]
     },
     "execution_count": 13,
     "metadata": {},
     "output_type": "execute_result"
    }
   ],
   "source": [
    "heap2.pop()"
   ]
  },
  {
   "cell_type": "code",
   "execution_count": 14,
   "metadata": {},
   "outputs": [
    {
     "data": {
      "text/plain": [
       "chartEntry(Shreeashish, 5, 10, 0.500000, 0.000000)"
      ]
     },
     "execution_count": 14,
     "metadata": {},
     "output_type": "execute_result"
    }
   ],
   "source": [
    "heap2.pop()"
   ]
  },
  {
   "cell_type": "code",
   "execution_count": 15,
   "metadata": {},
   "outputs": [
    {
     "data": {
      "text/plain": [
       "chartEntry(Anmol, 0, 4, 0.600000, -1.000000)"
      ]
     },
     "execution_count": 15,
     "metadata": {},
     "output_type": "execute_result"
    }
   ],
   "source": [
    "heap2.pop()"
   ]
  }
 ],
 "metadata": {
  "kernelspec": {
   "display_name": "Python 2",
   "language": "python",
   "name": "python2"
  },
  "language_info": {
   "codemirror_mode": {
    "name": "ipython",
    "version": 2
   },
   "file_extension": ".py",
   "mimetype": "text/x-python",
   "name": "python",
   "nbconvert_exporter": "python",
   "pygments_lexer": "ipython2",
   "version": "2.7.12"
  }
 },
 "nbformat": 4,
 "nbformat_minor": 2
}
