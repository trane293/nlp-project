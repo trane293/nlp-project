{
 "cells": [
  {
   "cell_type": "markdown",
   "metadata": {},
   "source": [
    "# <span style='color:orange'> Modelling Chinese Word Segmentation as Sequence to Sequence Prediction Problem </span>"
   ]
  },
  {
   "cell_type": "markdown",
   "metadata": {},
   "source": [
    "# Generate data for sequence to sequence modelling"
   ]
  },
  {
   "cell_type": "markdown",
   "metadata": {},
   "source": [
    "This returns the structure \"data\" which contains sentences as individual lists, along with the class label of each character. "
   ]
  },
  {
   "cell_type": "code",
   "execution_count": null,
   "metadata": {},
   "outputs": [],
   "source": [
    "import numpy as np\n",
    "import collections\n",
    "from sklearn.model_selection import train_test_split\n",
    "import keras\n",
    "from keras.utils.np_utils import to_categorical\n",
    "from keras.preprocessing import sequence\n",
    "import cPickle as pickle"
   ]
  },
  {
   "cell_type": "code",
   "execution_count": null,
   "metadata": {},
   "outputs": [],
   "source": [
    "SPECIAL_SYMBOL = u'\\u02e0'"
   ]
  },
  {
   "cell_type": "code",
   "execution_count": null,
   "metadata": {},
   "outputs": [],
   "source": [
    "# we open the count file, get the word and assign labels to each character\n",
    "# cannot use dictionaries, since the same character may appear again and overwrites the value at its place in dict.\n",
    "\n",
    "def generateTupleListAccToSentences(filename):\n",
    "    \"\"\"\n",
    "    This function generates a data list of lists, which contains sequences and corresponding\n",
    "    labels for each character, according to the sentences in the input file. This function \n",
    "    takes the whole training set txt file as input, and generates sequences according to the \n",
    "    line, ie. each sequence is a line. \n",
    "    \n",
    "    INPUT: Input to this function is the training text file\n",
    "    filename='/local-scratch/asa224/wseg_simplified_cn.txt'\n",
    "    \n",
    "    If you want to use this data as training data for LSTM, you have to pad the sequences \n",
    "    since they are not of the same length. \n",
    "    \"\"\"\n",
    "    # filepath = '/mnt/D82A1A8F2A1A6B30/wseg_simplified_cn.txt'\n",
    "    with(open(filepath, 'rb')) as f:\n",
    "        data = [[]]\n",
    "        count = 0\n",
    "        for line in f:\n",
    "            line = unicode(line, 'utf-8')\n",
    "            line = line.replace('\\n', '')\n",
    "            words = line.split(' ')\n",
    "\n",
    "            for word in words:\n",
    "                if len(word) == 1:\n",
    "                    data[count].append((word[0], 3))\n",
    "                else:\n",
    "                    for i, character in enumerate(word):\n",
    "                        if i == 0: # this is the first letter\n",
    "                            data[count].append((character, 0))\n",
    "                        elif i == (len(word) - 1): # this is the last letter\n",
    "                            data[count].append((character, 2))\n",
    "                        else: # this is somewhere in the middle\n",
    "                            data[count].append((character, 1))\n",
    "            data.append([])\n",
    "            count += 1\n",
    "\n",
    "        f.close()\n",
    "        \n",
    "        return data\n",
    "    \n",
    "def generateWordFile(filename, output_dir):\n",
    "    \"\"\"\n",
    "    The function generates the word file, similar to the count_1w.txt file provided by Prof. Anoop\n",
    "    \n",
    "    The output of the file can be used to parse the characters, and is an input to the \n",
    "    generateTupleList() function as well. \n",
    "    \n",
    "    filename='/local-scratch/asa224/wseg_simplified_cn.txt'\n",
    "    \n",
    "    INPUT: Input to this function is the training text file. \n",
    "    \n",
    "    \"\"\"\n",
    "    with(open(filename, 'rb')) as f:\n",
    "        word_file_1M = open(output_dir + 'word_file_1M', 'wb')\n",
    "        for line in f:\n",
    "            line = unicode(line, 'utf-8')\n",
    "            line = line.replace('\\n', '')\n",
    "            line = line.split(' ')\n",
    "            \n",
    "            # add the newline back using a special symbol\n",
    "            line.append(SPECIAL_SYMBOL)\n",
    "            for word in line:\n",
    "                word_file_1M.write(word.encode('utf-8') + '\\t'.encode('utf-8') + str(0).encode('utf-8') +\\\n",
    "                                           '\\n'.encode('utf-8'))\n",
    "        f.close()\n",
    "    word_file_1M.close()\n",
    "\n",
    "def generateInputWordFile(filename, output_dir):\n",
    "    \"\"\"\n",
    "    The function generates the word file, similar to the count_1w.txt file provided by Prof. Anoop\n",
    "    \n",
    "    THIS GENERATES WORD FILE FOR INPUT TEXT. \n",
    "    \n",
    "    The output of the file can be used to parse the characters, and is an input to the \n",
    "    generateTupleList() function as well. \n",
    "    \n",
    "    INPUT: Input to this function is the training text file. \n",
    "    \n",
    "    filename='/local-scratch/asa224/input'\n",
    "    \n",
    "    \"\"\"\n",
    "    with(open(filename, 'rb')) as f:\n",
    "        word_file_1M = open(output_dir + 'input_word_file', 'wb')\n",
    "        for line in f:\n",
    "            line = unicode(line, 'utf-8')\n",
    "            # replace the newline character with the special unicode symbol\n",
    "            line = line.replace('\\n', SPECIAL_SYMBOL)\n",
    "            for word in line:\n",
    "                word_file_1M.write(word.encode('utf-8') + '\\t'.encode('utf-8') + str(0).encode('utf-8') +\\\n",
    "                                           '\\n'.encode('utf-8'))\n",
    "        f.close()\n",
    "    word_file_1M.close()\n",
    "\n",
    "def generateTupleList(filename):\n",
    "    \"\"\"\n",
    "    This function is similar to the above function in the sense that it assigns labels to each\n",
    "    character in the training set. The function returns a list of tuples, in which each tuple\n",
    "    contains a single character and its corresponding label. \n",
    "    \n",
    "    INPUT: Input to this function is a WORD FILE generated by generateWordFile(filename) function. \n",
    "    \n",
    "    filename='/local-scratch/asa224/word_file_1M'\n",
    "    \n",
    "    Use this function in conjunction with nGramSequenceGenerator(labelledlist, n) to create a\n",
    "    training set with constant sequence size, which does not require paddings. \n",
    "    \"\"\"\n",
    "    with(open(filename, 'rb')) as f:\n",
    "        label = []\n",
    "        for line in f:\n",
    "            word, count = line.split('\\t')\n",
    "            # making sure the parsing is going fine\n",
    "            assert int(count) == 0\n",
    "\n",
    "            word = unicode(word, 'utf-8')\n",
    "            if len(word) == 1:\n",
    "                label.append((word[0], 3))\n",
    "            else:\n",
    "                for i, character in enumerate(word):\n",
    "                    if i == 0: # this is the first letter\n",
    "                        label.append((character, 0))\n",
    "                    elif i == (len(word) - 1): # this is the last letter\n",
    "                        label.append((character, 2))\n",
    "                    else: # this is somewhere in the middle\n",
    "                        label.append((character, 1))\n",
    "\n",
    "        f.close()\n",
    "        return label\n",
    "    \n",
    "def nGramSequenceGenerator(labelledlist, n):\n",
    "    \"\"\"\n",
    "    Takes as input the label list of tuples generated by the code above. \n",
    "    The function generates sequence of size \"n\" from the given list. \n",
    "    \"\"\"\n",
    "    count = len(labelledlist)/n\n",
    "    ngrammedlist = []\n",
    "    for i in range(count):\n",
    "        ngrammedlist.append( labelledlist[i*n : (i+1)*n])\n",
    "    return ngrammedlist"
   ]
  },
  {
   "cell_type": "code",
   "execution_count": null,
   "metadata": {},
   "outputs": [],
   "source": [
    "parent_path = '/home/asa224/Desktop/students_less_asa224/Test Folder on Less/'\n",
    "useCache = True\n",
    "\n",
    "if useCache == False:\n",
    "    print('Generating new word file with new newline unicode encoding..')\n",
    "    generateWordFile(filename=parent_path + 'wseg_simplified_cn.txt', output_dir=parent_path)\n",
    "    print('Generating list of tuples of all characters in the word file')\n",
    "    list_of_tuples = generateTupleList(filename=parent_path + 'word_file_1M')\n",
    "    n_timesteps = 13\n",
    "    print('Generating ngram sequences, with n_timesteps = {}'.format(n_timesteps))\n",
    "    data = nGramSequenceGenerator(list_of_tuples, n=n_timesteps)\n",
    "    \n",
    "    pickle.dump( list_of_tuples, open( parent_path + \"list_of_tuples_\"+str(n_timesteps)+\".p\", \"wb\" ) )\n",
    "    pickle.dump( data, open( parent_path + \"data_\"+str(n_timesteps)+\".p\", \"wb\" ) )\n",
    "    \n",
    "else:\n",
    "    list_of_tuples = pickle.load( open( parent_path + \"list_of_tuples_\"+str(n_timesteps)+\".p\", \"rb\" ) )\n",
    "    data = pickle.load(open( parent_path + \"data_\"+str(n_timesteps)+\".p\", \"rb\" ))"
   ]
  },
  {
   "cell_type": "code",
   "execution_count": null,
   "metadata": {
    "scrolled": true
   },
   "outputs": [],
   "source": [
    "data[0:5]"
   ]
  },
  {
   "cell_type": "markdown",
   "metadata": {},
   "source": [
    "# Build initial integer embeddings"
   ]
  },
  {
   "cell_type": "code",
   "execution_count": null,
   "metadata": {},
   "outputs": [],
   "source": [
    "all_chars = [data[i][j][0] for i in range(0, len(data)) for j in range(0, len(data[i]))]"
   ]
  },
  {
   "cell_type": "code",
   "execution_count": null,
   "metadata": {},
   "outputs": [],
   "source": [
    "print('Total number of characters in the dataset: {}'.format(len(all_chars)))"
   ]
  },
  {
   "cell_type": "code",
   "execution_count": null,
   "metadata": {},
   "outputs": [],
   "source": [
    "def build_dataset(words):\n",
    "    count = collections.Counter(words).most_common()\n",
    "    dictionary = dict()\n",
    "    for word, _ in count:\n",
    "        dictionary[word] = len(dictionary)\n",
    "    reverse_dictionary = dict(zip(dictionary.values(), dictionary.keys()))\n",
    "    return dictionary, reverse_dictionary"
   ]
  },
  {
   "cell_type": "code",
   "execution_count": null,
   "metadata": {},
   "outputs": [],
   "source": [
    "print('Building dictionaries for initial embedding word -> integers...')\n",
    "orig_dict, ret_dict = build_dataset(all_chars)\n",
    "del all_chars"
   ]
  },
  {
   "cell_type": "code",
   "execution_count": null,
   "metadata": {},
   "outputs": [],
   "source": [
    "# ret_dict[orig_dict[u'\\u6743']]"
   ]
  },
  {
   "cell_type": "code",
   "execution_count": null,
   "metadata": {},
   "outputs": [],
   "source": [
    "print('Number of unique characters in the dictionary: {}'.format(len(orig_dict)))"
   ]
  },
  {
   "cell_type": "markdown",
   "metadata": {},
   "source": [
    "Save the lookup dictionaries"
   ]
  },
  {
   "cell_type": "code",
   "execution_count": null,
   "metadata": {},
   "outputs": [],
   "source": [
    "import cPickle as pickle\n",
    "pickle.dump( orig_dict, open( parent_path + \"temp_files/orig_dict.p\", \"wb\" ) )\n",
    "pickle.dump( ret_dict, open( parent_path + \"temp_files/ret_dict.p\", \"wb\" ) )"
   ]
  },
  {
   "cell_type": "markdown",
   "metadata": {},
   "source": [
    "## Create sequences suitable for training"
   ]
  },
  {
   "cell_type": "code",
   "execution_count": null,
   "metadata": {},
   "outputs": [],
   "source": [
    "print('Creating sequences suitable for training...')\n",
    "x = [[]]\n",
    "y = [[]]\n",
    "for i in range(0, len(data)): # iterate over the whole dataset\n",
    "    for j in range(0, len(data[i])): # iterate over the current sentence\n",
    "        x[i].append(orig_dict[data[i][j][0]])\n",
    "        y[i].append(data[i][j][1])\n",
    "    x.append([])\n",
    "    y.append([])"
   ]
  },
  {
   "cell_type": "code",
   "execution_count": null,
   "metadata": {},
   "outputs": [],
   "source": [
    "del data"
   ]
  },
  {
   "cell_type": "code",
   "execution_count": null,
   "metadata": {},
   "outputs": [],
   "source": [
    "print('Splitting data to training/testing...')\n",
    "X_train, X_test, y_train, y_test = train_test_split(x, y, test_size=0.20, shuffle=False, random_state=42)"
   ]
  },
  {
   "cell_type": "code",
   "execution_count": null,
   "metadata": {},
   "outputs": [],
   "source": [
    "del x,y"
   ]
  },
  {
   "cell_type": "code",
   "execution_count": null,
   "metadata": {},
   "outputs": [],
   "source": [
    "print('Size of the Dataset\\n')\n",
    "print('X_TRAIN: {}'.format(np.shape(X_train)))\n",
    "print('Y_TRAIN: {}'.format(np.shape(y_train)))\n",
    "\n",
    "print('X_TEST: {}'.format(np.shape(X_test)))\n",
    "print('Y_TEST: {}'.format(np.shape(y_test)))"
   ]
  },
  {
   "cell_type": "markdown",
   "metadata": {},
   "source": [
    "## Convert the labels to categorical. "
   ]
  },
  {
   "cell_type": "code",
   "execution_count": null,
   "metadata": {},
   "outputs": [],
   "source": [
    "print('Converting labels to categorical...')"
   ]
  },
  {
   "cell_type": "markdown",
   "metadata": {},
   "source": [
    "This is what they look like now"
   ]
  },
  {
   "cell_type": "code",
   "execution_count": null,
   "metadata": {},
   "outputs": [],
   "source": [
    "for i in y_train:\n",
    "    print(i)\n",
    "    break"
   ]
  },
  {
   "cell_type": "markdown",
   "metadata": {},
   "source": [
    "### Start conversion"
   ]
  },
  {
   "cell_type": "markdown",
   "metadata": {},
   "source": [
    "Testing labels <br>\n",
    "There are empty lists in the test set, let's remove them. "
   ]
  },
  {
   "cell_type": "code",
   "execution_count": null,
   "metadata": {},
   "outputs": [],
   "source": [
    "X_train = [t for t in X_train if t != []]\n",
    "y_train = [t for t in y_train if t != []]\n",
    "\n",
    "X_test = [t for t in X_test if t != []]\n",
    "y_test = [t for t in y_test if t != []]"
   ]
  },
  {
   "cell_type": "markdown",
   "metadata": {},
   "source": [
    "Training labels"
   ]
  },
  {
   "cell_type": "code",
   "execution_count": null,
   "metadata": {},
   "outputs": [],
   "source": [
    "for i in range(0, len(y_train)):\n",
    "    y_train[i] = to_categorical(y_train[i], num_classes=4)"
   ]
  },
  {
   "cell_type": "code",
   "execution_count": null,
   "metadata": {},
   "outputs": [],
   "source": [
    "for i in range(0, len(y_test)):\n",
    "    y_test[i] = to_categorical(y_test[i], num_classes=4)"
   ]
  },
  {
   "cell_type": "markdown",
   "metadata": {},
   "source": [
    "This how it looks now"
   ]
  },
  {
   "cell_type": "code",
   "execution_count": null,
   "metadata": {
    "scrolled": true
   },
   "outputs": [],
   "source": [
    "for i in y_train:\n",
    "    print(i)\n",
    "    break"
   ]
  },
  {
   "cell_type": "markdown",
   "metadata": {},
   "source": [
    "Firstly, we must update the get_sequence() function to reshape the input and output sequences to be 3-dimensional to meet the expectations of the LSTM. The expected structure has the dimensions [samples, timesteps, features]. The classification problem has 1 sample (e.g. one sequence), a configurable number of timesteps, and one feature per timestep."
   ]
  },
  {
   "cell_type": "markdown",
   "metadata": {},
   "source": [
    "Let's reshape the training and testing data"
   ]
  },
  {
   "cell_type": "markdown",
   "metadata": {},
   "source": [
    "### No need to pad sequences when working on constant size sequences"
   ]
  },
  {
   "cell_type": "code",
   "execution_count": null,
   "metadata": {},
   "outputs": [],
   "source": [
    "# # maximum length of the sequence\n",
    "# maxval = len(max(X_train,key=len))"
   ]
  },
  {
   "cell_type": "code",
   "execution_count": null,
   "metadata": {},
   "outputs": [],
   "source": [
    "# X_train = sequence.pad_sequences(X_train, value=-1, maxlen=100)\n",
    "# y_train = sequence.pad_sequences(y_train, value=-1, maxlen=100)\n",
    "\n",
    "# X_test = sequence.pad_sequences(X_test, value=-1, maxlen=100)\n",
    "# y_test = sequence.pad_sequences(y_test, value=-1, maxlen=100)"
   ]
  },
  {
   "cell_type": "code",
   "execution_count": null,
   "metadata": {},
   "outputs": [],
   "source": [
    "embedding = True"
   ]
  },
  {
   "cell_type": "code",
   "execution_count": null,
   "metadata": {},
   "outputs": [],
   "source": [
    "# reshape input and output data to be suitable for LSTMs\n",
    "print('Reshaping input vectors...')\n",
    "if embedding == False:\n",
    "    X_train = np.array(X_train).reshape(np.shape(X_train)[0], n_timesteps, 1)\n",
    "    y_train = np.array(y_train).reshape(np.shape(y_train)[0], n_timesteps, 4)\n",
    "\n",
    "    X_test = np.array(X_test).reshape(np.shape(X_test)[0], n_timesteps, 1)\n",
    "    y_test = np.array(y_test).reshape(np.shape(y_test)[0], n_timesteps, 4)\n",
    "    \n",
    "else:\n",
    "    # reshape input and output data to be suitable for LSTMs\n",
    "    X_train = np.array(X_train).reshape(np.shape(X_train)[0], n_timesteps)\n",
    "    y_train = np.array(y_train).reshape(np.shape(y_train)[0], n_timesteps, 4)\n",
    "\n",
    "    X_test = np.array(X_test).reshape(np.shape(X_test)[0], n_timesteps)\n",
    "    y_test = np.array(y_test).reshape(np.shape(y_test)[0], n_timesteps, 4)"
   ]
  },
  {
   "cell_type": "markdown",
   "metadata": {},
   "source": [
    "## IF you use embedding layer, use this code"
   ]
  },
  {
   "cell_type": "code",
   "execution_count": null,
   "metadata": {},
   "outputs": [],
   "source": [
    "X_train.shape"
   ]
  },
  {
   "cell_type": "markdown",
   "metadata": {},
   "source": [
    "TODO: Add embedding layer <br>\n",
    "TODO: Increase LSTM units <br>\n",
    "TODO: Decrease the sequence size <br>\n",
    "TODO: Decrease the sequence size from the training set generation itself <br>"
   ]
  },
  {
   "cell_type": "code",
   "execution_count": null,
   "metadata": {},
   "outputs": [],
   "source": [
    "print('Defining Model...')\n",
    "from keras.models import Sequential\n",
    "from keras.layers import LSTM, TimeDistributed, Dense, Masking, Embedding, Dropout\n",
    "# define LSTM\n",
    "model = Sequential()\n",
    "model.add(Embedding(input_dim=len(orig_dict), output_dim=200, input_length=n_timesteps)) # dictionary size, embedding vector size, timesteps\n",
    "model.add(LSTM(300, return_sequences=True))\n",
    "model.add(LSTM(300, return_sequences=True))\n",
    "model.add(Dropout(0.2))\n",
    "model.add(TimeDistributed(Dense(4, activation='softmax')))\n",
    "model.compile(loss='categorical_crossentropy', optimizer='adadelta', metrics=['acc'])\n",
    "model.summary()"
   ]
  },
  {
   "cell_type": "code",
   "execution_count": null,
   "metadata": {},
   "outputs": [],
   "source": [
    "from keras.callbacks import ModelCheckpoint\n",
    "mc = ModelCheckpoint(parent_path + 'checkpoints/' + 'model.seq2seq_nl_{epoch:02d}-{val_acc:.2f}.hdf5', \n",
    "                                monitor='val_acc', \n",
    "                                verbose=0, \n",
    "                                save_best_only=False, \n",
    "                                save_weights_only=False, \n",
    "                                mode='auto', period=1)"
   ]
  },
  {
   "cell_type": "code",
   "execution_count": null,
   "metadata": {},
   "outputs": [],
   "source": [
    "history = model.fit(X_train, y_train, epochs=10, \n",
    "          batch_size=100, verbose=1, validation_data=[X_test, y_test], callbacks=[mc])\n",
    "model.save('/home/asa224/Desktop/students_less_asa224/Test Folder on Less/model_timestamps_13_epoch1-10.h5')"
   ]
  },
  {
   "cell_type": "code",
   "execution_count": null,
   "metadata": {},
   "outputs": [],
   "source": [
    "# history2 = model.fit(X_train, y_train, epochs=1, \n",
    "#           batch_size=200, verbose=1, validation_data=[X_test, y_test])\n",
    "# model.save('/home/asa224/Desktop/students_less_asa224/Test Folder on Less/model_timestamps_13_epoch2.h5')"
   ]
  },
  {
   "cell_type": "code",
   "execution_count": null,
   "metadata": {},
   "outputs": [],
   "source": [
    "# history3 = model.fit(X_train, y_train, epochs=1, \n",
    "#           batch_size=200, verbose=1, validation_data=[X_test, y_test])\n",
    "# model.save('/home/asa224/Desktop/students_less_asa224/Test Folder on Less/model_timestamps_13_epoch3.h5')"
   ]
  },
  {
   "cell_type": "markdown",
   "metadata": {},
   "source": [
    "# Testing the model on input data"
   ]
  }
 ],
 "metadata": {
  "kernelspec": {
   "display_name": "Python 2",
   "language": "python",
   "name": "python2"
  },
  "language_info": {
   "codemirror_mode": {
    "name": "ipython",
    "version": 2
   },
   "file_extension": ".py",
   "mimetype": "text/x-python",
   "name": "python",
   "nbconvert_exporter": "python",
   "pygments_lexer": "ipython2",
   "version": "2.7.12"
  }
 },
 "nbformat": 4,
 "nbformat_minor": 2
}
