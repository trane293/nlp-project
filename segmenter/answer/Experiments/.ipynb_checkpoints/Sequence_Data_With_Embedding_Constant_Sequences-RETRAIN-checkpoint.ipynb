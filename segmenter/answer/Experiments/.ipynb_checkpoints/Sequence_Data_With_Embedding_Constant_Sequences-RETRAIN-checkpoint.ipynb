{
 "cells": [
  {
   "cell_type": "markdown",
   "metadata": {},
   "source": [
    "# <span style='color:orange'> Modelling Chinese Word Segmentation as Sequence to Sequence Prediction Problem </span>"
   ]
  },
  {
   "cell_type": "markdown",
   "metadata": {},
   "source": [
    "# Generate data for sequence to sequence modelling"
   ]
  },
  {
   "cell_type": "markdown",
   "metadata": {},
   "source": [
    "This returns the structure \"data\" which contains sentences as individual lists, along with the class label of each character. "
   ]
  },
  {
   "cell_type": "code",
   "execution_count": 1,
   "metadata": {},
   "outputs": [
    {
     "name": "stderr",
     "output_type": "stream",
     "text": [
      "Using TensorFlow backend.\n"
     ]
    }
   ],
   "source": [
    "import numpy as np\n",
    "import collections\n",
    "from sklearn.model_selection import train_test_split\n",
    "import keras\n",
    "from keras.utils.np_utils import to_categorical\n",
    "from keras.preprocessing import sequence"
   ]
  },
  {
   "cell_type": "code",
   "execution_count": 2,
   "metadata": {},
   "outputs": [],
   "source": [
    "# we open the count file, get the word and assign labels to each character\n",
    "# cannot use dictionaries, since the same character may appear again and overwrites the value at its place in dict.\n",
    "def generateTupleListAccToSentences(filename='/local-scratch/asa224/wseg_simplified_cn.txt'):\n",
    "    \"\"\"\n",
    "    This function generates a data list of lists, which contains sequences and corresponding\n",
    "    labels for each character, according to the sentences in the input file. This function \n",
    "    takes the whole training set txt file as input, and generates sequences according to the \n",
    "    line, ie. each sequence is a line. \n",
    "    \n",
    "    INPUT: Input to this function is the training text file\n",
    "    \n",
    "    If you want to use this data as training data for LSTM, you have to pad the sequences \n",
    "    since they are not of the same length. \n",
    "    \"\"\"\n",
    "    # filepath = '/mnt/D82A1A8F2A1A6B30/wseg_simplified_cn.txt'\n",
    "    with(open(filepath, 'rb')) as f:\n",
    "        data = [[]]\n",
    "        count = 0\n",
    "        for line in f:\n",
    "            line = unicode(line, 'utf-8')\n",
    "            line = line.replace('\\n', '')\n",
    "            words = line.split(' ')\n",
    "\n",
    "            for word in words:\n",
    "                if len(word) == 1:\n",
    "                    data[count].append((word[0], 3))\n",
    "                else:\n",
    "                    for i, character in enumerate(word):\n",
    "                        if i == 0: # this is the first letter\n",
    "                            data[count].append((character, 0))\n",
    "                        elif i == (len(word) - 1): # this is the last letter\n",
    "                            data[count].append((character, 2))\n",
    "                        else: # this is somewhere in the middle\n",
    "                            data[count].append((character, 1))\n",
    "            data.append([])\n",
    "            count += 1\n",
    "\n",
    "        f.close()\n",
    "        \n",
    "        return data\n",
    "    \n",
    "def generateWordFile(filename='/local-scratch/asa224/wseg_simplified_cn.txt'):\n",
    "    \"\"\"\n",
    "    The function generates the word file, similar to the count_1w.txt file provided by Prof. Anoop\n",
    "    \n",
    "    The output of the file can be used to parse the characters, and is an input to the \n",
    "    generateTupleList() function as well. \n",
    "    \n",
    "    INPUT: Input to this function is the training text file. \n",
    "    \n",
    "    \"\"\"\n",
    "    with(open(filename, 'rb')) as f:\n",
    "        word_file_1M = open('/local-scratch/word_file_1M', 'wb')\n",
    "        for line in f:\n",
    "            line = unicode(line, 'utf-8')\n",
    "            line = line.replace('\\n', '')\n",
    "            line = line.split(' ')\n",
    "            for word in line:\n",
    "                word_file_1M.write(word.encode('utf-8') + '\\t'.encode('utf-8') + str(0).encode('utf-8') +\\\n",
    "                                           '\\n'.encode('utf-8'))\n",
    "        f.close()\n",
    "    word_file_1M.close()\n",
    "\n",
    "def generateInputWordFile(filename='/local-scratch/asa224/input'):\n",
    "    \"\"\"\n",
    "    The function generates the word file, similar to the count_1w.txt file provided by Prof. Anoop\n",
    "    \n",
    "    THIS GENERATES WORD FILE FOR INPUT TEXT. \n",
    "    \n",
    "    The output of the file can be used to parse the characters, and is an input to the \n",
    "    generateTupleList() function as well. \n",
    "    \n",
    "    INPUT: Input to this function is the training text file. \n",
    "    \n",
    "    \"\"\"\n",
    "    with(open(filename, 'rb')) as f:\n",
    "        word_file_1M = open('/local-scratch/input_word_file', 'wb')\n",
    "        for line in f:\n",
    "            line = unicode(line, 'utf-8')\n",
    "            line = line.replace('\\n', '')\n",
    "            for word in line:\n",
    "                word_file_1M.write(word.encode('utf-8') + '\\t'.encode('utf-8') + str(0).encode('utf-8') +\\\n",
    "                                           '\\n'.encode('utf-8'))\n",
    "        f.close()\n",
    "    word_file_1M.close()\n",
    "\n",
    "def generateTupleList(filename='/local-scratch/asa224/word_file_1M'):\n",
    "    \"\"\"\n",
    "    This function is similar to the above function in the sense that it assigns labels to each\n",
    "    character in the training set. The function returns a list of tuples, in which each tuple\n",
    "    contains a single character and its corresponding label. \n",
    "    \n",
    "    INPUT: Input to this function is a WORD FILE generated by generateWordFile(filename) function. \n",
    "    \n",
    "    Use this function in conjunction with nGramSequenceGenerator(labelledlist, n) to create a\n",
    "    training set with constant sequence size, which does not require paddings. \n",
    "    \"\"\"\n",
    "    with(open(filename, 'rb')) as f:\n",
    "        label = []\n",
    "        for line in f:\n",
    "            word, count = line.split('\\t')\n",
    "\n",
    "            # making sure the parsing is going fine\n",
    "            assert int(count) == 0\n",
    "\n",
    "            word = unicode(word, 'utf-8')\n",
    "            if len(word) == 1:\n",
    "                label.append((word[0], 3))\n",
    "            else:\n",
    "                for i, character in enumerate(word):\n",
    "                    if i == 0: # this is the first letter\n",
    "                        label.append((character, 0))\n",
    "                    elif i == (len(word) - 1): # this is the last letter\n",
    "                        label.append((character, 2))\n",
    "                    else: # this is somewhere in the middle\n",
    "                        label.append((character, 1))\n",
    "\n",
    "        f.close()\n",
    "        return label\n",
    "    \n",
    "def nGramSequenceGenerator(labelledlist, n):\n",
    "    \"\"\"\n",
    "    Takes as input the label list of tuples generated by the code above. \n",
    "    The function generates sequence of size \"n\" from the given list. \n",
    "    \"\"\"\n",
    "    count = len(labelledlist)/n\n",
    "    ngrammedlist = []\n",
    "    for i in range(count):\n",
    "        ngrammedlist.append( labelledlist[i*n : (i+1)*n])\n",
    "    return ngrammedlist"
   ]
  },
  {
   "cell_type": "code",
   "execution_count": 3,
   "metadata": {},
   "outputs": [],
   "source": [
    "list_of_tuples = generateTupleList(filename='/local-scratch/asa224/word_file_1M')\n",
    "n_timesteps = 13\n",
    "data = nGramSequenceGenerator(list_of_tuples, n=n_timesteps)"
   ]
  },
  {
   "cell_type": "code",
   "execution_count": 4,
   "metadata": {
    "scrolled": true
   },
   "outputs": [
    {
     "data": {
      "text/plain": [
       "[[(u'\\u7531', 0),\n",
       "  (u'\\u4e8e', 2),\n",
       "  (u'\\u5927', 0),\n",
       "  (u'\\u9646', 2),\n",
       "  (u'\\u8d74', 3),\n",
       "  (u'\\u53f0', 3),\n",
       "  (u'\\u65c5', 0),\n",
       "  (u'\\u6e38', 2),\n",
       "  (u'\\u8003', 0),\n",
       "  (u'\\u5bdf', 2),\n",
       "  (u'\\u56e2', 3),\n",
       "  (u'\\u7684', 3),\n",
       "  (u'\\u884c', 0)],\n",
       " [(u'\\u7a0b', 1),\n",
       "  (u'\\u5b89', 1),\n",
       "  (u'\\u6392', 2),\n",
       "  (u'\\u5341', 0),\n",
       "  (u'\\u5206', 2),\n",
       "  (u'\\u7d27', 0),\n",
       "  (u'\\u51d1', 2),\n",
       "  (u'\\uff0c', 3),\n",
       "  (u'\\u56e2', 0),\n",
       "  (u'\\u5458', 1),\n",
       "  (u'\\u4eec', 2),\n",
       "  (u'\\u66f4', 0),\n",
       "  (u'\\u591a', 1)],\n",
       " [(u'\\u7684', 2),\n",
       "  (u'\\u65f6', 0),\n",
       "  (u'\\u5019', 2),\n",
       "  (u'\\u53ea', 3),\n",
       "  (u'\\u80fd', 3),\n",
       "  (u'\\u662f', 3),\n",
       "  (u'\\u5728', 3),\n",
       "  (u'\\u65c5', 0),\n",
       "  (u'\\u884c', 2),\n",
       "  (u'\\u8f66', 3),\n",
       "  (u'\\u4e0a', 3),\n",
       "  (u'\\u8d70', 0),\n",
       "  (u'\\u9a6c', 1)],\n",
       " [(u'\\u89c2', 1),\n",
       "  (u'\\u82b1', 1),\n",
       "  (u'\\u5730', 2),\n",
       "  (u'\\u8003', 0),\n",
       "  (u'\\u5bdf', 2),\n",
       "  (u'\\u53f0', 0),\n",
       "  (u'\\u5317', 2),\n",
       "  (u'\\u5e02', 3),\n",
       "  (u'\\u5bb9', 3),\n",
       "  (u'\\uff0c', 3),\n",
       "  (u'\\u6240', 0),\n",
       "  (u'\\u4ee5', 2),\n",
       "  (u'\\u4eba', 0)],\n",
       " [(u'\\u6c11', 1),\n",
       "  (u'\\u5e01', 2),\n",
       "  (u'\\u4e0a', 3),\n",
       "  (u'\\u5468', 0),\n",
       "  (u'\\u7684', 2),\n",
       "  (u'\\u8d2c', 0),\n",
       "  (u'\\u503c', 2),\n",
       "  (u'\\u53ef', 0),\n",
       "  (u'\\u4ee5', 2),\n",
       "  (u'\\u4ece', 3),\n",
       "  (u'\\u4e0a', 3),\n",
       "  (u'\\u5468', 3),\n",
       "  (u'\\u7f8e', 3)]]"
      ]
     },
     "execution_count": 4,
     "metadata": {},
     "output_type": "execute_result"
    }
   ],
   "source": [
    "data[0:5]"
   ]
  },
  {
   "cell_type": "markdown",
   "metadata": {},
   "source": [
    "# Build initial integer embeddings"
   ]
  },
  {
   "cell_type": "code",
   "execution_count": 5,
   "metadata": {},
   "outputs": [],
   "source": [
    "all_chars = [data[i][j][0] for i in range(0, len(data)) for j in range(0, len(data[i]))]"
   ]
  },
  {
   "cell_type": "code",
   "execution_count": 6,
   "metadata": {},
   "outputs": [
    {
     "data": {
      "text/plain": [
       "41617381"
      ]
     },
     "execution_count": 6,
     "metadata": {},
     "output_type": "execute_result"
    }
   ],
   "source": [
    "len(all_chars)"
   ]
  },
  {
   "cell_type": "code",
   "execution_count": 7,
   "metadata": {},
   "outputs": [],
   "source": [
    "def build_dataset(words):\n",
    "    count = collections.Counter(words).most_common()\n",
    "    dictionary = dict()\n",
    "    for word, _ in count:\n",
    "        dictionary[word] = len(dictionary)\n",
    "    reverse_dictionary = dict(zip(dictionary.values(), dictionary.keys()))\n",
    "    return dictionary, reverse_dictionary"
   ]
  },
  {
   "cell_type": "code",
   "execution_count": 8,
   "metadata": {},
   "outputs": [],
   "source": [
    "orig_dict, ret_dict = build_dataset(all_chars)\n",
    "del all_chars"
   ]
  },
  {
   "cell_type": "code",
   "execution_count": 9,
   "metadata": {},
   "outputs": [
    {
     "data": {
      "text/plain": [
       "u'\\u6743'"
      ]
     },
     "execution_count": 9,
     "metadata": {},
     "output_type": "execute_result"
    }
   ],
   "source": [
    "ret_dict[orig_dict[u'\\u6743']]"
   ]
  },
  {
   "cell_type": "code",
   "execution_count": 10,
   "metadata": {},
   "outputs": [
    {
     "data": {
      "text/plain": [
       "5419"
      ]
     },
     "execution_count": 10,
     "metadata": {},
     "output_type": "execute_result"
    }
   ],
   "source": [
    "len(orig_dict)"
   ]
  },
  {
   "cell_type": "markdown",
   "metadata": {},
   "source": [
    "Save the lookup dictionaries"
   ]
  },
  {
   "cell_type": "code",
   "execution_count": 11,
   "metadata": {},
   "outputs": [],
   "source": [
    "import cPickle as pickle\n",
    "pickle.dump( orig_dict, open( \"orig_dict.p\", \"wb\" ) )\n",
    "pickle.dump( ret_dict, open( \"ret_dict.p\", \"wb\" ) )"
   ]
  },
  {
   "cell_type": "markdown",
   "metadata": {},
   "source": [
    "## Create sequences suitable for training"
   ]
  },
  {
   "cell_type": "code",
   "execution_count": 12,
   "metadata": {},
   "outputs": [],
   "source": [
    "x = [[]]\n",
    "y = [[]]\n",
    "for i in range(0, len(data)): # iterate over the whole dataset\n",
    "    for j in range(0, len(data[i])): # iterate over the current sentence\n",
    "        x[i].append(orig_dict[data[i][j][0]])\n",
    "        y[i].append(data[i][j][1])\n",
    "    x.append([])\n",
    "    y.append([])"
   ]
  },
  {
   "cell_type": "code",
   "execution_count": 13,
   "metadata": {},
   "outputs": [],
   "source": [
    "del data"
   ]
  },
  {
   "cell_type": "code",
   "execution_count": 14,
   "metadata": {},
   "outputs": [],
   "source": [
    "X_train, X_test, y_train, y_test = train_test_split(x, y, test_size=0.20, shuffle=False, random_state=42)"
   ]
  },
  {
   "cell_type": "code",
   "execution_count": 15,
   "metadata": {},
   "outputs": [],
   "source": [
    "del x,y"
   ]
  },
  {
   "cell_type": "code",
   "execution_count": 16,
   "metadata": {},
   "outputs": [
    {
     "name": "stdout",
     "output_type": "stream",
     "text": [
      "Size of the Dataset\n",
      "\n",
      "X_TRAIN: (2561070, 13)\n",
      "Y_TRAIN: (2561070, 13)\n",
      "X_TEST: (640268,)\n",
      "Y_TEST: (640268,)\n"
     ]
    }
   ],
   "source": [
    "print('Size of the Dataset\\n')\n",
    "print('X_TRAIN: {}'.format(np.shape(X_train)))\n",
    "print('Y_TRAIN: {}'.format(np.shape(y_train)))\n",
    "\n",
    "print('X_TEST: {}'.format(np.shape(X_test)))\n",
    "print('Y_TEST: {}'.format(np.shape(y_test)))"
   ]
  },
  {
   "cell_type": "markdown",
   "metadata": {},
   "source": [
    "## Convert the labels to categorical. "
   ]
  },
  {
   "cell_type": "markdown",
   "metadata": {},
   "source": [
    "This is what they look like now"
   ]
  },
  {
   "cell_type": "code",
   "execution_count": 17,
   "metadata": {},
   "outputs": [
    {
     "name": "stdout",
     "output_type": "stream",
     "text": [
      "[0, 2, 0, 2, 3, 3, 0, 2, 0, 2, 3, 3, 0]\n"
     ]
    }
   ],
   "source": [
    "for i in y_train:\n",
    "    print(i)\n",
    "    break"
   ]
  },
  {
   "cell_type": "markdown",
   "metadata": {},
   "source": [
    "### Start conversion"
   ]
  },
  {
   "cell_type": "markdown",
   "metadata": {},
   "source": [
    "Testing labels <br>\n",
    "There are empty lists in the test set, let's remove them. "
   ]
  },
  {
   "cell_type": "code",
   "execution_count": 18,
   "metadata": {},
   "outputs": [],
   "source": [
    "X_train = [t for t in X_train if t != []]\n",
    "y_train = [t for t in y_train if t != []]\n",
    "\n",
    "X_test = [t for t in X_test if t != []]\n",
    "y_test = [t for t in y_test if t != []]"
   ]
  },
  {
   "cell_type": "markdown",
   "metadata": {},
   "source": [
    "Training labels"
   ]
  },
  {
   "cell_type": "code",
   "execution_count": 19,
   "metadata": {},
   "outputs": [],
   "source": [
    "for i in range(0, len(y_train)):\n",
    "    y_train[i] = to_categorical(y_train[i], num_classes=4)"
   ]
  },
  {
   "cell_type": "code",
   "execution_count": 20,
   "metadata": {},
   "outputs": [],
   "source": [
    "for i in range(0, len(y_test)):\n",
    "    y_test[i] = to_categorical(y_test[i], num_classes=4)"
   ]
  },
  {
   "cell_type": "markdown",
   "metadata": {},
   "source": [
    "This how it looks now"
   ]
  },
  {
   "cell_type": "code",
   "execution_count": 21,
   "metadata": {
    "scrolled": true
   },
   "outputs": [
    {
     "name": "stdout",
     "output_type": "stream",
     "text": [
      "[[ 1.  0.  0.  0.]\n",
      " [ 0.  0.  1.  0.]\n",
      " [ 1.  0.  0.  0.]\n",
      " [ 0.  0.  1.  0.]\n",
      " [ 0.  0.  0.  1.]\n",
      " [ 0.  0.  0.  1.]\n",
      " [ 1.  0.  0.  0.]\n",
      " [ 0.  0.  1.  0.]\n",
      " [ 1.  0.  0.  0.]\n",
      " [ 0.  0.  1.  0.]\n",
      " [ 0.  0.  0.  1.]\n",
      " [ 0.  0.  0.  1.]\n",
      " [ 1.  0.  0.  0.]]\n"
     ]
    }
   ],
   "source": [
    "for i in y_train:\n",
    "    print(i)\n",
    "    break"
   ]
  },
  {
   "cell_type": "markdown",
   "metadata": {},
   "source": [
    "Firstly, we must update the get_sequence() function to reshape the input and output sequences to be 3-dimensional to meet the expectations of the LSTM. The expected structure has the dimensions [samples, timesteps, features]. The classification problem has 1 sample (e.g. one sequence), a configurable number of timesteps, and one feature per timestep."
   ]
  },
  {
   "cell_type": "markdown",
   "metadata": {},
   "source": [
    "Let's reshape the training and testing data"
   ]
  },
  {
   "cell_type": "markdown",
   "metadata": {},
   "source": [
    "### No need to pad sequences when working on constant size sequences"
   ]
  },
  {
   "cell_type": "code",
   "execution_count": 22,
   "metadata": {},
   "outputs": [],
   "source": [
    "# # maximum length of the sequence\n",
    "# maxval = len(max(X_train,key=len))"
   ]
  },
  {
   "cell_type": "code",
   "execution_count": 23,
   "metadata": {},
   "outputs": [],
   "source": [
    "# X_train = sequence.pad_sequences(X_train, value=-1, maxlen=100)\n",
    "# y_train = sequence.pad_sequences(y_train, value=-1, maxlen=100)\n",
    "\n",
    "# X_test = sequence.pad_sequences(X_test, value=-1, maxlen=100)\n",
    "# y_test = sequence.pad_sequences(y_test, value=-1, maxlen=100)"
   ]
  },
  {
   "cell_type": "code",
   "execution_count": 24,
   "metadata": {},
   "outputs": [],
   "source": [
    "embedding = True"
   ]
  },
  {
   "cell_type": "code",
   "execution_count": 25,
   "metadata": {},
   "outputs": [],
   "source": [
    "# reshape input and output data to be suitable for LSTMs\n",
    "if embedding == False:\n",
    "    X_train = np.array(X_train).reshape(np.shape(X_train)[0], n_timesteps, 1)\n",
    "    y_train = np.array(y_train).reshape(np.shape(y_train)[0], n_timesteps, 4)\n",
    "\n",
    "    X_test = np.array(X_test).reshape(np.shape(X_test)[0], n_timesteps, 1)\n",
    "    y_test = np.array(y_test).reshape(np.shape(y_test)[0], n_timesteps, 4)\n",
    "    \n",
    "else:\n",
    "    # reshape input and output data to be suitable for LSTMs\n",
    "    X_train = np.array(X_train).reshape(np.shape(X_train)[0], n_timesteps)\n",
    "    y_train = np.array(y_train).reshape(np.shape(y_train)[0], n_timesteps, 4)\n",
    "\n",
    "    X_test = np.array(X_test).reshape(np.shape(X_test)[0], n_timesteps)\n",
    "    y_test = np.array(y_test).reshape(np.shape(y_test)[0], n_timesteps, 4)"
   ]
  },
  {
   "cell_type": "markdown",
   "metadata": {},
   "source": [
    "## IF you use embedding layer, use this code"
   ]
  },
  {
   "cell_type": "code",
   "execution_count": 26,
   "metadata": {},
   "outputs": [
    {
     "data": {
      "text/plain": [
       "(2561070, 13)"
      ]
     },
     "execution_count": 26,
     "metadata": {},
     "output_type": "execute_result"
    }
   ],
   "source": [
    "X_train.shape"
   ]
  },
  {
   "cell_type": "markdown",
   "metadata": {},
   "source": [
    "TODO: Add embedding layer <br>\n",
    "TODO: Increase LSTM units <br>\n",
    "TODO: Decrease the sequence size <br>\n",
    "TODO: Decrease the sequence size from the training set generation itself <br>"
   ]
  },
  {
   "cell_type": "code",
   "execution_count": 28,
   "metadata": {},
   "outputs": [
    {
     "name": "stdout",
     "output_type": "stream",
     "text": [
      "_________________________________________________________________\n",
      "Layer (type)                 Output Shape              Param #   \n",
      "=================================================================\n",
      "embedding_1 (Embedding)      (None, 13, 200)           1083800   \n",
      "_________________________________________________________________\n",
      "lstm_1 (LSTM)                (None, 13, 300)           601200    \n",
      "_________________________________________________________________\n",
      "lstm_2 (LSTM)                (None, 13, 300)           721200    \n",
      "_________________________________________________________________\n",
      "dropout_1 (Dropout)          (None, 13, 300)           0         \n",
      "_________________________________________________________________\n",
      "time_distributed_1 (TimeDist (None, 13, 4)             1204      \n",
      "=================================================================\n",
      "Total params: 2,407,404\n",
      "Trainable params: 2,407,404\n",
      "Non-trainable params: 0\n",
      "_________________________________________________________________\n"
     ]
    }
   ],
   "source": [
    "from keras.models import Sequential\n",
    "from keras.layers import LSTM, TimeDistributed, Dense, Masking, Embedding, Dropout\n",
    "# define LSTM\n",
    "model = Sequential()\n",
    "model.add(Embedding(input_dim=len(orig_dict), output_dim=200, input_length=n_timesteps)) # dictionary size, embedding vector size, timesteps\n",
    "model.add(LSTM(300, return_sequences=True))\n",
    "model.add(LSTM(300, return_sequences=True))\n",
    "model.add(Dropout(0.2))\n",
    "model.add(TimeDistributed(Dense(4, activation='softmax')))\n",
    "model.compile(loss='categorical_crossentropy', optimizer='adadelta', metrics=['acc'])\n",
    "model.summary()"
   ]
  },
  {
   "cell_type": "code",
   "execution_count": 29,
   "metadata": {},
   "outputs": [
    {
     "name": "stdout",
     "output_type": "stream",
     "text": [
      "Train on 2561070 samples, validate on 640267 samples\n",
      "Epoch 1/1\n"
     ]
    },
    {
     "ename": "ResourceExhaustedError",
     "evalue": "OOM when allocating tensor with shape[200,13,1200]\n\t [[Node: training/Adadelta/gradients/lstm_2/transpose_grad/transpose = Transpose[T=DT_FLOAT, Tperm=DT_INT32, _class=[\"loc:@lstm_2/transpose\"], _device=\"/job:localhost/replica:0/task:0/gpu:0\"](training/Adadelta/gradients/lstm_2/TensorArrayUnstack/TensorArrayScatter/TensorArrayScatterV3_grad/TensorArrayGatherV3, training/Adadelta/gradients/lstm_2/transpose_grad/InvertPermutation)]]\n\nCaused by op u'training/Adadelta/gradients/lstm_2/transpose_grad/transpose', defined at:\n  File \"/usr/lib/python2.7/runpy.py\", line 174, in _run_module_as_main\n    \"__main__\", fname, loader, pkg_name)\n  File \"/usr/lib/python2.7/runpy.py\", line 72, in _run_code\n    exec code in run_globals\n  File \"/grad/3/asa224/.virtualenvs/nlp/lib/python2.7/site-packages/ipykernel_launcher.py\", line 16, in <module>\n    app.launch_new_instance()\n  File \"/grad/3/asa224/.virtualenvs/nlp/local/lib/python2.7/site-packages/traitlets/config/application.py\", line 658, in launch_instance\n    app.start()\n  File \"/grad/3/asa224/.virtualenvs/nlp/local/lib/python2.7/site-packages/ipykernel/kernelapp.py\", line 477, in start\n    ioloop.IOLoop.instance().start()\n  File \"/grad/3/asa224/.virtualenvs/nlp/local/lib/python2.7/site-packages/zmq/eventloop/ioloop.py\", line 177, in start\n    super(ZMQIOLoop, self).start()\n  File \"/grad/3/asa224/.virtualenvs/nlp/local/lib/python2.7/site-packages/tornado/ioloop.py\", line 888, in start\n    handler_func(fd_obj, events)\n  File \"/grad/3/asa224/.virtualenvs/nlp/local/lib/python2.7/site-packages/tornado/stack_context.py\", line 277, in null_wrapper\n    return fn(*args, **kwargs)\n  File \"/grad/3/asa224/.virtualenvs/nlp/local/lib/python2.7/site-packages/zmq/eventloop/zmqstream.py\", line 440, in _handle_events\n    self._handle_recv()\n  File \"/grad/3/asa224/.virtualenvs/nlp/local/lib/python2.7/site-packages/zmq/eventloop/zmqstream.py\", line 472, in _handle_recv\n    self._run_callback(callback, msg)\n  File \"/grad/3/asa224/.virtualenvs/nlp/local/lib/python2.7/site-packages/zmq/eventloop/zmqstream.py\", line 414, in _run_callback\n    callback(*args, **kwargs)\n  File \"/grad/3/asa224/.virtualenvs/nlp/local/lib/python2.7/site-packages/tornado/stack_context.py\", line 277, in null_wrapper\n    return fn(*args, **kwargs)\n  File \"/grad/3/asa224/.virtualenvs/nlp/local/lib/python2.7/site-packages/ipykernel/kernelbase.py\", line 283, in dispatcher\n    return self.dispatch_shell(stream, msg)\n  File \"/grad/3/asa224/.virtualenvs/nlp/local/lib/python2.7/site-packages/ipykernel/kernelbase.py\", line 235, in dispatch_shell\n    handler(stream, idents, msg)\n  File \"/grad/3/asa224/.virtualenvs/nlp/local/lib/python2.7/site-packages/ipykernel/kernelbase.py\", line 399, in execute_request\n    user_expressions, allow_stdin)\n  File \"/grad/3/asa224/.virtualenvs/nlp/local/lib/python2.7/site-packages/ipykernel/ipkernel.py\", line 196, in do_execute\n    res = shell.run_cell(code, store_history=store_history, silent=silent)\n  File \"/grad/3/asa224/.virtualenvs/nlp/local/lib/python2.7/site-packages/ipykernel/zmqshell.py\", line 533, in run_cell\n    return super(ZMQInteractiveShell, self).run_cell(*args, **kwargs)\n  File \"/grad/3/asa224/.virtualenvs/nlp/local/lib/python2.7/site-packages/IPython/core/interactiveshell.py\", line 2718, in run_cell\n    interactivity=interactivity, compiler=compiler, result=result)\n  File \"/grad/3/asa224/.virtualenvs/nlp/local/lib/python2.7/site-packages/IPython/core/interactiveshell.py\", line 2822, in run_ast_nodes\n    if self.run_code(code, result):\n  File \"/grad/3/asa224/.virtualenvs/nlp/local/lib/python2.7/site-packages/IPython/core/interactiveshell.py\", line 2882, in run_code\n    exec(code_obj, self.user_global_ns, self.user_ns)\n  File \"<ipython-input-29-f5f550a87e93>\", line 2, in <module>\n    batch_size=200, verbose=1, validation_data=[X_test, y_test])\n  File \"/grad/3/asa224/.virtualenvs/nlp/local/lib/python2.7/site-packages/keras/models.py\", line 867, in fit\n    initial_epoch=initial_epoch)\n  File \"/grad/3/asa224/.virtualenvs/nlp/local/lib/python2.7/site-packages/keras/engine/training.py\", line 1575, in fit\n    self._make_train_function()\n  File \"/grad/3/asa224/.virtualenvs/nlp/local/lib/python2.7/site-packages/keras/engine/training.py\", line 960, in _make_train_function\n    loss=self.total_loss)\n  File \"/grad/3/asa224/.virtualenvs/nlp/local/lib/python2.7/site-packages/keras/legacy/interfaces.py\", line 87, in wrapper\n    return func(*args, **kwargs)\n  File \"/grad/3/asa224/.virtualenvs/nlp/local/lib/python2.7/site-packages/keras/optimizers.py\", line 344, in get_updates\n    grads = self.get_gradients(loss, params)\n  File \"/grad/3/asa224/.virtualenvs/nlp/local/lib/python2.7/site-packages/keras/optimizers.py\", line 73, in get_gradients\n    grads = K.gradients(loss, params)\n  File \"/grad/3/asa224/.virtualenvs/nlp/local/lib/python2.7/site-packages/keras/backend/tensorflow_backend.py\", line 2310, in gradients\n    return tf.gradients(loss, variables, colocate_gradients_with_ops=True)\n  File \"/rcg/software/Linux/Ubuntu/16.04/amd64/TOOLS/TENSORFLOW/1.0-GPU-PY2713/lib/python2.7/site-packages/tensorflow/python/ops/gradients_impl.py\", line 482, in gradients\n    in_grads = grad_fn(op, *out_grads)\n  File \"/rcg/software/Linux/Ubuntu/16.04/amd64/TOOLS/TENSORFLOW/1.0-GPU-PY2713/lib/python2.7/site-packages/tensorflow/python/ops/array_grad.py\", line 419, in _TransposeGrad\n    return [array_ops.transpose(grad, array_ops.invert_permutation(p)), None]\n  File \"/rcg/software/Linux/Ubuntu/16.04/amd64/TOOLS/TENSORFLOW/1.0-GPU-PY2713/lib/python2.7/site-packages/tensorflow/python/ops/array_ops.py\", line 1288, in transpose\n    ret = gen_array_ops.transpose(a, perm, name=name)\n  File \"/rcg/software/Linux/Ubuntu/16.04/amd64/TOOLS/TENSORFLOW/1.0-GPU-PY2713/lib/python2.7/site-packages/tensorflow/python/ops/gen_array_ops.py\", line 3841, in transpose\n    result = _op_def_lib.apply_op(\"Transpose\", x=x, perm=perm, name=name)\n  File \"/rcg/software/Linux/Ubuntu/16.04/amd64/TOOLS/TENSORFLOW/1.0-GPU-PY2713/lib/python2.7/site-packages/tensorflow/python/framework/op_def_library.py\", line 763, in apply_op\n    op_def=op_def)\n  File \"/rcg/software/Linux/Ubuntu/16.04/amd64/TOOLS/TENSORFLOW/1.0-GPU-PY2713/lib/python2.7/site-packages/tensorflow/python/framework/ops.py\", line 2395, in create_op\n    original_op=self._default_original_op, op_def=op_def)\n  File \"/rcg/software/Linux/Ubuntu/16.04/amd64/TOOLS/TENSORFLOW/1.0-GPU-PY2713/lib/python2.7/site-packages/tensorflow/python/framework/ops.py\", line 1264, in __init__\n    self._traceback = _extract_stack()\n\n...which was originally created as op u'lstm_2/transpose', defined at:\n  File \"/usr/lib/python2.7/runpy.py\", line 174, in _run_module_as_main\n    \"__main__\", fname, loader, pkg_name)\n[elided 18 identical lines from previous traceback]\n  File \"/grad/3/asa224/.virtualenvs/nlp/local/lib/python2.7/site-packages/IPython/core/interactiveshell.py\", line 2882, in run_code\n    exec(code_obj, self.user_global_ns, self.user_ns)\n  File \"<ipython-input-28-9f926a8a16e9>\", line 7, in <module>\n    model.add(LSTM(300, return_sequences=True))\n  File \"/grad/3/asa224/.virtualenvs/nlp/local/lib/python2.7/site-packages/keras/models.py\", line 475, in add\n    output_tensor = layer(self.outputs[0])\n  File \"/grad/3/asa224/.virtualenvs/nlp/local/lib/python2.7/site-packages/keras/layers/recurrent.py\", line 268, in __call__\n    return super(Recurrent, self).__call__(inputs, **kwargs)\n  File \"/grad/3/asa224/.virtualenvs/nlp/local/lib/python2.7/site-packages/keras/engine/topology.py\", line 602, in __call__\n    output = self.call(inputs, **kwargs)\n  File \"/grad/3/asa224/.virtualenvs/nlp/local/lib/python2.7/site-packages/keras/layers/recurrent.py\", line 348, in call\n    input_length=timesteps)\n  File \"/grad/3/asa224/.virtualenvs/nlp/local/lib/python2.7/site-packages/keras/backend/tensorflow_backend.py\", line 2385, in rnn\n    inputs = tf.transpose(inputs, (axes))\n  File \"/rcg/software/Linux/Ubuntu/16.04/amd64/TOOLS/TENSORFLOW/1.0-GPU-PY2713/lib/python2.7/site-packages/tensorflow/python/ops/array_ops.py\", line 1288, in transpose\n    ret = gen_array_ops.transpose(a, perm, name=name)\n  File \"/rcg/software/Linux/Ubuntu/16.04/amd64/TOOLS/TENSORFLOW/1.0-GPU-PY2713/lib/python2.7/site-packages/tensorflow/python/ops/gen_array_ops.py\", line 3841, in transpose\n    result = _op_def_lib.apply_op(\"Transpose\", x=x, perm=perm, name=name)\n  File \"/rcg/software/Linux/Ubuntu/16.04/amd64/TOOLS/TENSORFLOW/1.0-GPU-PY2713/lib/python2.7/site-packages/tensorflow/python/framework/op_def_library.py\", line 763, in apply_op\n    op_def=op_def)\n  File \"/rcg/software/Linux/Ubuntu/16.04/amd64/TOOLS/TENSORFLOW/1.0-GPU-PY2713/lib/python2.7/site-packages/tensorflow/python/framework/ops.py\", line 2395, in create_op\n    original_op=self._default_original_op, op_def=op_def)\n  File \"/rcg/software/Linux/Ubuntu/16.04/amd64/TOOLS/TENSORFLOW/1.0-GPU-PY2713/lib/python2.7/site-packages/tensorflow/python/framework/ops.py\", line 1264, in __init__\n    self._traceback = _extract_stack()\n\nResourceExhaustedError (see above for traceback): OOM when allocating tensor with shape[200,13,1200]\n\t [[Node: training/Adadelta/gradients/lstm_2/transpose_grad/transpose = Transpose[T=DT_FLOAT, Tperm=DT_INT32, _class=[\"loc:@lstm_2/transpose\"], _device=\"/job:localhost/replica:0/task:0/gpu:0\"](training/Adadelta/gradients/lstm_2/TensorArrayUnstack/TensorArrayScatter/TensorArrayScatterV3_grad/TensorArrayGatherV3, training/Adadelta/gradients/lstm_2/transpose_grad/InvertPermutation)]]\n",
     "output_type": "error",
     "traceback": [
      "\u001b[0;31m---------------------------------------------------------------------------\u001b[0m",
      "\u001b[0;31mResourceExhaustedError\u001b[0m                    Traceback (most recent call last)",
      "\u001b[0;32m<ipython-input-29-f5f550a87e93>\u001b[0m in \u001b[0;36m<module>\u001b[0;34m()\u001b[0m\n\u001b[1;32m      1\u001b[0m history = model.fit(X_train, y_train, epochs=1, \n\u001b[0;32m----> 2\u001b[0;31m           batch_size=200, verbose=1, validation_data=[X_test, y_test])\n\u001b[0m\u001b[1;32m      3\u001b[0m \u001b[0mmodel\u001b[0m\u001b[0;34m.\u001b[0m\u001b[0msave\u001b[0m\u001b[0;34m(\u001b[0m\u001b[0;34m'/home/asa224/Desktop/students_less_asa224/Test Folder on Less/model_timestamps_13_epoch1.h5'\u001b[0m\u001b[0;34m)\u001b[0m\u001b[0;34m\u001b[0m\u001b[0m\n",
      "\u001b[0;32m/grad/3/asa224/.virtualenvs/nlp/local/lib/python2.7/site-packages/keras/models.pyc\u001b[0m in \u001b[0;36mfit\u001b[0;34m(self, x, y, batch_size, epochs, verbose, callbacks, validation_split, validation_data, shuffle, class_weight, sample_weight, initial_epoch, **kwargs)\u001b[0m\n\u001b[1;32m    865\u001b[0m                               \u001b[0mclass_weight\u001b[0m\u001b[0;34m=\u001b[0m\u001b[0mclass_weight\u001b[0m\u001b[0;34m,\u001b[0m\u001b[0;34m\u001b[0m\u001b[0m\n\u001b[1;32m    866\u001b[0m                               \u001b[0msample_weight\u001b[0m\u001b[0;34m=\u001b[0m\u001b[0msample_weight\u001b[0m\u001b[0;34m,\u001b[0m\u001b[0;34m\u001b[0m\u001b[0m\n\u001b[0;32m--> 867\u001b[0;31m                               initial_epoch=initial_epoch)\n\u001b[0m\u001b[1;32m    868\u001b[0m \u001b[0;34m\u001b[0m\u001b[0m\n\u001b[1;32m    869\u001b[0m     def evaluate(self, x, y, batch_size=32, verbose=1,\n",
      "\u001b[0;32m/grad/3/asa224/.virtualenvs/nlp/local/lib/python2.7/site-packages/keras/engine/training.pyc\u001b[0m in \u001b[0;36mfit\u001b[0;34m(self, x, y, batch_size, epochs, verbose, callbacks, validation_split, validation_data, shuffle, class_weight, sample_weight, initial_epoch, steps_per_epoch, validation_steps, **kwargs)\u001b[0m\n\u001b[1;32m   1596\u001b[0m                               \u001b[0minitial_epoch\u001b[0m\u001b[0;34m=\u001b[0m\u001b[0minitial_epoch\u001b[0m\u001b[0;34m,\u001b[0m\u001b[0;34m\u001b[0m\u001b[0m\n\u001b[1;32m   1597\u001b[0m                               \u001b[0msteps_per_epoch\u001b[0m\u001b[0;34m=\u001b[0m\u001b[0msteps_per_epoch\u001b[0m\u001b[0;34m,\u001b[0m\u001b[0;34m\u001b[0m\u001b[0m\n\u001b[0;32m-> 1598\u001b[0;31m                               validation_steps=validation_steps)\n\u001b[0m\u001b[1;32m   1599\u001b[0m \u001b[0;34m\u001b[0m\u001b[0m\n\u001b[1;32m   1600\u001b[0m     def evaluate(self, x, y,\n",
      "\u001b[0;32m/grad/3/asa224/.virtualenvs/nlp/local/lib/python2.7/site-packages/keras/engine/training.pyc\u001b[0m in \u001b[0;36m_fit_loop\u001b[0;34m(self, f, ins, out_labels, batch_size, epochs, verbose, callbacks, val_f, val_ins, shuffle, callback_metrics, initial_epoch, steps_per_epoch, validation_steps)\u001b[0m\n\u001b[1;32m   1181\u001b[0m                     \u001b[0mbatch_logs\u001b[0m\u001b[0;34m[\u001b[0m\u001b[0;34m'size'\u001b[0m\u001b[0;34m]\u001b[0m \u001b[0;34m=\u001b[0m \u001b[0mlen\u001b[0m\u001b[0;34m(\u001b[0m\u001b[0mbatch_ids\u001b[0m\u001b[0;34m)\u001b[0m\u001b[0;34m\u001b[0m\u001b[0m\n\u001b[1;32m   1182\u001b[0m                     \u001b[0mcallbacks\u001b[0m\u001b[0;34m.\u001b[0m\u001b[0mon_batch_begin\u001b[0m\u001b[0;34m(\u001b[0m\u001b[0mbatch_index\u001b[0m\u001b[0;34m,\u001b[0m \u001b[0mbatch_logs\u001b[0m\u001b[0;34m)\u001b[0m\u001b[0;34m\u001b[0m\u001b[0m\n\u001b[0;32m-> 1183\u001b[0;31m                     \u001b[0mouts\u001b[0m \u001b[0;34m=\u001b[0m \u001b[0mf\u001b[0m\u001b[0;34m(\u001b[0m\u001b[0mins_batch\u001b[0m\u001b[0;34m)\u001b[0m\u001b[0;34m\u001b[0m\u001b[0m\n\u001b[0m\u001b[1;32m   1184\u001b[0m                     \u001b[0;32mif\u001b[0m \u001b[0;32mnot\u001b[0m \u001b[0misinstance\u001b[0m\u001b[0;34m(\u001b[0m\u001b[0mouts\u001b[0m\u001b[0;34m,\u001b[0m \u001b[0mlist\u001b[0m\u001b[0;34m)\u001b[0m\u001b[0;34m:\u001b[0m\u001b[0;34m\u001b[0m\u001b[0m\n\u001b[1;32m   1185\u001b[0m                         \u001b[0mouts\u001b[0m \u001b[0;34m=\u001b[0m \u001b[0;34m[\u001b[0m\u001b[0mouts\u001b[0m\u001b[0;34m]\u001b[0m\u001b[0;34m\u001b[0m\u001b[0m\n",
      "\u001b[0;32m/grad/3/asa224/.virtualenvs/nlp/local/lib/python2.7/site-packages/keras/backend/tensorflow_backend.pyc\u001b[0m in \u001b[0;36m__call__\u001b[0;34m(self, inputs)\u001b[0m\n\u001b[1;32m   2271\u001b[0m         updated = session.run(self.outputs + [self.updates_op],\n\u001b[1;32m   2272\u001b[0m                               \u001b[0mfeed_dict\u001b[0m\u001b[0;34m=\u001b[0m\u001b[0mfeed_dict\u001b[0m\u001b[0;34m,\u001b[0m\u001b[0;34m\u001b[0m\u001b[0m\n\u001b[0;32m-> 2273\u001b[0;31m                               **self.session_kwargs)\n\u001b[0m\u001b[1;32m   2274\u001b[0m         \u001b[0;32mreturn\u001b[0m \u001b[0mupdated\u001b[0m\u001b[0;34m[\u001b[0m\u001b[0;34m:\u001b[0m\u001b[0mlen\u001b[0m\u001b[0;34m(\u001b[0m\u001b[0mself\u001b[0m\u001b[0;34m.\u001b[0m\u001b[0moutputs\u001b[0m\u001b[0;34m)\u001b[0m\u001b[0;34m]\u001b[0m\u001b[0;34m\u001b[0m\u001b[0m\n\u001b[1;32m   2275\u001b[0m \u001b[0;34m\u001b[0m\u001b[0m\n",
      "\u001b[0;32m/rcg/software/Linux/Ubuntu/16.04/amd64/TOOLS/TENSORFLOW/1.0-GPU-PY2713/lib/python2.7/site-packages/tensorflow/python/client/session.pyc\u001b[0m in \u001b[0;36mrun\u001b[0;34m(self, fetches, feed_dict, options, run_metadata)\u001b[0m\n\u001b[1;32m    765\u001b[0m     \u001b[0;32mtry\u001b[0m\u001b[0;34m:\u001b[0m\u001b[0;34m\u001b[0m\u001b[0m\n\u001b[1;32m    766\u001b[0m       result = self._run(None, fetches, feed_dict, options_ptr,\n\u001b[0;32m--> 767\u001b[0;31m                          run_metadata_ptr)\n\u001b[0m\u001b[1;32m    768\u001b[0m       \u001b[0;32mif\u001b[0m \u001b[0mrun_metadata\u001b[0m\u001b[0;34m:\u001b[0m\u001b[0;34m\u001b[0m\u001b[0m\n\u001b[1;32m    769\u001b[0m         \u001b[0mproto_data\u001b[0m \u001b[0;34m=\u001b[0m \u001b[0mtf_session\u001b[0m\u001b[0;34m.\u001b[0m\u001b[0mTF_GetBuffer\u001b[0m\u001b[0;34m(\u001b[0m\u001b[0mrun_metadata_ptr\u001b[0m\u001b[0;34m)\u001b[0m\u001b[0;34m\u001b[0m\u001b[0m\n",
      "\u001b[0;32m/rcg/software/Linux/Ubuntu/16.04/amd64/TOOLS/TENSORFLOW/1.0-GPU-PY2713/lib/python2.7/site-packages/tensorflow/python/client/session.pyc\u001b[0m in \u001b[0;36m_run\u001b[0;34m(self, handle, fetches, feed_dict, options, run_metadata)\u001b[0m\n\u001b[1;32m    963\u001b[0m     \u001b[0;32mif\u001b[0m \u001b[0mfinal_fetches\u001b[0m \u001b[0;32mor\u001b[0m \u001b[0mfinal_targets\u001b[0m\u001b[0;34m:\u001b[0m\u001b[0;34m\u001b[0m\u001b[0m\n\u001b[1;32m    964\u001b[0m       results = self._do_run(handle, final_targets, final_fetches,\n\u001b[0;32m--> 965\u001b[0;31m                              feed_dict_string, options, run_metadata)\n\u001b[0m\u001b[1;32m    966\u001b[0m     \u001b[0;32melse\u001b[0m\u001b[0;34m:\u001b[0m\u001b[0;34m\u001b[0m\u001b[0m\n\u001b[1;32m    967\u001b[0m       \u001b[0mresults\u001b[0m \u001b[0;34m=\u001b[0m \u001b[0;34m[\u001b[0m\u001b[0;34m]\u001b[0m\u001b[0;34m\u001b[0m\u001b[0m\n",
      "\u001b[0;32m/rcg/software/Linux/Ubuntu/16.04/amd64/TOOLS/TENSORFLOW/1.0-GPU-PY2713/lib/python2.7/site-packages/tensorflow/python/client/session.pyc\u001b[0m in \u001b[0;36m_do_run\u001b[0;34m(self, handle, target_list, fetch_list, feed_dict, options, run_metadata)\u001b[0m\n\u001b[1;32m   1013\u001b[0m     \u001b[0;32mif\u001b[0m \u001b[0mhandle\u001b[0m \u001b[0;32mis\u001b[0m \u001b[0mNone\u001b[0m\u001b[0;34m:\u001b[0m\u001b[0;34m\u001b[0m\u001b[0m\n\u001b[1;32m   1014\u001b[0m       return self._do_call(_run_fn, self._session, feed_dict, fetch_list,\n\u001b[0;32m-> 1015\u001b[0;31m                            target_list, options, run_metadata)\n\u001b[0m\u001b[1;32m   1016\u001b[0m     \u001b[0;32melse\u001b[0m\u001b[0;34m:\u001b[0m\u001b[0;34m\u001b[0m\u001b[0m\n\u001b[1;32m   1017\u001b[0m       return self._do_call(_prun_fn, self._session, handle, feed_dict,\n",
      "\u001b[0;32m/rcg/software/Linux/Ubuntu/16.04/amd64/TOOLS/TENSORFLOW/1.0-GPU-PY2713/lib/python2.7/site-packages/tensorflow/python/client/session.pyc\u001b[0m in \u001b[0;36m_do_call\u001b[0;34m(self, fn, *args)\u001b[0m\n\u001b[1;32m   1033\u001b[0m         \u001b[0;32mexcept\u001b[0m \u001b[0mKeyError\u001b[0m\u001b[0;34m:\u001b[0m\u001b[0;34m\u001b[0m\u001b[0m\n\u001b[1;32m   1034\u001b[0m           \u001b[0;32mpass\u001b[0m\u001b[0;34m\u001b[0m\u001b[0m\n\u001b[0;32m-> 1035\u001b[0;31m       \u001b[0;32mraise\u001b[0m \u001b[0mtype\u001b[0m\u001b[0;34m(\u001b[0m\u001b[0me\u001b[0m\u001b[0;34m)\u001b[0m\u001b[0;34m(\u001b[0m\u001b[0mnode_def\u001b[0m\u001b[0;34m,\u001b[0m \u001b[0mop\u001b[0m\u001b[0;34m,\u001b[0m \u001b[0mmessage\u001b[0m\u001b[0;34m)\u001b[0m\u001b[0;34m\u001b[0m\u001b[0m\n\u001b[0m\u001b[1;32m   1036\u001b[0m \u001b[0;34m\u001b[0m\u001b[0m\n\u001b[1;32m   1037\u001b[0m   \u001b[0;32mdef\u001b[0m \u001b[0m_extend_graph\u001b[0m\u001b[0;34m(\u001b[0m\u001b[0mself\u001b[0m\u001b[0;34m)\u001b[0m\u001b[0;34m:\u001b[0m\u001b[0;34m\u001b[0m\u001b[0m\n",
      "\u001b[0;31mResourceExhaustedError\u001b[0m: OOM when allocating tensor with shape[200,13,1200]\n\t [[Node: training/Adadelta/gradients/lstm_2/transpose_grad/transpose = Transpose[T=DT_FLOAT, Tperm=DT_INT32, _class=[\"loc:@lstm_2/transpose\"], _device=\"/job:localhost/replica:0/task:0/gpu:0\"](training/Adadelta/gradients/lstm_2/TensorArrayUnstack/TensorArrayScatter/TensorArrayScatterV3_grad/TensorArrayGatherV3, training/Adadelta/gradients/lstm_2/transpose_grad/InvertPermutation)]]\n\nCaused by op u'training/Adadelta/gradients/lstm_2/transpose_grad/transpose', defined at:\n  File \"/usr/lib/python2.7/runpy.py\", line 174, in _run_module_as_main\n    \"__main__\", fname, loader, pkg_name)\n  File \"/usr/lib/python2.7/runpy.py\", line 72, in _run_code\n    exec code in run_globals\n  File \"/grad/3/asa224/.virtualenvs/nlp/lib/python2.7/site-packages/ipykernel_launcher.py\", line 16, in <module>\n    app.launch_new_instance()\n  File \"/grad/3/asa224/.virtualenvs/nlp/local/lib/python2.7/site-packages/traitlets/config/application.py\", line 658, in launch_instance\n    app.start()\n  File \"/grad/3/asa224/.virtualenvs/nlp/local/lib/python2.7/site-packages/ipykernel/kernelapp.py\", line 477, in start\n    ioloop.IOLoop.instance().start()\n  File \"/grad/3/asa224/.virtualenvs/nlp/local/lib/python2.7/site-packages/zmq/eventloop/ioloop.py\", line 177, in start\n    super(ZMQIOLoop, self).start()\n  File \"/grad/3/asa224/.virtualenvs/nlp/local/lib/python2.7/site-packages/tornado/ioloop.py\", line 888, in start\n    handler_func(fd_obj, events)\n  File \"/grad/3/asa224/.virtualenvs/nlp/local/lib/python2.7/site-packages/tornado/stack_context.py\", line 277, in null_wrapper\n    return fn(*args, **kwargs)\n  File \"/grad/3/asa224/.virtualenvs/nlp/local/lib/python2.7/site-packages/zmq/eventloop/zmqstream.py\", line 440, in _handle_events\n    self._handle_recv()\n  File \"/grad/3/asa224/.virtualenvs/nlp/local/lib/python2.7/site-packages/zmq/eventloop/zmqstream.py\", line 472, in _handle_recv\n    self._run_callback(callback, msg)\n  File \"/grad/3/asa224/.virtualenvs/nlp/local/lib/python2.7/site-packages/zmq/eventloop/zmqstream.py\", line 414, in _run_callback\n    callback(*args, **kwargs)\n  File \"/grad/3/asa224/.virtualenvs/nlp/local/lib/python2.7/site-packages/tornado/stack_context.py\", line 277, in null_wrapper\n    return fn(*args, **kwargs)\n  File \"/grad/3/asa224/.virtualenvs/nlp/local/lib/python2.7/site-packages/ipykernel/kernelbase.py\", line 283, in dispatcher\n    return self.dispatch_shell(stream, msg)\n  File \"/grad/3/asa224/.virtualenvs/nlp/local/lib/python2.7/site-packages/ipykernel/kernelbase.py\", line 235, in dispatch_shell\n    handler(stream, idents, msg)\n  File \"/grad/3/asa224/.virtualenvs/nlp/local/lib/python2.7/site-packages/ipykernel/kernelbase.py\", line 399, in execute_request\n    user_expressions, allow_stdin)\n  File \"/grad/3/asa224/.virtualenvs/nlp/local/lib/python2.7/site-packages/ipykernel/ipkernel.py\", line 196, in do_execute\n    res = shell.run_cell(code, store_history=store_history, silent=silent)\n  File \"/grad/3/asa224/.virtualenvs/nlp/local/lib/python2.7/site-packages/ipykernel/zmqshell.py\", line 533, in run_cell\n    return super(ZMQInteractiveShell, self).run_cell(*args, **kwargs)\n  File \"/grad/3/asa224/.virtualenvs/nlp/local/lib/python2.7/site-packages/IPython/core/interactiveshell.py\", line 2718, in run_cell\n    interactivity=interactivity, compiler=compiler, result=result)\n  File \"/grad/3/asa224/.virtualenvs/nlp/local/lib/python2.7/site-packages/IPython/core/interactiveshell.py\", line 2822, in run_ast_nodes\n    if self.run_code(code, result):\n  File \"/grad/3/asa224/.virtualenvs/nlp/local/lib/python2.7/site-packages/IPython/core/interactiveshell.py\", line 2882, in run_code\n    exec(code_obj, self.user_global_ns, self.user_ns)\n  File \"<ipython-input-29-f5f550a87e93>\", line 2, in <module>\n    batch_size=200, verbose=1, validation_data=[X_test, y_test])\n  File \"/grad/3/asa224/.virtualenvs/nlp/local/lib/python2.7/site-packages/keras/models.py\", line 867, in fit\n    initial_epoch=initial_epoch)\n  File \"/grad/3/asa224/.virtualenvs/nlp/local/lib/python2.7/site-packages/keras/engine/training.py\", line 1575, in fit\n    self._make_train_function()\n  File \"/grad/3/asa224/.virtualenvs/nlp/local/lib/python2.7/site-packages/keras/engine/training.py\", line 960, in _make_train_function\n    loss=self.total_loss)\n  File \"/grad/3/asa224/.virtualenvs/nlp/local/lib/python2.7/site-packages/keras/legacy/interfaces.py\", line 87, in wrapper\n    return func(*args, **kwargs)\n  File \"/grad/3/asa224/.virtualenvs/nlp/local/lib/python2.7/site-packages/keras/optimizers.py\", line 344, in get_updates\n    grads = self.get_gradients(loss, params)\n  File \"/grad/3/asa224/.virtualenvs/nlp/local/lib/python2.7/site-packages/keras/optimizers.py\", line 73, in get_gradients\n    grads = K.gradients(loss, params)\n  File \"/grad/3/asa224/.virtualenvs/nlp/local/lib/python2.7/site-packages/keras/backend/tensorflow_backend.py\", line 2310, in gradients\n    return tf.gradients(loss, variables, colocate_gradients_with_ops=True)\n  File \"/rcg/software/Linux/Ubuntu/16.04/amd64/TOOLS/TENSORFLOW/1.0-GPU-PY2713/lib/python2.7/site-packages/tensorflow/python/ops/gradients_impl.py\", line 482, in gradients\n    in_grads = grad_fn(op, *out_grads)\n  File \"/rcg/software/Linux/Ubuntu/16.04/amd64/TOOLS/TENSORFLOW/1.0-GPU-PY2713/lib/python2.7/site-packages/tensorflow/python/ops/array_grad.py\", line 419, in _TransposeGrad\n    return [array_ops.transpose(grad, array_ops.invert_permutation(p)), None]\n  File \"/rcg/software/Linux/Ubuntu/16.04/amd64/TOOLS/TENSORFLOW/1.0-GPU-PY2713/lib/python2.7/site-packages/tensorflow/python/ops/array_ops.py\", line 1288, in transpose\n    ret = gen_array_ops.transpose(a, perm, name=name)\n  File \"/rcg/software/Linux/Ubuntu/16.04/amd64/TOOLS/TENSORFLOW/1.0-GPU-PY2713/lib/python2.7/site-packages/tensorflow/python/ops/gen_array_ops.py\", line 3841, in transpose\n    result = _op_def_lib.apply_op(\"Transpose\", x=x, perm=perm, name=name)\n  File \"/rcg/software/Linux/Ubuntu/16.04/amd64/TOOLS/TENSORFLOW/1.0-GPU-PY2713/lib/python2.7/site-packages/tensorflow/python/framework/op_def_library.py\", line 763, in apply_op\n    op_def=op_def)\n  File \"/rcg/software/Linux/Ubuntu/16.04/amd64/TOOLS/TENSORFLOW/1.0-GPU-PY2713/lib/python2.7/site-packages/tensorflow/python/framework/ops.py\", line 2395, in create_op\n    original_op=self._default_original_op, op_def=op_def)\n  File \"/rcg/software/Linux/Ubuntu/16.04/amd64/TOOLS/TENSORFLOW/1.0-GPU-PY2713/lib/python2.7/site-packages/tensorflow/python/framework/ops.py\", line 1264, in __init__\n    self._traceback = _extract_stack()\n\n...which was originally created as op u'lstm_2/transpose', defined at:\n  File \"/usr/lib/python2.7/runpy.py\", line 174, in _run_module_as_main\n    \"__main__\", fname, loader, pkg_name)\n[elided 18 identical lines from previous traceback]\n  File \"/grad/3/asa224/.virtualenvs/nlp/local/lib/python2.7/site-packages/IPython/core/interactiveshell.py\", line 2882, in run_code\n    exec(code_obj, self.user_global_ns, self.user_ns)\n  File \"<ipython-input-28-9f926a8a16e9>\", line 7, in <module>\n    model.add(LSTM(300, return_sequences=True))\n  File \"/grad/3/asa224/.virtualenvs/nlp/local/lib/python2.7/site-packages/keras/models.py\", line 475, in add\n    output_tensor = layer(self.outputs[0])\n  File \"/grad/3/asa224/.virtualenvs/nlp/local/lib/python2.7/site-packages/keras/layers/recurrent.py\", line 268, in __call__\n    return super(Recurrent, self).__call__(inputs, **kwargs)\n  File \"/grad/3/asa224/.virtualenvs/nlp/local/lib/python2.7/site-packages/keras/engine/topology.py\", line 602, in __call__\n    output = self.call(inputs, **kwargs)\n  File \"/grad/3/asa224/.virtualenvs/nlp/local/lib/python2.7/site-packages/keras/layers/recurrent.py\", line 348, in call\n    input_length=timesteps)\n  File \"/grad/3/asa224/.virtualenvs/nlp/local/lib/python2.7/site-packages/keras/backend/tensorflow_backend.py\", line 2385, in rnn\n    inputs = tf.transpose(inputs, (axes))\n  File \"/rcg/software/Linux/Ubuntu/16.04/amd64/TOOLS/TENSORFLOW/1.0-GPU-PY2713/lib/python2.7/site-packages/tensorflow/python/ops/array_ops.py\", line 1288, in transpose\n    ret = gen_array_ops.transpose(a, perm, name=name)\n  File \"/rcg/software/Linux/Ubuntu/16.04/amd64/TOOLS/TENSORFLOW/1.0-GPU-PY2713/lib/python2.7/site-packages/tensorflow/python/ops/gen_array_ops.py\", line 3841, in transpose\n    result = _op_def_lib.apply_op(\"Transpose\", x=x, perm=perm, name=name)\n  File \"/rcg/software/Linux/Ubuntu/16.04/amd64/TOOLS/TENSORFLOW/1.0-GPU-PY2713/lib/python2.7/site-packages/tensorflow/python/framework/op_def_library.py\", line 763, in apply_op\n    op_def=op_def)\n  File \"/rcg/software/Linux/Ubuntu/16.04/amd64/TOOLS/TENSORFLOW/1.0-GPU-PY2713/lib/python2.7/site-packages/tensorflow/python/framework/ops.py\", line 2395, in create_op\n    original_op=self._default_original_op, op_def=op_def)\n  File \"/rcg/software/Linux/Ubuntu/16.04/amd64/TOOLS/TENSORFLOW/1.0-GPU-PY2713/lib/python2.7/site-packages/tensorflow/python/framework/ops.py\", line 1264, in __init__\n    self._traceback = _extract_stack()\n\nResourceExhaustedError (see above for traceback): OOM when allocating tensor with shape[200,13,1200]\n\t [[Node: training/Adadelta/gradients/lstm_2/transpose_grad/transpose = Transpose[T=DT_FLOAT, Tperm=DT_INT32, _class=[\"loc:@lstm_2/transpose\"], _device=\"/job:localhost/replica:0/task:0/gpu:0\"](training/Adadelta/gradients/lstm_2/TensorArrayUnstack/TensorArrayScatter/TensorArrayScatterV3_grad/TensorArrayGatherV3, training/Adadelta/gradients/lstm_2/transpose_grad/InvertPermutation)]]\n"
     ]
    }
   ],
   "source": [
    "history = model.fit(X_train, y_train, epochs=1, \n",
    "          batch_size=200, verbose=1, validation_data=[X_test, y_test])\n",
    "model.save('/home/asa224/Desktop/students_less_asa224/Test Folder on Less/model_timestamps_13_epoch1.h5')"
   ]
  },
  {
   "cell_type": "code",
   "execution_count": null,
   "metadata": {},
   "outputs": [],
   "source": [
    "history2 = model.fit(X_train, y_train, epochs=1, \n",
    "          batch_size=200, verbose=1, validation_data=[X_test, y_test])\n",
    "model.save('/home/asa224/Desktop/students_less_asa224/Test Folder on Less/model_timestamps_13_epoch2.h5')"
   ]
  },
  {
   "cell_type": "code",
   "execution_count": null,
   "metadata": {},
   "outputs": [],
   "source": [
    "history3 = model.fit(X_train, y_train, epochs=1, \n",
    "          batch_size=200, verbose=1, validation_data=[X_test, y_test])\n",
    "model.save('/home/asa224/Desktop/students_less_asa224/Test Folder on Less/model_timestamps_13_epoch3.h5')"
   ]
  },
  {
   "cell_type": "markdown",
   "metadata": {},
   "source": [
    "# Testing the model on input data"
   ]
  }
 ],
 "metadata": {
  "kernelspec": {
   "display_name": "Python 2",
   "language": "python",
   "name": "python2"
  },
  "language_info": {
   "codemirror_mode": {
    "name": "ipython",
    "version": 2
   },
   "file_extension": ".py",
   "mimetype": "text/x-python",
   "name": "python",
   "nbconvert_exporter": "python",
   "pygments_lexer": "ipython2",
   "version": "2.7.12"
  }
 },
 "nbformat": 4,
 "nbformat_minor": 2
}
