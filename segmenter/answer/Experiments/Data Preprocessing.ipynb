{
 "cells": [
  {
   "cell_type": "code",
   "execution_count": 2,
   "metadata": {},
   "outputs": [],
   "source": [
    "from __future__ import print_function\n",
    "import decimal"
   ]
  },
  {
   "cell_type": "code",
   "execution_count": 37,
   "metadata": {},
   "outputs": [
    {
     "name": "stdout",
     "output_type": "stream",
     "text": [
      "[u'\\u6cd5', u'\\u6b63', u'\\u7814', u'\\u7a76', u'\\u4ece', u'\\u6ce2', u'\\u9ed1', u'\\u64a4', u'\\u519b', u'\\u8ba1', u'\\u5212', u'\\n']\n",
      "u'\\u6cd5'\n",
      "u'\\u6b63'\n",
      "u'\\u7814'\n",
      "u'\\u7a76'\n",
      "u'\\u4ece'\n",
      "u'\\u6ce2'\n",
      "u'\\u9ed1'\n",
      "u'\\u64a4'\n",
      "u'\\u519b'\n",
      "u'\\u8ba1'\n",
      "u'\\u5212'\n",
      "u'\\n'\n"
     ]
    }
   ],
   "source": [
    "input_filename = '../../data/input'\n",
    "counts_filename = '../../data/count_1w.txt'\n",
    "\n",
    "input_file = open(input_filename, 'rb')\n",
    "counts_file = open(counts_filename, 'rb')\n",
    "\n",
    "# read the first line from the input file and convert it into a list of characters\n",
    "\n",
    "for input_line in input_file:\n",
    "    input_chars = [i for i in unicode(input_line, 'utf-8')]\n",
    "    print(input_chars)\n",
    "    for ind_chars in input_chars:\n",
    "        print(repr(ind_chars))\n",
    "    break"
   ]
  },
  {
   "cell_type": "code",
   "execution_count": 42,
   "metadata": {},
   "outputs": [
    {
     "data": {
      "text/plain": [
       "['u', '\\\\n', '']"
      ]
     },
     "execution_count": 42,
     "metadata": {},
     "output_type": "execute_result"
    }
   ],
   "source": [
    "repr(ind_chars).split('\\'')"
   ]
  },
  {
   "cell_type": "code",
   "execution_count": 31,
   "metadata": {},
   "outputs": [
    {
     "data": {
      "text/plain": [
       "230"
      ]
     },
     "execution_count": 31,
     "metadata": {},
     "output_type": "execute_result"
    }
   ],
   "source": [
    "int(''.join([repr(ind_chars)[3], repr(ind_chars)[4]]), 16)"
   ]
  },
  {
   "cell_type": "code",
   "execution_count": null,
   "metadata": {},
   "outputs": [],
   "source": [
    "# iterate through the counts file to find all instances which match the first character at position 0\n",
    "for word_line in counts_file:\n",
    "    key, freq = word_line.split('\\t')\n",
    "    word_chars = [i for i in unicode(key, 'utf-8')]\n",
    "\n",
    "    # compare the first character of the word from counts file to the first character of input line\n",
    "    if word_chars[0] == input_chars[0]:\n",
    "        print('Input: {}'.format(\"\".join(input_chars).encode('utf-8')))\n",
    "        print('Matched: {}\\n'.format(\"\".join(word_chars).encode('utf-8')))\n",
    "\n",
    "        # create a new entry. Note the .encode('utf-8) which is very important here. We use log_2 \n",
    "        # probability here. \n",
    "        entry = chartEntry(\"\".join(word_chars).encode('utf-8'), start_pos=0, end_pos=len(word_chars),\\\n",
    "                                            log_prob=np.log2(Pw(\"\".join(word_chars))), back_ptr=None,\\\n",
    "                                            sort_acc_to=sort_acc_to)\n",
    "        print(entry, '\\n')\n",
    "\n",
    "        # push the new entry to the heap\n",
    "        heap.push(entry)"
   ]
  },
  {
   "cell_type": "code",
   "execution_count": 1,
   "metadata": {},
   "outputs": [
    {
     "name": "stdout",
     "output_type": "stream",
     "text": [
      "hello world\n",
      "[7, 4, 11, 11, 14, 26, 22, 14, 17, 11, 3]\n",
      "[[0, 0, 0, 0, 0, 0, 0, 1, 0, 0, 0, 0, 0, 0, 0, 0, 0, 0, 0, 0, 0, 0, 0, 0, 0, 0, 0], [0, 0, 0, 0, 1, 0, 0, 0, 0, 0, 0, 0, 0, 0, 0, 0, 0, 0, 0, 0, 0, 0, 0, 0, 0, 0, 0], [0, 0, 0, 0, 0, 0, 0, 0, 0, 0, 0, 1, 0, 0, 0, 0, 0, 0, 0, 0, 0, 0, 0, 0, 0, 0, 0], [0, 0, 0, 0, 0, 0, 0, 0, 0, 0, 0, 1, 0, 0, 0, 0, 0, 0, 0, 0, 0, 0, 0, 0, 0, 0, 0], [0, 0, 0, 0, 0, 0, 0, 0, 0, 0, 0, 0, 0, 0, 1, 0, 0, 0, 0, 0, 0, 0, 0, 0, 0, 0, 0], [0, 0, 0, 0, 0, 0, 0, 0, 0, 0, 0, 0, 0, 0, 0, 0, 0, 0, 0, 0, 0, 0, 0, 0, 0, 0, 1], [0, 0, 0, 0, 0, 0, 0, 0, 0, 0, 0, 0, 0, 0, 0, 0, 0, 0, 0, 0, 0, 0, 1, 0, 0, 0, 0], [0, 0, 0, 0, 0, 0, 0, 0, 0, 0, 0, 0, 0, 0, 1, 0, 0, 0, 0, 0, 0, 0, 0, 0, 0, 0, 0], [0, 0, 0, 0, 0, 0, 0, 0, 0, 0, 0, 0, 0, 0, 0, 0, 0, 1, 0, 0, 0, 0, 0, 0, 0, 0, 0], [0, 0, 0, 0, 0, 0, 0, 0, 0, 0, 0, 1, 0, 0, 0, 0, 0, 0, 0, 0, 0, 0, 0, 0, 0, 0, 0], [0, 0, 0, 1, 0, 0, 0, 0, 0, 0, 0, 0, 0, 0, 0, 0, 0, 0, 0, 0, 0, 0, 0, 0, 0, 0, 0]]\n",
      "h\n"
     ]
    }
   ],
   "source": [
    "from numpy import argmax\n",
    "# define input string\n",
    "data = 'hello world'\n",
    "print(data)\n",
    "# define universe of possible input values\n",
    "alphabet = 'abcdefghijklmnopqrstuvwxyz '\n",
    "# define a mapping of chars to integers\n",
    "char_to_int = dict((c, i) for i, c in enumerate(alphabet))\n",
    "int_to_char = dict((i, c) for i, c in enumerate(alphabet))\n",
    "# integer encode input data\n",
    "integer_encoded = [char_to_int[char] for char in data]\n",
    "print(integer_encoded)\n",
    "# one hot encode\n",
    "onehot_encoded = list()\n",
    "for value in integer_encoded:\n",
    "\tletter = [0 for _ in range(len(alphabet))]\n",
    "\tletter[value] = 1\n",
    "\tonehot_encoded.append(letter)\n",
    "print(onehot_encoded)\n",
    "# invert encoding\n",
    "inverted = int_to_char[argmax(onehot_encoded[0])]\n",
    "print(inverted)"
   ]
  },
  {
   "cell_type": "code",
   "execution_count": null,
   "metadata": {},
   "outputs": [],
   "source": []
  }
 ],
 "metadata": {
  "kernelspec": {
   "display_name": "Python 2",
   "language": "python",
   "name": "python2"
  },
  "language_info": {
   "codemirror_mode": {
    "name": "ipython",
    "version": 2
   },
   "file_extension": ".py",
   "mimetype": "text/x-python",
   "name": "python",
   "nbconvert_exporter": "python",
   "pygments_lexer": "ipython2",
   "version": "2.7.12"
  }
 },
 "nbformat": 4,
 "nbformat_minor": 2
}
