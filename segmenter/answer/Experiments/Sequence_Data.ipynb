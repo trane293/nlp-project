{
 "cells": [
  {
   "cell_type": "markdown",
   "metadata": {},
   "source": [
    "# <span style='color:orange'> Modelling Chinese Word Segmentation as Sequence to Sequence Prediction Problem </span>"
   ]
  },
  {
   "cell_type": "markdown",
   "metadata": {},
   "source": [
    "# Generate data for sequence to sequence modelling"
   ]
  },
  {
   "cell_type": "markdown",
   "metadata": {},
   "source": [
    "This returns the structure \"data\" which contains sentences as individual lists, along with the class label of each character. "
   ]
  },
  {
   "cell_type": "code",
   "execution_count": null,
   "metadata": {},
   "outputs": [],
   "source": [
    "import numpy as np\n",
    "import collections\n",
    "from sklearn.model_selection import train_test_split\n",
    "import keras\n",
    "from keras.utils.np_utils import to_categorical\n",
    "from keras.preprocessing import sequence"
   ]
  },
  {
   "cell_type": "code",
   "execution_count": null,
   "metadata": {},
   "outputs": [],
   "source": [
    "# we open the count file, get the word and assign labels to each character\n",
    "# cannot use dictionaries, since the same character may appear again and overwrites the value at its place in dict.\n",
    "\n",
    "filepath = '/local-scratch/asa224/wseg_simplified_cn.txt'\n",
    "# filepath = '/mnt/D82A1A8F2A1A6B30/wseg_simplified_cn.txt'\n",
    "with(open(filepath, 'rb')) as f:\n",
    "    data = [[]]\n",
    "    count = 0\n",
    "    for line in f:\n",
    "        line = unicode(line, 'utf-8')\n",
    "        line = line.replace('\\n', '')\n",
    "        words = line.split(' ')\n",
    "        \n",
    "        for word in words:\n",
    "            if len(word) == 1:\n",
    "                data[count].append((word[0], 3))\n",
    "            else:\n",
    "                for i, character in enumerate(word):\n",
    "                    if i == 0: # this is the first letter\n",
    "                        data[count].append((character, 0))\n",
    "                    elif i == (len(word) - 1): # this is the last letter\n",
    "                        data[count].append((character, 2))\n",
    "                    else: # this is somewhere in the middle\n",
    "                        data[count].append((character, 1))\n",
    "        data.append([])\n",
    "        count += 1\n",
    "        \n",
    "    f.close()"
   ]
  },
  {
   "cell_type": "markdown",
   "metadata": {},
   "source": [
    "# Build initial integer embeddings"
   ]
  },
  {
   "cell_type": "code",
   "execution_count": null,
   "metadata": {},
   "outputs": [],
   "source": [
    "all_chars = [data[i][j][0] for i in range(0, len(data)) for j in range(0, len(data[i]))]"
   ]
  },
  {
   "cell_type": "code",
   "execution_count": null,
   "metadata": {},
   "outputs": [],
   "source": [
    "len(all_chars)"
   ]
  },
  {
   "cell_type": "code",
   "execution_count": null,
   "metadata": {},
   "outputs": [],
   "source": [
    "def build_dataset(words):\n",
    "    count = collections.Counter(words).most_common()\n",
    "    dictionary = dict()\n",
    "    for word, _ in count:\n",
    "        dictionary[word] = len(dictionary)\n",
    "    reverse_dictionary = dict(zip(dictionary.values(), dictionary.keys()))\n",
    "    return dictionary, reverse_dictionary"
   ]
  },
  {
   "cell_type": "code",
   "execution_count": null,
   "metadata": {},
   "outputs": [],
   "source": [
    "orig_dict, ret_dict = build_dataset(all_chars)\n",
    "del all_chars"
   ]
  },
  {
   "cell_type": "code",
   "execution_count": null,
   "metadata": {},
   "outputs": [],
   "source": [
    "ret_dict[orig_dict[u'\\u6743']]"
   ]
  },
  {
   "cell_type": "code",
   "execution_count": null,
   "metadata": {},
   "outputs": [],
   "source": [
    "len(orig_dict)"
   ]
  },
  {
   "cell_type": "markdown",
   "metadata": {},
   "source": [
    "## Create sequences suitable for training"
   ]
  },
  {
   "cell_type": "code",
   "execution_count": null,
   "metadata": {},
   "outputs": [],
   "source": [
    "x = [[]]\n",
    "y = [[]]\n",
    "for i in range(0, len(data)): # iterate over the whole dataset\n",
    "    for j in range(0, len(data[i])): # iterate over the current sentence\n",
    "        x[i].append(orig_dict[data[i][j][0]])\n",
    "        y[i].append(data[i][j][1])\n",
    "    x.append([])\n",
    "    y.append([])"
   ]
  },
  {
   "cell_type": "code",
   "execution_count": null,
   "metadata": {},
   "outputs": [],
   "source": [
    "del data"
   ]
  },
  {
   "cell_type": "code",
   "execution_count": null,
   "metadata": {},
   "outputs": [],
   "source": [
    "X_train, X_test, y_train, y_test = train_test_split(x, y, test_size=0.20, shuffle=False, random_state=42)"
   ]
  },
  {
   "cell_type": "code",
   "execution_count": null,
   "metadata": {},
   "outputs": [],
   "source": [
    "print('Size of the Dataset\\n')\n",
    "print('X_TRAIN: {}'.format(np.shape(X_train)))\n",
    "print('Y_TRAIN: {}'.format(np.shape(y_train)))\n",
    "\n",
    "print('X_TEST: {}'.format(np.shape(X_test)))\n",
    "print('Y_TEST: {}'.format(np.shape(y_test)))"
   ]
  },
  {
   "cell_type": "markdown",
   "metadata": {},
   "source": [
    "## Convert the labels to categorical. "
   ]
  },
  {
   "cell_type": "markdown",
   "metadata": {},
   "source": [
    "This is what they look like now"
   ]
  },
  {
   "cell_type": "code",
   "execution_count": null,
   "metadata": {},
   "outputs": [],
   "source": [
    "for i in y_train:\n",
    "    print(i)\n",
    "    break"
   ]
  },
  {
   "cell_type": "markdown",
   "metadata": {},
   "source": [
    "### Start conversion"
   ]
  },
  {
   "cell_type": "markdown",
   "metadata": {},
   "source": [
    "Training labels"
   ]
  },
  {
   "cell_type": "code",
   "execution_count": null,
   "metadata": {},
   "outputs": [],
   "source": [
    "for i in range(0, len(y_train)):\n",
    "    y_train[i] = to_categorical(y_train[i], num_classes=4)"
   ]
  },
  {
   "cell_type": "markdown",
   "metadata": {},
   "source": [
    "Testing labels <br>\n",
    "There are empty lists in the test set, let's remove them. "
   ]
  },
  {
   "cell_type": "code",
   "execution_count": null,
   "metadata": {},
   "outputs": [],
   "source": [
    "X_test = [t for t in X_test if t != []]\n",
    "y_test = [t for t in y_test if t != []]"
   ]
  },
  {
   "cell_type": "code",
   "execution_count": null,
   "metadata": {},
   "outputs": [],
   "source": [
    "for i in range(0, len(y_test)):\n",
    "    y_test[i] = to_categorical(y_test[i], num_classes=4)"
   ]
  },
  {
   "cell_type": "markdown",
   "metadata": {},
   "source": [
    "This how it looks now"
   ]
  },
  {
   "cell_type": "code",
   "execution_count": null,
   "metadata": {
    "scrolled": true
   },
   "outputs": [],
   "source": [
    "for i in y_train:\n",
    "    print(i)\n",
    "    break"
   ]
  },
  {
   "cell_type": "markdown",
   "metadata": {},
   "source": [
    "Firstly, we must update the get_sequence() function to reshape the input and output sequences to be 3-dimensional to meet the expectations of the LSTM. The expected structure has the dimensions [samples, timesteps, features]. The classification problem has 1 sample (e.g. one sequence), a configurable number of timesteps, and one feature per timestep."
   ]
  },
  {
   "cell_type": "markdown",
   "metadata": {},
   "source": [
    "Let's reshape the training and testing data"
   ]
  },
  {
   "cell_type": "code",
   "execution_count": null,
   "metadata": {},
   "outputs": [],
   "source": [
    "# maximum length of the sequence\n",
    "maxval = len(max(X_train,key=len))"
   ]
  },
  {
   "cell_type": "code",
   "execution_count": null,
   "metadata": {},
   "outputs": [],
   "source": [
    "X_train = sequence.pad_sequences(X_train, value=-1, maxlen=100)\n",
    "y_train = sequence.pad_sequences(y_train, value=-1, maxlen=100)\n",
    "\n",
    "X_test = sequence.pad_sequences(X_test, value=-1, maxlen=100)\n",
    "y_test = sequence.pad_sequences(y_test, value=-1, maxlen=100)"
   ]
  },
  {
   "cell_type": "code",
   "execution_count": null,
   "metadata": {},
   "outputs": [],
   "source": [
    "# reshape input and output data to be suitable for LSTMs\n",
    "n_timesteps = 100\n",
    "X_train = X_train.reshape(np.shape(X_train)[0], n_timesteps, 1)\n",
    "y_train = y_train.reshape(np.shape(y_train)[0], n_timesteps, 4)\n",
    "\n",
    "\n",
    "X_test = X_test.reshape(np.shape(X_test)[0], n_timesteps, 1)\n",
    "y_test = y_test.reshape(np.shape(y_test)[0], n_timesteps, 4)"
   ]
  },
  {
   "cell_type": "code",
   "execution_count": null,
   "metadata": {},
   "outputs": [],
   "source": [
    "X_train.shape"
   ]
  },
  {
   "cell_type": "code",
   "execution_count": null,
   "metadata": {},
   "outputs": [],
   "source": [
    "from keras.models import Sequential\n",
    "from keras.layers import LSTM, TimeDistributed, Dense, Masking\n",
    "# define LSTM\n",
    "model = Sequential()\n",
    "model.add(Masking(mask_value=-1, input_shape=(n_timesteps, 1)))\n",
    "model.add(LSTM(20, return_sequences=True))\n",
    "model.add(LSTM(20, return_sequences=True))\n",
    "model.add(TimeDistributed(Dense(4, activation='softmax')))\n",
    "model.compile(loss='categorical_crossentropy', optimizer='adadelta', metrics=['acc'])\n",
    "model.summary()"
   ]
  },
  {
   "cell_type": "code",
   "execution_count": null,
   "metadata": {},
   "outputs": [],
   "source": []
  },
  {
   "cell_type": "code",
   "execution_count": null,
   "metadata": {},
   "outputs": [],
   "source": [
    "history = model.fit(X_train, y_train, epochs=1, \n",
    "          batch_size=100, verbose=1, validation_data=[X_test, y_test])"
   ]
  },
  {
   "cell_type": "code",
   "execution_count": null,
   "metadata": {},
   "outputs": [],
   "source": []
  }
 ],
 "metadata": {
  "kernelspec": {
   "display_name": "Python 2",
   "language": "python",
   "name": "python2"
  },
  "language_info": {
   "codemirror_mode": {
    "name": "ipython",
    "version": 2
   },
   "file_extension": ".py",
   "mimetype": "text/x-python",
   "name": "python",
   "nbconvert_exporter": "python",
   "pygments_lexer": "ipython2",
   "version": "2.7.12"
  }
 },
 "nbformat": 4,
 "nbformat_minor": 2
}
