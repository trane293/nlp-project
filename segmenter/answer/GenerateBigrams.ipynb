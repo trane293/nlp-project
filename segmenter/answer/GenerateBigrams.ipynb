{
 "cells": [
  {
   "cell_type": "code",
   "execution_count": 1,
   "metadata": {},
   "outputs": [],
   "source": [
    "import nltk\n",
    "from nltk import word_tokenize\n",
    "from nltk.util import ngrams\n",
    "from collections import Counter\n",
    "\n",
    "filepath = '/home/asa224/Desktop/students_less_asa224/Test Folder on Less/wseg_simplified_cn.txt'\n",
    "inp_file = open(filepath)\n",
    "\n",
    "all_text = inp_file.read()\n",
    "\n",
    "token = nltk.word_tokenize(unicode(all_text, 'utf-8'))\n",
    "bigrams = ngrams(token,2)\n",
    "\n",
    "c = Counter(bigrams)\n",
    "\n",
    "outfile = open('./bigram_counts', 'wb')\n",
    "\n",
    "for bigram, count in c.iteritems():\n",
    "    \n",
    "    outfile.write(bigram[0].encode('utf-8') + ' '.encode('utf-8') + bigram[1].encode('utf-8') +\\\n",
    "                  '\\t'.encode('utf-8') + str(count) + '\\n'.encode('utf-8'))\n",
    "\n",
    "outfile.close()"
   ]
  },
  {
   "cell_type": "code",
   "execution_count": null,
   "metadata": {},
   "outputs": [],
   "source": []
  }
 ],
 "metadata": {
  "kernelspec": {
   "display_name": "Python 2",
   "language": "python",
   "name": "python2"
  },
  "language_info": {
   "codemirror_mode": {
    "name": "ipython",
    "version": 2
   },
   "file_extension": ".py",
   "mimetype": "text/x-python",
   "name": "python",
   "nbconvert_exporter": "python",
   "pygments_lexer": "ipython2",
   "version": "2.7.12"
  }
 },
 "nbformat": 4,
 "nbformat_minor": 2
}
