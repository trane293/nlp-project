{
 "cells": [
  {
   "cell_type": "code",
   "execution_count": 29,
   "metadata": {},
   "outputs": [],
   "source": [
    "class chartEntry:\n",
    "    \"\"\"\n",
    "    This class implements the data structure \"Entry\" described in the baseline\n",
    "    algorithm. The pseduocode for the description is:\n",
    "    \n",
    "    Entry(word, start-position, end-position, log-probability, back-pointer)\n",
    "    \n",
    "    We define the __lt__ and __eq__ operators to allow comparisons betwen two entries when \n",
    "    trying to push them into the heap. This operator respects the sort_acc_to variable and \n",
    "    provides boolean value accordingly. \n",
    "\n",
    "    It supports operations based on two ideas - i) sorting by start_pos\n",
    "                                                ii) sorting by log_prob. \n",
    "        \n",
    "    EXAMPLE USAGE: \n",
    "        p = chartEntry('Anmol', 0, 4, 0.2, -1, sort_acc_to='start_pos')\n",
    "        print(p)\n",
    "        p.get_item('log_prob')\n",
    "        e1 = chartEntry('Anmol', 0, 4, 0.2, -1)\n",
    "        e2 = chartEntry(\"Shreeashish\", 5, 10, 0.5, 0)\n",
    "        e3 = chartEntry('Amir Ali', 11, 16, 0.4, 1)\n",
    "        \n",
    "    This work is a part of the Assignment 1 of CMPT 825 Natural Language Processing\n",
    "    taught by Prof. Anoop Sarkar. \n",
    "    \n",
    "    AUTHOR: Anmol Sharma, GroupNLP\n",
    "    INSTITUTION: Simon Fraser University\n",
    "    \"\"\"\n",
    "    \n",
    "    def __init__(self, word, start_pos, end_pos, log_prob, back_ptr, sort_acc_to='start_pos'):\n",
    "        self.instance = {}\n",
    "        self.instance['word'] = word\n",
    "        self.instance['start_pos'] = start_pos\n",
    "        self.instance['end_pos'] = end_pos\n",
    "        self.instance['log_prob'] = log_prob\n",
    "        self.instance['back_ptr'] = back_ptr\n",
    "        self.__sort_type = sort_acc_to\n",
    "        \n",
    "    def __repr__(self):\n",
    "        return \"chartEntry(%s, %d, %d, %f, %f)\" % (self.instance['word'], self.instance['start_pos'], \\\n",
    "                                              self.instance['end_pos'], self.instance['log_prob'],\\\n",
    "                                              self.instance['back_ptr'])\n",
    "    \n",
    "    def __lt__(self, other_obj):\n",
    "        if self.__sort_type == 'start_pos':\n",
    "            return (self.instance['start_pos'] < other_obj.instance['start_pos'])\n",
    "        else:\n",
    "            return (self.instance['log_prob'] < other_obj.instance['log_prob'])\n",
    "    \n",
    "    def __eq__(self,other_obj):\n",
    "        if self.__sort_type == 'start_pos':\n",
    "            return (self.instance['start_pos'] == other_obj.instance['start_pos'])\n",
    "        else:\n",
    "            return (self.instance['log_prob'] == other_obj.instance['log_prob'])\n",
    "    \n",
    "    def get_item(self, key):\n",
    "        return self.instance[key] if key in self.instance else \"Undefined Key\"\n",
    "    "
   ]
  },
  {
   "cell_type": "code",
   "execution_count": null,
   "metadata": {},
   "outputs": [],
   "source": []
  }
 ],
 "metadata": {
  "kernelspec": {
   "display_name": "Python 2",
   "language": "python",
   "name": "python2"
  },
  "language_info": {
   "codemirror_mode": {
    "name": "ipython",
    "version": 2
   },
   "file_extension": ".py",
   "mimetype": "text/x-python",
   "name": "python",
   "nbconvert_exporter": "python",
   "pygments_lexer": "ipython2",
   "version": "2.7.12"
  }
 },
 "nbformat": 4,
 "nbformat_minor": 2
}
